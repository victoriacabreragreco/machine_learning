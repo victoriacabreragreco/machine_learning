{
 "cells": [
  {
   "cell_type": "markdown",
   "metadata": {},
   "source": [
    "<h1 style=\"text-align:center\">\n",
    "    Pump it Up: Data Mining the Water Table\n",
    "</h1>\n",
    "\n",
    "<h2 style=\"text-align:center\">\n",
    "    Victoria Ornela Cabrera Greco  \n",
    "    <br/> <br/>\n",
    "    21-03-2021\n",
    "</h2>"
   ]
  },
  {
   "cell_type": "code",
   "execution_count": 3,
   "metadata": {},
   "outputs": [],
   "source": [
    "\n",
    "import pandas as pd\n",
    "import seaborn as sns  \n",
    "import matplotlib.pyplot  as plt\n",
    "from scipy import stats\n",
    "import numpy as np\n",
    "from sklearn.model_selection import train_test_split\n",
    "import numpy as np\n",
    "from sklearn.preprocessing import LabelEncoder, OneHotEncoder\n",
    "\n",
    "from sklearn.tree import DecisionTreeClassifier\n",
    "\n",
    "from sklearn.linear_model import LinearRegression\n",
    "from sklearn.ensemble import RandomForestClassifier\n",
    "from sklearn.model_selection import train_test_split\n",
    "\n",
    "from sklearn.model_selection import cross_val_score\n",
    "from xgboost import XGBClassifier\n",
    "\n",
    "from sklearn.decomposition import PCA\n",
    "from sklearn.linear_model import LogisticRegression\n",
    "from sklearn.model_selection import GridSearchCV"
   ]
  },
  {
   "cell_type": "markdown",
   "metadata": {},
   "source": [
    "## Carga Datos"
   ]
  },
  {
   "cell_type": "code",
   "execution_count": 4,
   "metadata": {},
   "outputs": [],
   "source": [
    "data_test = pd.read_csv('test_set.csv')"
   ]
  },
  {
   "cell_type": "code",
   "execution_count": 5,
   "metadata": {},
   "outputs": [
    {
     "data": {
      "text/html": [
       "<div>\n",
       "<style scoped>\n",
       "    .dataframe tbody tr th:only-of-type {\n",
       "        vertical-align: middle;\n",
       "    }\n",
       "\n",
       "    .dataframe tbody tr th {\n",
       "        vertical-align: top;\n",
       "    }\n",
       "\n",
       "    .dataframe thead th {\n",
       "        text-align: right;\n",
       "    }\n",
       "</style>\n",
       "<table border=\"1\" class=\"dataframe\">\n",
       "  <thead>\n",
       "    <tr style=\"text-align: right;\">\n",
       "      <th></th>\n",
       "      <th>id</th>\n",
       "      <th>amount_tsh</th>\n",
       "      <th>date_recorded</th>\n",
       "      <th>funder</th>\n",
       "      <th>gps_height</th>\n",
       "      <th>installer</th>\n",
       "      <th>longitude</th>\n",
       "      <th>latitude</th>\n",
       "      <th>wpt_name</th>\n",
       "      <th>num_private</th>\n",
       "      <th>...</th>\n",
       "      <th>payment_type</th>\n",
       "      <th>water_quality</th>\n",
       "      <th>quality_group</th>\n",
       "      <th>quantity</th>\n",
       "      <th>quantity_group</th>\n",
       "      <th>source</th>\n",
       "      <th>source_type</th>\n",
       "      <th>source_class</th>\n",
       "      <th>waterpoint_type</th>\n",
       "      <th>waterpoint_type_group</th>\n",
       "    </tr>\n",
       "  </thead>\n",
       "  <tbody>\n",
       "    <tr>\n",
       "      <th>0</th>\n",
       "      <td>50785</td>\n",
       "      <td>0.0</td>\n",
       "      <td>2013-02-04</td>\n",
       "      <td>Dmdd</td>\n",
       "      <td>1996</td>\n",
       "      <td>DMDD</td>\n",
       "      <td>35.290799</td>\n",
       "      <td>-4.059696</td>\n",
       "      <td>Dinamu Secondary School</td>\n",
       "      <td>0</td>\n",
       "      <td>...</td>\n",
       "      <td>never pay</td>\n",
       "      <td>soft</td>\n",
       "      <td>good</td>\n",
       "      <td>seasonal</td>\n",
       "      <td>seasonal</td>\n",
       "      <td>rainwater harvesting</td>\n",
       "      <td>rainwater harvesting</td>\n",
       "      <td>surface</td>\n",
       "      <td>other</td>\n",
       "      <td>other</td>\n",
       "    </tr>\n",
       "    <tr>\n",
       "      <th>1</th>\n",
       "      <td>51630</td>\n",
       "      <td>0.0</td>\n",
       "      <td>2013-02-04</td>\n",
       "      <td>Government Of Tanzania</td>\n",
       "      <td>1569</td>\n",
       "      <td>DWE</td>\n",
       "      <td>36.656709</td>\n",
       "      <td>-3.309214</td>\n",
       "      <td>Kimnyak</td>\n",
       "      <td>0</td>\n",
       "      <td>...</td>\n",
       "      <td>never pay</td>\n",
       "      <td>soft</td>\n",
       "      <td>good</td>\n",
       "      <td>insufficient</td>\n",
       "      <td>insufficient</td>\n",
       "      <td>spring</td>\n",
       "      <td>spring</td>\n",
       "      <td>groundwater</td>\n",
       "      <td>communal standpipe</td>\n",
       "      <td>communal standpipe</td>\n",
       "    </tr>\n",
       "    <tr>\n",
       "      <th>2</th>\n",
       "      <td>17168</td>\n",
       "      <td>0.0</td>\n",
       "      <td>2013-02-01</td>\n",
       "      <td>NaN</td>\n",
       "      <td>1567</td>\n",
       "      <td>NaN</td>\n",
       "      <td>34.767863</td>\n",
       "      <td>-5.004344</td>\n",
       "      <td>Puma Secondary</td>\n",
       "      <td>0</td>\n",
       "      <td>...</td>\n",
       "      <td>never pay</td>\n",
       "      <td>soft</td>\n",
       "      <td>good</td>\n",
       "      <td>insufficient</td>\n",
       "      <td>insufficient</td>\n",
       "      <td>rainwater harvesting</td>\n",
       "      <td>rainwater harvesting</td>\n",
       "      <td>surface</td>\n",
       "      <td>other</td>\n",
       "      <td>other</td>\n",
       "    </tr>\n",
       "    <tr>\n",
       "      <th>3</th>\n",
       "      <td>45559</td>\n",
       "      <td>0.0</td>\n",
       "      <td>2013-01-22</td>\n",
       "      <td>Finn Water</td>\n",
       "      <td>267</td>\n",
       "      <td>FINN WATER</td>\n",
       "      <td>38.058046</td>\n",
       "      <td>-9.418672</td>\n",
       "      <td>Kwa Mzee Pange</td>\n",
       "      <td>0</td>\n",
       "      <td>...</td>\n",
       "      <td>unknown</td>\n",
       "      <td>soft</td>\n",
       "      <td>good</td>\n",
       "      <td>dry</td>\n",
       "      <td>dry</td>\n",
       "      <td>shallow well</td>\n",
       "      <td>shallow well</td>\n",
       "      <td>groundwater</td>\n",
       "      <td>other</td>\n",
       "      <td>other</td>\n",
       "    </tr>\n",
       "    <tr>\n",
       "      <th>4</th>\n",
       "      <td>49871</td>\n",
       "      <td>500.0</td>\n",
       "      <td>2013-03-27</td>\n",
       "      <td>Bruder</td>\n",
       "      <td>1260</td>\n",
       "      <td>BRUDER</td>\n",
       "      <td>35.006123</td>\n",
       "      <td>-10.950412</td>\n",
       "      <td>Kwa Mzee Turuka</td>\n",
       "      <td>0</td>\n",
       "      <td>...</td>\n",
       "      <td>monthly</td>\n",
       "      <td>soft</td>\n",
       "      <td>good</td>\n",
       "      <td>enough</td>\n",
       "      <td>enough</td>\n",
       "      <td>spring</td>\n",
       "      <td>spring</td>\n",
       "      <td>groundwater</td>\n",
       "      <td>communal standpipe</td>\n",
       "      <td>communal standpipe</td>\n",
       "    </tr>\n",
       "  </tbody>\n",
       "</table>\n",
       "<p>5 rows × 40 columns</p>\n",
       "</div>"
      ],
      "text/plain": [
       "      id  amount_tsh date_recorded                  funder  gps_height  \\\n",
       "0  50785         0.0    2013-02-04                    Dmdd        1996   \n",
       "1  51630         0.0    2013-02-04  Government Of Tanzania        1569   \n",
       "2  17168         0.0    2013-02-01                     NaN        1567   \n",
       "3  45559         0.0    2013-01-22              Finn Water         267   \n",
       "4  49871       500.0    2013-03-27                  Bruder        1260   \n",
       "\n",
       "    installer  longitude   latitude                 wpt_name  num_private  \\\n",
       "0        DMDD  35.290799  -4.059696  Dinamu Secondary School            0   \n",
       "1         DWE  36.656709  -3.309214                  Kimnyak            0   \n",
       "2         NaN  34.767863  -5.004344           Puma Secondary            0   \n",
       "3  FINN WATER  38.058046  -9.418672           Kwa Mzee Pange            0   \n",
       "4      BRUDER  35.006123 -10.950412          Kwa Mzee Turuka            0   \n",
       "\n",
       "   ... payment_type water_quality quality_group      quantity  quantity_group  \\\n",
       "0  ...    never pay          soft          good      seasonal        seasonal   \n",
       "1  ...    never pay          soft          good  insufficient    insufficient   \n",
       "2  ...    never pay          soft          good  insufficient    insufficient   \n",
       "3  ...      unknown          soft          good           dry             dry   \n",
       "4  ...      monthly          soft          good        enough          enough   \n",
       "\n",
       "                 source           source_type  source_class  \\\n",
       "0  rainwater harvesting  rainwater harvesting       surface   \n",
       "1                spring                spring   groundwater   \n",
       "2  rainwater harvesting  rainwater harvesting       surface   \n",
       "3          shallow well          shallow well   groundwater   \n",
       "4                spring                spring   groundwater   \n",
       "\n",
       "      waterpoint_type waterpoint_type_group  \n",
       "0               other                 other  \n",
       "1  communal standpipe    communal standpipe  \n",
       "2               other                 other  \n",
       "3               other                 other  \n",
       "4  communal standpipe    communal standpipe  \n",
       "\n",
       "[5 rows x 40 columns]"
      ]
     },
     "execution_count": 5,
     "metadata": {},
     "output_type": "execute_result"
    }
   ],
   "source": [
    "data_test.head()"
   ]
  },
  {
   "cell_type": "code",
   "execution_count": 229,
   "metadata": {},
   "outputs": [
    {
     "data": {
      "text/plain": [
       "(14850, 25)"
      ]
     },
     "execution_count": 229,
     "metadata": {},
     "output_type": "execute_result"
    }
   ],
   "source": [
    "data_test.shape"
   ]
  },
  {
   "cell_type": "code",
   "execution_count": 5,
   "metadata": {},
   "outputs": [],
   "source": [
    "data_train = pd.read_csv('training_set.csv')"
   ]
  },
  {
   "cell_type": "code",
   "execution_count": 9,
   "metadata": {
    "scrolled": true
   },
   "outputs": [
    {
     "data": {
      "text/html": [
       "<div>\n",
       "<style scoped>\n",
       "    .dataframe tbody tr th:only-of-type {\n",
       "        vertical-align: middle;\n",
       "    }\n",
       "\n",
       "    .dataframe tbody tr th {\n",
       "        vertical-align: top;\n",
       "    }\n",
       "\n",
       "    .dataframe thead th {\n",
       "        text-align: right;\n",
       "    }\n",
       "</style>\n",
       "<table border=\"1\" class=\"dataframe\">\n",
       "  <thead>\n",
       "    <tr style=\"text-align: right;\">\n",
       "      <th></th>\n",
       "      <th>id</th>\n",
       "      <th>amount_tsh</th>\n",
       "      <th>date_recorded</th>\n",
       "      <th>funder</th>\n",
       "      <th>gps_height</th>\n",
       "      <th>installer</th>\n",
       "      <th>longitude</th>\n",
       "      <th>latitude</th>\n",
       "      <th>wpt_name</th>\n",
       "      <th>num_private</th>\n",
       "      <th>...</th>\n",
       "      <th>payment_type</th>\n",
       "      <th>water_quality</th>\n",
       "      <th>quality_group</th>\n",
       "      <th>quantity</th>\n",
       "      <th>quantity_group</th>\n",
       "      <th>source</th>\n",
       "      <th>source_type</th>\n",
       "      <th>source_class</th>\n",
       "      <th>waterpoint_type</th>\n",
       "      <th>waterpoint_type_group</th>\n",
       "    </tr>\n",
       "  </thead>\n",
       "  <tbody>\n",
       "    <tr>\n",
       "      <th>0</th>\n",
       "      <td>69572</td>\n",
       "      <td>6000.0</td>\n",
       "      <td>2011-03-14</td>\n",
       "      <td>Roman</td>\n",
       "      <td>1390</td>\n",
       "      <td>Roman</td>\n",
       "      <td>34.938093</td>\n",
       "      <td>-9.856322</td>\n",
       "      <td>none</td>\n",
       "      <td>0</td>\n",
       "      <td>...</td>\n",
       "      <td>annually</td>\n",
       "      <td>soft</td>\n",
       "      <td>good</td>\n",
       "      <td>enough</td>\n",
       "      <td>enough</td>\n",
       "      <td>spring</td>\n",
       "      <td>spring</td>\n",
       "      <td>groundwater</td>\n",
       "      <td>communal standpipe</td>\n",
       "      <td>communal standpipe</td>\n",
       "    </tr>\n",
       "    <tr>\n",
       "      <th>1</th>\n",
       "      <td>8776</td>\n",
       "      <td>0.0</td>\n",
       "      <td>2013-03-06</td>\n",
       "      <td>Grumeti</td>\n",
       "      <td>1399</td>\n",
       "      <td>GRUMETI</td>\n",
       "      <td>34.698766</td>\n",
       "      <td>-2.147466</td>\n",
       "      <td>Zahanati</td>\n",
       "      <td>0</td>\n",
       "      <td>...</td>\n",
       "      <td>never pay</td>\n",
       "      <td>soft</td>\n",
       "      <td>good</td>\n",
       "      <td>insufficient</td>\n",
       "      <td>insufficient</td>\n",
       "      <td>rainwater harvesting</td>\n",
       "      <td>rainwater harvesting</td>\n",
       "      <td>surface</td>\n",
       "      <td>communal standpipe</td>\n",
       "      <td>communal standpipe</td>\n",
       "    </tr>\n",
       "    <tr>\n",
       "      <th>2</th>\n",
       "      <td>34310</td>\n",
       "      <td>25.0</td>\n",
       "      <td>2013-02-25</td>\n",
       "      <td>Lottery Club</td>\n",
       "      <td>686</td>\n",
       "      <td>World vision</td>\n",
       "      <td>37.460664</td>\n",
       "      <td>-3.821329</td>\n",
       "      <td>Kwa Mahundi</td>\n",
       "      <td>0</td>\n",
       "      <td>...</td>\n",
       "      <td>per bucket</td>\n",
       "      <td>soft</td>\n",
       "      <td>good</td>\n",
       "      <td>enough</td>\n",
       "      <td>enough</td>\n",
       "      <td>dam</td>\n",
       "      <td>dam</td>\n",
       "      <td>surface</td>\n",
       "      <td>communal standpipe multiple</td>\n",
       "      <td>communal standpipe</td>\n",
       "    </tr>\n",
       "    <tr>\n",
       "      <th>3</th>\n",
       "      <td>67743</td>\n",
       "      <td>0.0</td>\n",
       "      <td>2013-01-28</td>\n",
       "      <td>Unicef</td>\n",
       "      <td>263</td>\n",
       "      <td>UNICEF</td>\n",
       "      <td>38.486161</td>\n",
       "      <td>-11.155298</td>\n",
       "      <td>Zahanati Ya Nanyumbu</td>\n",
       "      <td>0</td>\n",
       "      <td>...</td>\n",
       "      <td>never pay</td>\n",
       "      <td>soft</td>\n",
       "      <td>good</td>\n",
       "      <td>dry</td>\n",
       "      <td>dry</td>\n",
       "      <td>machine dbh</td>\n",
       "      <td>borehole</td>\n",
       "      <td>groundwater</td>\n",
       "      <td>communal standpipe multiple</td>\n",
       "      <td>communal standpipe</td>\n",
       "    </tr>\n",
       "    <tr>\n",
       "      <th>4</th>\n",
       "      <td>19728</td>\n",
       "      <td>0.0</td>\n",
       "      <td>2011-07-13</td>\n",
       "      <td>Action In A</td>\n",
       "      <td>0</td>\n",
       "      <td>Artisan</td>\n",
       "      <td>31.130847</td>\n",
       "      <td>-1.825359</td>\n",
       "      <td>Shuleni</td>\n",
       "      <td>0</td>\n",
       "      <td>...</td>\n",
       "      <td>never pay</td>\n",
       "      <td>soft</td>\n",
       "      <td>good</td>\n",
       "      <td>seasonal</td>\n",
       "      <td>seasonal</td>\n",
       "      <td>rainwater harvesting</td>\n",
       "      <td>rainwater harvesting</td>\n",
       "      <td>surface</td>\n",
       "      <td>communal standpipe</td>\n",
       "      <td>communal standpipe</td>\n",
       "    </tr>\n",
       "  </tbody>\n",
       "</table>\n",
       "<p>5 rows × 40 columns</p>\n",
       "</div>"
      ],
      "text/plain": [
       "      id  amount_tsh date_recorded        funder  gps_height     installer  \\\n",
       "0  69572      6000.0    2011-03-14         Roman        1390         Roman   \n",
       "1   8776         0.0    2013-03-06       Grumeti        1399       GRUMETI   \n",
       "2  34310        25.0    2013-02-25  Lottery Club         686  World vision   \n",
       "3  67743         0.0    2013-01-28        Unicef         263        UNICEF   \n",
       "4  19728         0.0    2011-07-13   Action In A           0       Artisan   \n",
       "\n",
       "   longitude   latitude              wpt_name  num_private  ... payment_type  \\\n",
       "0  34.938093  -9.856322                  none            0  ...     annually   \n",
       "1  34.698766  -2.147466              Zahanati            0  ...    never pay   \n",
       "2  37.460664  -3.821329           Kwa Mahundi            0  ...   per bucket   \n",
       "3  38.486161 -11.155298  Zahanati Ya Nanyumbu            0  ...    never pay   \n",
       "4  31.130847  -1.825359               Shuleni            0  ...    never pay   \n",
       "\n",
       "  water_quality quality_group      quantity  quantity_group  \\\n",
       "0          soft          good        enough          enough   \n",
       "1          soft          good  insufficient    insufficient   \n",
       "2          soft          good        enough          enough   \n",
       "3          soft          good           dry             dry   \n",
       "4          soft          good      seasonal        seasonal   \n",
       "\n",
       "                 source           source_type  source_class  \\\n",
       "0                spring                spring   groundwater   \n",
       "1  rainwater harvesting  rainwater harvesting       surface   \n",
       "2                   dam                   dam       surface   \n",
       "3           machine dbh              borehole   groundwater   \n",
       "4  rainwater harvesting  rainwater harvesting       surface   \n",
       "\n",
       "               waterpoint_type waterpoint_type_group  \n",
       "0           communal standpipe    communal standpipe  \n",
       "1           communal standpipe    communal standpipe  \n",
       "2  communal standpipe multiple    communal standpipe  \n",
       "3  communal standpipe multiple    communal standpipe  \n",
       "4           communal standpipe    communal standpipe  \n",
       "\n",
       "[5 rows x 40 columns]"
      ]
     },
     "execution_count": 9,
     "metadata": {},
     "output_type": "execute_result"
    }
   ],
   "source": [
    "data_train.head()"
   ]
  },
  {
   "cell_type": "code",
   "execution_count": 10,
   "metadata": {},
   "outputs": [
    {
     "data": {
      "text/plain": [
       "(59400, 40)"
      ]
     },
     "execution_count": 10,
     "metadata": {},
     "output_type": "execute_result"
    }
   ],
   "source": [
    "data_train.shape"
   ]
  },
  {
   "cell_type": "code",
   "execution_count": 6,
   "metadata": {},
   "outputs": [],
   "source": [
    "y = pd.read_csv('training_y.csv')"
   ]
  },
  {
   "cell_type": "code",
   "execution_count": 7,
   "metadata": {},
   "outputs": [
    {
     "data": {
      "text/plain": [
       "array(['functional', 'non functional', 'functional needs repair'],\n",
       "      dtype=object)"
      ]
     },
     "execution_count": 7,
     "metadata": {},
     "output_type": "execute_result"
    }
   ],
   "source": [
    "y['status_group'].unique()  #Podemos visualizar que la variable puede tomar 3 estados diferentes"
   ]
  },
  {
   "cell_type": "code",
   "execution_count": 8,
   "metadata": {},
   "outputs": [],
   "source": [
    "#Vamos a reemplazar los valores anteriores por números, así no tenemos una variable categórica\n",
    "\n",
    "y['status_group'] = y['status_group'].map( {'functional': 1, 'non functional': 0, 'functional needs repair':2} ).astype(int)"
   ]
  },
  {
   "cell_type": "code",
   "execution_count": 7,
   "metadata": {},
   "outputs": [
    {
     "data": {
      "text/html": [
       "<div>\n",
       "<style scoped>\n",
       "    .dataframe tbody tr th:only-of-type {\n",
       "        vertical-align: middle;\n",
       "    }\n",
       "\n",
       "    .dataframe tbody tr th {\n",
       "        vertical-align: top;\n",
       "    }\n",
       "\n",
       "    .dataframe thead th {\n",
       "        text-align: right;\n",
       "    }\n",
       "</style>\n",
       "<table border=\"1\" class=\"dataframe\">\n",
       "  <thead>\n",
       "    <tr style=\"text-align: right;\">\n",
       "      <th></th>\n",
       "      <th>id</th>\n",
       "      <th>status_group</th>\n",
       "    </tr>\n",
       "  </thead>\n",
       "  <tbody>\n",
       "    <tr>\n",
       "      <th>0</th>\n",
       "      <td>69572</td>\n",
       "      <td>1</td>\n",
       "    </tr>\n",
       "    <tr>\n",
       "      <th>1</th>\n",
       "      <td>8776</td>\n",
       "      <td>1</td>\n",
       "    </tr>\n",
       "    <tr>\n",
       "      <th>2</th>\n",
       "      <td>34310</td>\n",
       "      <td>1</td>\n",
       "    </tr>\n",
       "    <tr>\n",
       "      <th>3</th>\n",
       "      <td>67743</td>\n",
       "      <td>0</td>\n",
       "    </tr>\n",
       "    <tr>\n",
       "      <th>4</th>\n",
       "      <td>19728</td>\n",
       "      <td>1</td>\n",
       "    </tr>\n",
       "  </tbody>\n",
       "</table>\n",
       "</div>"
      ],
      "text/plain": [
       "      id  status_group\n",
       "0  69572             1\n",
       "1   8776             1\n",
       "2  34310             1\n",
       "3  67743             0\n",
       "4  19728             1"
      ]
     },
     "execution_count": 7,
     "metadata": {},
     "output_type": "execute_result"
    }
   ],
   "source": [
    "y.head()"
   ]
  },
  {
   "cell_type": "code",
   "execution_count": 8,
   "metadata": {},
   "outputs": [
    {
     "data": {
      "text/plain": [
       "id              0\n",
       "status_group    0\n",
       "dtype: int64"
      ]
     },
     "execution_count": 8,
     "metadata": {},
     "output_type": "execute_result"
    }
   ],
   "source": [
    "y.isnull().sum()"
   ]
  },
  {
   "cell_type": "code",
   "execution_count": 9,
   "metadata": {},
   "outputs": [
    {
     "data": {
      "text/plain": [
       "59400"
      ]
     },
     "execution_count": 9,
     "metadata": {},
     "output_type": "execute_result"
    }
   ],
   "source": [
    "#Corroboremos los valores únicos que tiene nuestro dataset\n",
    "\n",
    "len(y.id.unique())  #Podemos visualizar que coincide perfectamente con nuestro conjunto de training, lo cual es correcto"
   ]
  },
  {
   "cell_type": "raw",
   "metadata": {},
   "source": [
    "A continuación, haremos un merge del conjunto train con la variable target"
   ]
  },
  {
   "cell_type": "code",
   "execution_count": 9,
   "metadata": {},
   "outputs": [],
   "source": [
    "data = data_train.merge(y, on = 'id')\n",
    "data.set_index(['id'], inplace=True)"
   ]
  },
  {
   "cell_type": "code",
   "execution_count": 7,
   "metadata": {},
   "outputs": [
    {
     "data": {
      "text/html": [
       "<div>\n",
       "<style scoped>\n",
       "    .dataframe tbody tr th:only-of-type {\n",
       "        vertical-align: middle;\n",
       "    }\n",
       "\n",
       "    .dataframe tbody tr th {\n",
       "        vertical-align: top;\n",
       "    }\n",
       "\n",
       "    .dataframe thead th {\n",
       "        text-align: right;\n",
       "    }\n",
       "</style>\n",
       "<table border=\"1\" class=\"dataframe\">\n",
       "  <thead>\n",
       "    <tr style=\"text-align: right;\">\n",
       "      <th></th>\n",
       "      <th>amount_tsh</th>\n",
       "      <th>date_recorded</th>\n",
       "      <th>funder</th>\n",
       "      <th>gps_height</th>\n",
       "      <th>installer</th>\n",
       "      <th>longitude</th>\n",
       "      <th>latitude</th>\n",
       "      <th>wpt_name</th>\n",
       "      <th>num_private</th>\n",
       "      <th>basin</th>\n",
       "      <th>...</th>\n",
       "      <th>water_quality</th>\n",
       "      <th>quality_group</th>\n",
       "      <th>quantity</th>\n",
       "      <th>quantity_group</th>\n",
       "      <th>source</th>\n",
       "      <th>source_type</th>\n",
       "      <th>source_class</th>\n",
       "      <th>waterpoint_type</th>\n",
       "      <th>waterpoint_type_group</th>\n",
       "      <th>status_group</th>\n",
       "    </tr>\n",
       "    <tr>\n",
       "      <th>id</th>\n",
       "      <th></th>\n",
       "      <th></th>\n",
       "      <th></th>\n",
       "      <th></th>\n",
       "      <th></th>\n",
       "      <th></th>\n",
       "      <th></th>\n",
       "      <th></th>\n",
       "      <th></th>\n",
       "      <th></th>\n",
       "      <th></th>\n",
       "      <th></th>\n",
       "      <th></th>\n",
       "      <th></th>\n",
       "      <th></th>\n",
       "      <th></th>\n",
       "      <th></th>\n",
       "      <th></th>\n",
       "      <th></th>\n",
       "      <th></th>\n",
       "      <th></th>\n",
       "    </tr>\n",
       "  </thead>\n",
       "  <tbody>\n",
       "    <tr>\n",
       "      <th>69572</th>\n",
       "      <td>6000.0</td>\n",
       "      <td>2011-03-14</td>\n",
       "      <td>Roman</td>\n",
       "      <td>1390</td>\n",
       "      <td>Roman</td>\n",
       "      <td>34.938093</td>\n",
       "      <td>-9.856322</td>\n",
       "      <td>none</td>\n",
       "      <td>0</td>\n",
       "      <td>Lake Nyasa</td>\n",
       "      <td>...</td>\n",
       "      <td>soft</td>\n",
       "      <td>good</td>\n",
       "      <td>enough</td>\n",
       "      <td>enough</td>\n",
       "      <td>spring</td>\n",
       "      <td>spring</td>\n",
       "      <td>groundwater</td>\n",
       "      <td>communal standpipe</td>\n",
       "      <td>communal standpipe</td>\n",
       "      <td>1</td>\n",
       "    </tr>\n",
       "    <tr>\n",
       "      <th>8776</th>\n",
       "      <td>0.0</td>\n",
       "      <td>2013-03-06</td>\n",
       "      <td>Grumeti</td>\n",
       "      <td>1399</td>\n",
       "      <td>GRUMETI</td>\n",
       "      <td>34.698766</td>\n",
       "      <td>-2.147466</td>\n",
       "      <td>Zahanati</td>\n",
       "      <td>0</td>\n",
       "      <td>Lake Victoria</td>\n",
       "      <td>...</td>\n",
       "      <td>soft</td>\n",
       "      <td>good</td>\n",
       "      <td>insufficient</td>\n",
       "      <td>insufficient</td>\n",
       "      <td>rainwater harvesting</td>\n",
       "      <td>rainwater harvesting</td>\n",
       "      <td>surface</td>\n",
       "      <td>communal standpipe</td>\n",
       "      <td>communal standpipe</td>\n",
       "      <td>1</td>\n",
       "    </tr>\n",
       "    <tr>\n",
       "      <th>34310</th>\n",
       "      <td>25.0</td>\n",
       "      <td>2013-02-25</td>\n",
       "      <td>Lottery Club</td>\n",
       "      <td>686</td>\n",
       "      <td>World vision</td>\n",
       "      <td>37.460664</td>\n",
       "      <td>-3.821329</td>\n",
       "      <td>Kwa Mahundi</td>\n",
       "      <td>0</td>\n",
       "      <td>Pangani</td>\n",
       "      <td>...</td>\n",
       "      <td>soft</td>\n",
       "      <td>good</td>\n",
       "      <td>enough</td>\n",
       "      <td>enough</td>\n",
       "      <td>dam</td>\n",
       "      <td>dam</td>\n",
       "      <td>surface</td>\n",
       "      <td>communal standpipe multiple</td>\n",
       "      <td>communal standpipe</td>\n",
       "      <td>1</td>\n",
       "    </tr>\n",
       "    <tr>\n",
       "      <th>67743</th>\n",
       "      <td>0.0</td>\n",
       "      <td>2013-01-28</td>\n",
       "      <td>Unicef</td>\n",
       "      <td>263</td>\n",
       "      <td>UNICEF</td>\n",
       "      <td>38.486161</td>\n",
       "      <td>-11.155298</td>\n",
       "      <td>Zahanati Ya Nanyumbu</td>\n",
       "      <td>0</td>\n",
       "      <td>Ruvuma / Southern Coast</td>\n",
       "      <td>...</td>\n",
       "      <td>soft</td>\n",
       "      <td>good</td>\n",
       "      <td>dry</td>\n",
       "      <td>dry</td>\n",
       "      <td>machine dbh</td>\n",
       "      <td>borehole</td>\n",
       "      <td>groundwater</td>\n",
       "      <td>communal standpipe multiple</td>\n",
       "      <td>communal standpipe</td>\n",
       "      <td>0</td>\n",
       "    </tr>\n",
       "    <tr>\n",
       "      <th>19728</th>\n",
       "      <td>0.0</td>\n",
       "      <td>2011-07-13</td>\n",
       "      <td>Action In A</td>\n",
       "      <td>0</td>\n",
       "      <td>Artisan</td>\n",
       "      <td>31.130847</td>\n",
       "      <td>-1.825359</td>\n",
       "      <td>Shuleni</td>\n",
       "      <td>0</td>\n",
       "      <td>Lake Victoria</td>\n",
       "      <td>...</td>\n",
       "      <td>soft</td>\n",
       "      <td>good</td>\n",
       "      <td>seasonal</td>\n",
       "      <td>seasonal</td>\n",
       "      <td>rainwater harvesting</td>\n",
       "      <td>rainwater harvesting</td>\n",
       "      <td>surface</td>\n",
       "      <td>communal standpipe</td>\n",
       "      <td>communal standpipe</td>\n",
       "      <td>1</td>\n",
       "    </tr>\n",
       "  </tbody>\n",
       "</table>\n",
       "<p>5 rows × 40 columns</p>\n",
       "</div>"
      ],
      "text/plain": [
       "       amount_tsh date_recorded        funder  gps_height     installer  \\\n",
       "id                                                                        \n",
       "69572      6000.0    2011-03-14         Roman        1390         Roman   \n",
       "8776          0.0    2013-03-06       Grumeti        1399       GRUMETI   \n",
       "34310        25.0    2013-02-25  Lottery Club         686  World vision   \n",
       "67743         0.0    2013-01-28        Unicef         263        UNICEF   \n",
       "19728         0.0    2011-07-13   Action In A           0       Artisan   \n",
       "\n",
       "       longitude   latitude              wpt_name  num_private  \\\n",
       "id                                                               \n",
       "69572  34.938093  -9.856322                  none            0   \n",
       "8776   34.698766  -2.147466              Zahanati            0   \n",
       "34310  37.460664  -3.821329           Kwa Mahundi            0   \n",
       "67743  38.486161 -11.155298  Zahanati Ya Nanyumbu            0   \n",
       "19728  31.130847  -1.825359               Shuleni            0   \n",
       "\n",
       "                         basin  ... water_quality quality_group      quantity  \\\n",
       "id                              ...                                             \n",
       "69572               Lake Nyasa  ...          soft          good        enough   \n",
       "8776             Lake Victoria  ...          soft          good  insufficient   \n",
       "34310                  Pangani  ...          soft          good        enough   \n",
       "67743  Ruvuma / Southern Coast  ...          soft          good           dry   \n",
       "19728            Lake Victoria  ...          soft          good      seasonal   \n",
       "\n",
       "       quantity_group                source           source_type  \\\n",
       "id                                                                  \n",
       "69572          enough                spring                spring   \n",
       "8776     insufficient  rainwater harvesting  rainwater harvesting   \n",
       "34310          enough                   dam                   dam   \n",
       "67743             dry           machine dbh              borehole   \n",
       "19728        seasonal  rainwater harvesting  rainwater harvesting   \n",
       "\n",
       "       source_class              waterpoint_type waterpoint_type_group  \\\n",
       "id                                                                       \n",
       "69572   groundwater           communal standpipe    communal standpipe   \n",
       "8776        surface           communal standpipe    communal standpipe   \n",
       "34310       surface  communal standpipe multiple    communal standpipe   \n",
       "67743   groundwater  communal standpipe multiple    communal standpipe   \n",
       "19728       surface           communal standpipe    communal standpipe   \n",
       "\n",
       "      status_group  \n",
       "id                  \n",
       "69572            1  \n",
       "8776             1  \n",
       "34310            1  \n",
       "67743            0  \n",
       "19728            1  \n",
       "\n",
       "[5 rows x 40 columns]"
      ]
     },
     "execution_count": 7,
     "metadata": {},
     "output_type": "execute_result"
    }
   ],
   "source": [
    "data.head()"
   ]
  },
  {
   "cell_type": "code",
   "execution_count": 232,
   "metadata": {},
   "outputs": [
    {
     "data": {
      "text/plain": [
       "(59400, 26)"
      ]
     },
     "execution_count": 232,
     "metadata": {},
     "output_type": "execute_result"
    }
   ],
   "source": [
    "data.shape"
   ]
  },
  {
   "cell_type": "code",
   "execution_count": 10,
   "metadata": {},
   "outputs": [],
   "source": [
    "data_test.set_index(['id'], inplace=True)   #Utilizamos la columna id como índice"
   ]
  },
  {
   "cell_type": "code",
   "execution_count": 155,
   "metadata": {},
   "outputs": [
    {
     "data": {
      "text/html": [
       "<div>\n",
       "<style scoped>\n",
       "    .dataframe tbody tr th:only-of-type {\n",
       "        vertical-align: middle;\n",
       "    }\n",
       "\n",
       "    .dataframe tbody tr th {\n",
       "        vertical-align: top;\n",
       "    }\n",
       "\n",
       "    .dataframe thead th {\n",
       "        text-align: right;\n",
       "    }\n",
       "</style>\n",
       "<table border=\"1\" class=\"dataframe\">\n",
       "  <thead>\n",
       "    <tr style=\"text-align: right;\">\n",
       "      <th></th>\n",
       "      <th>amount_tsh</th>\n",
       "      <th>date_recorded</th>\n",
       "      <th>funder</th>\n",
       "      <th>gps_height</th>\n",
       "      <th>installer</th>\n",
       "      <th>longitude</th>\n",
       "      <th>latitude</th>\n",
       "      <th>wpt_name</th>\n",
       "      <th>num_private</th>\n",
       "      <th>basin</th>\n",
       "      <th>...</th>\n",
       "      <th>payment_type</th>\n",
       "      <th>water_quality</th>\n",
       "      <th>quality_group</th>\n",
       "      <th>quantity</th>\n",
       "      <th>quantity_group</th>\n",
       "      <th>source</th>\n",
       "      <th>source_type</th>\n",
       "      <th>source_class</th>\n",
       "      <th>waterpoint_type</th>\n",
       "      <th>waterpoint_type_group</th>\n",
       "    </tr>\n",
       "    <tr>\n",
       "      <th>id</th>\n",
       "      <th></th>\n",
       "      <th></th>\n",
       "      <th></th>\n",
       "      <th></th>\n",
       "      <th></th>\n",
       "      <th></th>\n",
       "      <th></th>\n",
       "      <th></th>\n",
       "      <th></th>\n",
       "      <th></th>\n",
       "      <th></th>\n",
       "      <th></th>\n",
       "      <th></th>\n",
       "      <th></th>\n",
       "      <th></th>\n",
       "      <th></th>\n",
       "      <th></th>\n",
       "      <th></th>\n",
       "      <th></th>\n",
       "      <th></th>\n",
       "      <th></th>\n",
       "    </tr>\n",
       "  </thead>\n",
       "  <tbody>\n",
       "    <tr>\n",
       "      <th>50785</th>\n",
       "      <td>0.0</td>\n",
       "      <td>2013-02-04</td>\n",
       "      <td>Dmdd</td>\n",
       "      <td>1996</td>\n",
       "      <td>DMDD</td>\n",
       "      <td>35.290799</td>\n",
       "      <td>-4.059696</td>\n",
       "      <td>Dinamu Secondary School</td>\n",
       "      <td>0</td>\n",
       "      <td>Internal</td>\n",
       "      <td>...</td>\n",
       "      <td>never pay</td>\n",
       "      <td>soft</td>\n",
       "      <td>good</td>\n",
       "      <td>seasonal</td>\n",
       "      <td>seasonal</td>\n",
       "      <td>rainwater harvesting</td>\n",
       "      <td>rainwater harvesting</td>\n",
       "      <td>surface</td>\n",
       "      <td>other</td>\n",
       "      <td>other</td>\n",
       "    </tr>\n",
       "    <tr>\n",
       "      <th>51630</th>\n",
       "      <td>0.0</td>\n",
       "      <td>2013-02-04</td>\n",
       "      <td>Government Of Tanzania</td>\n",
       "      <td>1569</td>\n",
       "      <td>DWE</td>\n",
       "      <td>36.656709</td>\n",
       "      <td>-3.309214</td>\n",
       "      <td>Kimnyak</td>\n",
       "      <td>0</td>\n",
       "      <td>Pangani</td>\n",
       "      <td>...</td>\n",
       "      <td>never pay</td>\n",
       "      <td>soft</td>\n",
       "      <td>good</td>\n",
       "      <td>insufficient</td>\n",
       "      <td>insufficient</td>\n",
       "      <td>spring</td>\n",
       "      <td>spring</td>\n",
       "      <td>groundwater</td>\n",
       "      <td>communal standpipe</td>\n",
       "      <td>communal standpipe</td>\n",
       "    </tr>\n",
       "    <tr>\n",
       "      <th>17168</th>\n",
       "      <td>0.0</td>\n",
       "      <td>2013-02-01</td>\n",
       "      <td>NaN</td>\n",
       "      <td>1567</td>\n",
       "      <td>NaN</td>\n",
       "      <td>34.767863</td>\n",
       "      <td>-5.004344</td>\n",
       "      <td>Puma Secondary</td>\n",
       "      <td>0</td>\n",
       "      <td>Internal</td>\n",
       "      <td>...</td>\n",
       "      <td>never pay</td>\n",
       "      <td>soft</td>\n",
       "      <td>good</td>\n",
       "      <td>insufficient</td>\n",
       "      <td>insufficient</td>\n",
       "      <td>rainwater harvesting</td>\n",
       "      <td>rainwater harvesting</td>\n",
       "      <td>surface</td>\n",
       "      <td>other</td>\n",
       "      <td>other</td>\n",
       "    </tr>\n",
       "    <tr>\n",
       "      <th>45559</th>\n",
       "      <td>0.0</td>\n",
       "      <td>2013-01-22</td>\n",
       "      <td>Finn Water</td>\n",
       "      <td>267</td>\n",
       "      <td>FINN WATER</td>\n",
       "      <td>38.058046</td>\n",
       "      <td>-9.418672</td>\n",
       "      <td>Kwa Mzee Pange</td>\n",
       "      <td>0</td>\n",
       "      <td>Ruvuma / Southern Coast</td>\n",
       "      <td>...</td>\n",
       "      <td>unknown</td>\n",
       "      <td>soft</td>\n",
       "      <td>good</td>\n",
       "      <td>dry</td>\n",
       "      <td>dry</td>\n",
       "      <td>shallow well</td>\n",
       "      <td>shallow well</td>\n",
       "      <td>groundwater</td>\n",
       "      <td>other</td>\n",
       "      <td>other</td>\n",
       "    </tr>\n",
       "    <tr>\n",
       "      <th>49871</th>\n",
       "      <td>500.0</td>\n",
       "      <td>2013-03-27</td>\n",
       "      <td>Bruder</td>\n",
       "      <td>1260</td>\n",
       "      <td>BRUDER</td>\n",
       "      <td>35.006123</td>\n",
       "      <td>-10.950412</td>\n",
       "      <td>Kwa Mzee Turuka</td>\n",
       "      <td>0</td>\n",
       "      <td>Ruvuma / Southern Coast</td>\n",
       "      <td>...</td>\n",
       "      <td>monthly</td>\n",
       "      <td>soft</td>\n",
       "      <td>good</td>\n",
       "      <td>enough</td>\n",
       "      <td>enough</td>\n",
       "      <td>spring</td>\n",
       "      <td>spring</td>\n",
       "      <td>groundwater</td>\n",
       "      <td>communal standpipe</td>\n",
       "      <td>communal standpipe</td>\n",
       "    </tr>\n",
       "  </tbody>\n",
       "</table>\n",
       "<p>5 rows × 39 columns</p>\n",
       "</div>"
      ],
      "text/plain": [
       "       amount_tsh date_recorded                  funder  gps_height  \\\n",
       "id                                                                    \n",
       "50785         0.0    2013-02-04                    Dmdd        1996   \n",
       "51630         0.0    2013-02-04  Government Of Tanzania        1569   \n",
       "17168         0.0    2013-02-01                     NaN        1567   \n",
       "45559         0.0    2013-01-22              Finn Water         267   \n",
       "49871       500.0    2013-03-27                  Bruder        1260   \n",
       "\n",
       "        installer  longitude   latitude                 wpt_name  num_private  \\\n",
       "id                                                                              \n",
       "50785        DMDD  35.290799  -4.059696  Dinamu Secondary School            0   \n",
       "51630         DWE  36.656709  -3.309214                  Kimnyak            0   \n",
       "17168         NaN  34.767863  -5.004344           Puma Secondary            0   \n",
       "45559  FINN WATER  38.058046  -9.418672           Kwa Mzee Pange            0   \n",
       "49871      BRUDER  35.006123 -10.950412          Kwa Mzee Turuka            0   \n",
       "\n",
       "                         basin  ... payment_type water_quality  quality_group  \\\n",
       "id                              ...                                             \n",
       "50785                 Internal  ...    never pay          soft           good   \n",
       "51630                  Pangani  ...    never pay          soft           good   \n",
       "17168                 Internal  ...    never pay          soft           good   \n",
       "45559  Ruvuma / Southern Coast  ...      unknown          soft           good   \n",
       "49871  Ruvuma / Southern Coast  ...      monthly          soft           good   \n",
       "\n",
       "           quantity quantity_group                source  \\\n",
       "id                                                         \n",
       "50785      seasonal       seasonal  rainwater harvesting   \n",
       "51630  insufficient   insufficient                spring   \n",
       "17168  insufficient   insufficient  rainwater harvesting   \n",
       "45559           dry            dry          shallow well   \n",
       "49871        enough         enough                spring   \n",
       "\n",
       "                source_type source_class     waterpoint_type  \\\n",
       "id                                                             \n",
       "50785  rainwater harvesting      surface               other   \n",
       "51630                spring  groundwater  communal standpipe   \n",
       "17168  rainwater harvesting      surface               other   \n",
       "45559          shallow well  groundwater               other   \n",
       "49871                spring  groundwater  communal standpipe   \n",
       "\n",
       "      waterpoint_type_group  \n",
       "id                           \n",
       "50785                 other  \n",
       "51630    communal standpipe  \n",
       "17168                 other  \n",
       "45559                 other  \n",
       "49871    communal standpipe  \n",
       "\n",
       "[5 rows x 39 columns]"
      ]
     },
     "execution_count": 155,
     "metadata": {},
     "output_type": "execute_result"
    }
   ],
   "source": [
    "data_test.head()"
   ]
  },
  {
   "cell_type": "markdown",
   "metadata": {},
   "source": [
    "## EDA"
   ]
  },
  {
   "cell_type": "raw",
   "metadata": {},
   "source": [
    "Realizaremos un describe que nos mostrará información relativa a las variables numéricas que tenemos en nuestro modelo"
   ]
  },
  {
   "cell_type": "code",
   "execution_count": 161,
   "metadata": {},
   "outputs": [
    {
     "data": {
      "text/html": [
       "<div>\n",
       "<style scoped>\n",
       "    .dataframe tbody tr th:only-of-type {\n",
       "        vertical-align: middle;\n",
       "    }\n",
       "\n",
       "    .dataframe tbody tr th {\n",
       "        vertical-align: top;\n",
       "    }\n",
       "\n",
       "    .dataframe thead th {\n",
       "        text-align: right;\n",
       "    }\n",
       "</style>\n",
       "<table border=\"1\" class=\"dataframe\">\n",
       "  <thead>\n",
       "    <tr style=\"text-align: right;\">\n",
       "      <th></th>\n",
       "      <th>amount_tsh</th>\n",
       "      <th>gps_height</th>\n",
       "      <th>longitude</th>\n",
       "      <th>latitude</th>\n",
       "      <th>num_private</th>\n",
       "      <th>region_code</th>\n",
       "      <th>district_code</th>\n",
       "      <th>population</th>\n",
       "      <th>construction_year</th>\n",
       "      <th>status_group</th>\n",
       "    </tr>\n",
       "  </thead>\n",
       "  <tbody>\n",
       "    <tr>\n",
       "      <th>count</th>\n",
       "      <td>59400.000000</td>\n",
       "      <td>59400.000000</td>\n",
       "      <td>59400.000000</td>\n",
       "      <td>5.940000e+04</td>\n",
       "      <td>59400.000000</td>\n",
       "      <td>59400.000000</td>\n",
       "      <td>59400.000000</td>\n",
       "      <td>59400.000000</td>\n",
       "      <td>59400.000000</td>\n",
       "      <td>59400.000000</td>\n",
       "    </tr>\n",
       "    <tr>\n",
       "      <th>mean</th>\n",
       "      <td>317.650385</td>\n",
       "      <td>668.297239</td>\n",
       "      <td>34.077427</td>\n",
       "      <td>-5.706033e+00</td>\n",
       "      <td>0.474141</td>\n",
       "      <td>15.297003</td>\n",
       "      <td>5.629747</td>\n",
       "      <td>179.909983</td>\n",
       "      <td>1300.652475</td>\n",
       "      <td>0.688434</td>\n",
       "    </tr>\n",
       "    <tr>\n",
       "      <th>std</th>\n",
       "      <td>2997.574558</td>\n",
       "      <td>693.116350</td>\n",
       "      <td>6.567432</td>\n",
       "      <td>2.946019e+00</td>\n",
       "      <td>12.236230</td>\n",
       "      <td>17.587406</td>\n",
       "      <td>9.633649</td>\n",
       "      <td>471.482176</td>\n",
       "      <td>951.620547</td>\n",
       "      <td>0.599877</td>\n",
       "    </tr>\n",
       "    <tr>\n",
       "      <th>min</th>\n",
       "      <td>0.000000</td>\n",
       "      <td>-90.000000</td>\n",
       "      <td>0.000000</td>\n",
       "      <td>-1.164944e+01</td>\n",
       "      <td>0.000000</td>\n",
       "      <td>1.000000</td>\n",
       "      <td>0.000000</td>\n",
       "      <td>0.000000</td>\n",
       "      <td>0.000000</td>\n",
       "      <td>0.000000</td>\n",
       "    </tr>\n",
       "    <tr>\n",
       "      <th>25%</th>\n",
       "      <td>0.000000</td>\n",
       "      <td>0.000000</td>\n",
       "      <td>33.090347</td>\n",
       "      <td>-8.540621e+00</td>\n",
       "      <td>0.000000</td>\n",
       "      <td>5.000000</td>\n",
       "      <td>2.000000</td>\n",
       "      <td>0.000000</td>\n",
       "      <td>0.000000</td>\n",
       "      <td>0.000000</td>\n",
       "    </tr>\n",
       "    <tr>\n",
       "      <th>50%</th>\n",
       "      <td>0.000000</td>\n",
       "      <td>369.000000</td>\n",
       "      <td>34.908743</td>\n",
       "      <td>-5.021597e+00</td>\n",
       "      <td>0.000000</td>\n",
       "      <td>12.000000</td>\n",
       "      <td>3.000000</td>\n",
       "      <td>25.000000</td>\n",
       "      <td>1986.000000</td>\n",
       "      <td>1.000000</td>\n",
       "    </tr>\n",
       "    <tr>\n",
       "      <th>75%</th>\n",
       "      <td>20.000000</td>\n",
       "      <td>1319.250000</td>\n",
       "      <td>37.178387</td>\n",
       "      <td>-3.326156e+00</td>\n",
       "      <td>0.000000</td>\n",
       "      <td>17.000000</td>\n",
       "      <td>5.000000</td>\n",
       "      <td>215.000000</td>\n",
       "      <td>2004.000000</td>\n",
       "      <td>1.000000</td>\n",
       "    </tr>\n",
       "    <tr>\n",
       "      <th>max</th>\n",
       "      <td>350000.000000</td>\n",
       "      <td>2770.000000</td>\n",
       "      <td>40.345193</td>\n",
       "      <td>-2.000000e-08</td>\n",
       "      <td>1776.000000</td>\n",
       "      <td>99.000000</td>\n",
       "      <td>80.000000</td>\n",
       "      <td>30500.000000</td>\n",
       "      <td>2013.000000</td>\n",
       "      <td>2.000000</td>\n",
       "    </tr>\n",
       "  </tbody>\n",
       "</table>\n",
       "</div>"
      ],
      "text/plain": [
       "          amount_tsh    gps_height     longitude      latitude   num_private  \\\n",
       "count   59400.000000  59400.000000  59400.000000  5.940000e+04  59400.000000   \n",
       "mean      317.650385    668.297239     34.077427 -5.706033e+00      0.474141   \n",
       "std      2997.574558    693.116350      6.567432  2.946019e+00     12.236230   \n",
       "min         0.000000    -90.000000      0.000000 -1.164944e+01      0.000000   \n",
       "25%         0.000000      0.000000     33.090347 -8.540621e+00      0.000000   \n",
       "50%         0.000000    369.000000     34.908743 -5.021597e+00      0.000000   \n",
       "75%        20.000000   1319.250000     37.178387 -3.326156e+00      0.000000   \n",
       "max    350000.000000   2770.000000     40.345193 -2.000000e-08   1776.000000   \n",
       "\n",
       "        region_code  district_code    population  construction_year  \\\n",
       "count  59400.000000   59400.000000  59400.000000       59400.000000   \n",
       "mean      15.297003       5.629747    179.909983        1300.652475   \n",
       "std       17.587406       9.633649    471.482176         951.620547   \n",
       "min        1.000000       0.000000      0.000000           0.000000   \n",
       "25%        5.000000       2.000000      0.000000           0.000000   \n",
       "50%       12.000000       3.000000     25.000000        1986.000000   \n",
       "75%       17.000000       5.000000    215.000000        2004.000000   \n",
       "max       99.000000      80.000000  30500.000000        2013.000000   \n",
       "\n",
       "       status_group  \n",
       "count  59400.000000  \n",
       "mean       0.688434  \n",
       "std        0.599877  \n",
       "min        0.000000  \n",
       "25%        0.000000  \n",
       "50%        1.000000  \n",
       "75%        1.000000  \n",
       "max        2.000000  "
      ]
     },
     "execution_count": 161,
     "metadata": {},
     "output_type": "execute_result"
    }
   ],
   "source": [
    "data.describe()"
   ]
  },
  {
   "cell_type": "raw",
   "metadata": {},
   "source": [
    "Podemos visualizar las variables categóricas que tenemos"
   ]
  },
  {
   "cell_type": "code",
   "execution_count": 45,
   "metadata": {
    "scrolled": true
   },
   "outputs": [
    {
     "data": {
      "text/plain": [
       "amount_tsh               float64\n",
       "funder                     int32\n",
       "gps_height                 int64\n",
       "installer                  int32\n",
       "longitude                float64\n",
       "latitude                 float64\n",
       "wpt_name                   int32\n",
       "num_private                int64\n",
       "region                     int64\n",
       "region_code                int64\n",
       "district_code              int64\n",
       "population                 int64\n",
       "public_meeting             int32\n",
       "scheme_management          int64\n",
       "permit                     int32\n",
       "construction_year          int64\n",
       "extraction_type_class      int64\n",
       "management_group           int64\n",
       "payment_type               int64\n",
       "quality_group              int64\n",
       "quantity_group             int64\n",
       "source_type                int64\n",
       "waterpoint_type_group      int64\n",
       "status_group               int32\n",
       "year                       int64\n",
       "month                      int64\n",
       "dtype: object"
      ]
     },
     "execution_count": 45,
     "metadata": {},
     "output_type": "execute_result"
    }
   ],
   "source": [
    "data.dtypes"
   ]
  },
  {
   "cell_type": "raw",
   "metadata": {},
   "source": [
    "Ahora revisemos los valores nulos que tenemos en ambos subconjuntos"
   ]
  },
  {
   "cell_type": "code",
   "execution_count": 212,
   "metadata": {
    "scrolled": true
   },
   "outputs": [
    {
     "data": {
      "text/plain": [
       "amount_tsh               0\n",
       "funder                   0\n",
       "gps_height               0\n",
       "installer                0\n",
       "longitude                0\n",
       "latitude                 0\n",
       "wpt_name                 0\n",
       "num_private              0\n",
       "region                   0\n",
       "region_code              0\n",
       "district_code            0\n",
       "population               0\n",
       "public_meeting           0\n",
       "scheme_management        0\n",
       "permit                   0\n",
       "construction_year        0\n",
       "extraction_type_class    0\n",
       "management_group         0\n",
       "payment_type             0\n",
       "quality_group            0\n",
       "quantity_group           0\n",
       "source_type              0\n",
       "waterpoint_type_group    0\n",
       "status_group             0\n",
       "year                     0\n",
       "month                    0\n",
       "dtype: int64"
      ]
     },
     "execution_count": 212,
     "metadata": {},
     "output_type": "execute_result"
    }
   ],
   "source": [
    "data.isnull().sum()"
   ]
  },
  {
   "cell_type": "code",
   "execution_count": 211,
   "metadata": {
    "scrolled": true
   },
   "outputs": [
    {
     "data": {
      "text/plain": [
       "amount_tsh               0\n",
       "funder                   0\n",
       "gps_height               0\n",
       "installer                0\n",
       "longitude                0\n",
       "latitude                 0\n",
       "wpt_name                 0\n",
       "num_private              0\n",
       "region                   0\n",
       "region_code              0\n",
       "district_code            0\n",
       "population               0\n",
       "public_meeting           0\n",
       "scheme_management        0\n",
       "permit                   0\n",
       "construction_year        0\n",
       "extraction_type_class    0\n",
       "management_group         0\n",
       "payment_type             0\n",
       "quality_group            0\n",
       "quantity_group           0\n",
       "source_type              0\n",
       "waterpoint_type_group    0\n",
       "year                     0\n",
       "month                    0\n",
       "dtype: int64"
      ]
     },
     "execution_count": 211,
     "metadata": {},
     "output_type": "execute_result"
    }
   ],
   "source": [
    "data_test.isnull().sum()"
   ]
  },
  {
   "cell_type": "code",
   "execution_count": 104,
   "metadata": {},
   "outputs": [
    {
     "ename": "KeyError",
     "evalue": "\"['waterpoint_type' 'subvillage' 'extraction_type_group' 'ward'\\n 'scheme_name' 'basin' 'lga' 'extraction_type' 'management' 'payment'\\n 'water_quality' 'quantity' 'source' 'source_class'] not found in axis\"",
     "output_type": "error",
     "traceback": [
      "\u001b[1;31m---------------------------------------------------------------------------\u001b[0m",
      "\u001b[1;31mKeyError\u001b[0m                                  Traceback (most recent call last)",
      "\u001b[1;32m<ipython-input-104-8cfa45556f01>\u001b[0m in \u001b[0;36m<module>\u001b[1;34m\u001b[0m\n\u001b[0;32m      1\u001b[0m \u001b[1;31m##Primero vamos a eliminar las variables que se encuentran repetidas en dos variables diferentes, quedandonos con las que mayor agrupacion poseen.\u001b[0m\u001b[1;33m\u001b[0m\u001b[1;33m\u001b[0m\u001b[1;33m\u001b[0m\u001b[0m\n\u001b[0;32m      2\u001b[0m \u001b[1;33m\u001b[0m\u001b[0m\n\u001b[1;32m----> 3\u001b[1;33m \u001b[0mdata\u001b[0m\u001b[1;33m.\u001b[0m\u001b[0mdrop\u001b[0m\u001b[1;33m(\u001b[0m\u001b[1;33m[\u001b[0m\u001b[1;34m'waterpoint_type'\u001b[0m\u001b[1;33m,\u001b[0m\u001b[1;34m'subvillage'\u001b[0m\u001b[1;33m,\u001b[0m\u001b[1;34m'extraction_type_group'\u001b[0m\u001b[1;33m,\u001b[0m\u001b[1;34m'ward'\u001b[0m\u001b[1;33m,\u001b[0m\u001b[1;34m'scheme_name'\u001b[0m\u001b[1;33m,\u001b[0m\u001b[1;34m'basin'\u001b[0m\u001b[1;33m,\u001b[0m\u001b[1;34m'lga'\u001b[0m\u001b[1;33m,\u001b[0m\u001b[1;34m'extraction_type'\u001b[0m\u001b[1;33m,\u001b[0m\u001b[1;34m'management'\u001b[0m\u001b[1;33m,\u001b[0m\u001b[1;34m'payment'\u001b[0m\u001b[1;33m,\u001b[0m\u001b[1;34m'water_quality'\u001b[0m\u001b[1;33m,\u001b[0m\u001b[1;34m'quantity'\u001b[0m\u001b[1;33m,\u001b[0m\u001b[1;34m'source'\u001b[0m\u001b[1;33m,\u001b[0m\u001b[1;34m'source_class'\u001b[0m\u001b[1;33m]\u001b[0m\u001b[1;33m,\u001b[0m \u001b[0maxis\u001b[0m\u001b[1;33m=\u001b[0m\u001b[1;36m1\u001b[0m\u001b[1;33m,\u001b[0m \u001b[0minplace\u001b[0m\u001b[1;33m=\u001b[0m\u001b[1;32mTrue\u001b[0m\u001b[1;33m)\u001b[0m\u001b[1;33m\u001b[0m\u001b[1;33m\u001b[0m\u001b[0m\n\u001b[0m\u001b[0;32m      4\u001b[0m \u001b[1;33m\u001b[0m\u001b[0m\n\u001b[0;32m      5\u001b[0m \u001b[1;31m#Haremos lo mismo para el conjunto de Test\u001b[0m\u001b[1;33m\u001b[0m\u001b[1;33m\u001b[0m\u001b[1;33m\u001b[0m\u001b[0m\n",
      "\u001b[1;32m~\\anaconda3\\lib\\site-packages\\pandas\\core\\frame.py\u001b[0m in \u001b[0;36mdrop\u001b[1;34m(self, labels, axis, index, columns, level, inplace, errors)\u001b[0m\n\u001b[0;32m   4161\u001b[0m                 \u001b[0mweight\u001b[0m  \u001b[1;36m1.0\u001b[0m     \u001b[1;36m0.8\u001b[0m\u001b[1;33m\u001b[0m\u001b[1;33m\u001b[0m\u001b[0m\n\u001b[0;32m   4162\u001b[0m         \"\"\"\n\u001b[1;32m-> 4163\u001b[1;33m         return super().drop(\n\u001b[0m\u001b[0;32m   4164\u001b[0m             \u001b[0mlabels\u001b[0m\u001b[1;33m=\u001b[0m\u001b[0mlabels\u001b[0m\u001b[1;33m,\u001b[0m\u001b[1;33m\u001b[0m\u001b[1;33m\u001b[0m\u001b[0m\n\u001b[0;32m   4165\u001b[0m             \u001b[0maxis\u001b[0m\u001b[1;33m=\u001b[0m\u001b[0maxis\u001b[0m\u001b[1;33m,\u001b[0m\u001b[1;33m\u001b[0m\u001b[1;33m\u001b[0m\u001b[0m\n",
      "\u001b[1;32m~\\anaconda3\\lib\\site-packages\\pandas\\core\\generic.py\u001b[0m in \u001b[0;36mdrop\u001b[1;34m(self, labels, axis, index, columns, level, inplace, errors)\u001b[0m\n\u001b[0;32m   3885\u001b[0m         \u001b[1;32mfor\u001b[0m \u001b[0maxis\u001b[0m\u001b[1;33m,\u001b[0m \u001b[0mlabels\u001b[0m \u001b[1;32min\u001b[0m \u001b[0maxes\u001b[0m\u001b[1;33m.\u001b[0m\u001b[0mitems\u001b[0m\u001b[1;33m(\u001b[0m\u001b[1;33m)\u001b[0m\u001b[1;33m:\u001b[0m\u001b[1;33m\u001b[0m\u001b[1;33m\u001b[0m\u001b[0m\n\u001b[0;32m   3886\u001b[0m             \u001b[1;32mif\u001b[0m \u001b[0mlabels\u001b[0m \u001b[1;32mis\u001b[0m \u001b[1;32mnot\u001b[0m \u001b[1;32mNone\u001b[0m\u001b[1;33m:\u001b[0m\u001b[1;33m\u001b[0m\u001b[1;33m\u001b[0m\u001b[0m\n\u001b[1;32m-> 3887\u001b[1;33m                 \u001b[0mobj\u001b[0m \u001b[1;33m=\u001b[0m \u001b[0mobj\u001b[0m\u001b[1;33m.\u001b[0m\u001b[0m_drop_axis\u001b[0m\u001b[1;33m(\u001b[0m\u001b[0mlabels\u001b[0m\u001b[1;33m,\u001b[0m \u001b[0maxis\u001b[0m\u001b[1;33m,\u001b[0m \u001b[0mlevel\u001b[0m\u001b[1;33m=\u001b[0m\u001b[0mlevel\u001b[0m\u001b[1;33m,\u001b[0m \u001b[0merrors\u001b[0m\u001b[1;33m=\u001b[0m\u001b[0merrors\u001b[0m\u001b[1;33m)\u001b[0m\u001b[1;33m\u001b[0m\u001b[1;33m\u001b[0m\u001b[0m\n\u001b[0m\u001b[0;32m   3888\u001b[0m \u001b[1;33m\u001b[0m\u001b[0m\n\u001b[0;32m   3889\u001b[0m         \u001b[1;32mif\u001b[0m \u001b[0minplace\u001b[0m\u001b[1;33m:\u001b[0m\u001b[1;33m\u001b[0m\u001b[1;33m\u001b[0m\u001b[0m\n",
      "\u001b[1;32m~\\anaconda3\\lib\\site-packages\\pandas\\core\\generic.py\u001b[0m in \u001b[0;36m_drop_axis\u001b[1;34m(self, labels, axis, level, errors)\u001b[0m\n\u001b[0;32m   3919\u001b[0m                 \u001b[0mnew_axis\u001b[0m \u001b[1;33m=\u001b[0m \u001b[0maxis\u001b[0m\u001b[1;33m.\u001b[0m\u001b[0mdrop\u001b[0m\u001b[1;33m(\u001b[0m\u001b[0mlabels\u001b[0m\u001b[1;33m,\u001b[0m \u001b[0mlevel\u001b[0m\u001b[1;33m=\u001b[0m\u001b[0mlevel\u001b[0m\u001b[1;33m,\u001b[0m \u001b[0merrors\u001b[0m\u001b[1;33m=\u001b[0m\u001b[0merrors\u001b[0m\u001b[1;33m)\u001b[0m\u001b[1;33m\u001b[0m\u001b[1;33m\u001b[0m\u001b[0m\n\u001b[0;32m   3920\u001b[0m             \u001b[1;32melse\u001b[0m\u001b[1;33m:\u001b[0m\u001b[1;33m\u001b[0m\u001b[1;33m\u001b[0m\u001b[0m\n\u001b[1;32m-> 3921\u001b[1;33m                 \u001b[0mnew_axis\u001b[0m \u001b[1;33m=\u001b[0m \u001b[0maxis\u001b[0m\u001b[1;33m.\u001b[0m\u001b[0mdrop\u001b[0m\u001b[1;33m(\u001b[0m\u001b[0mlabels\u001b[0m\u001b[1;33m,\u001b[0m \u001b[0merrors\u001b[0m\u001b[1;33m=\u001b[0m\u001b[0merrors\u001b[0m\u001b[1;33m)\u001b[0m\u001b[1;33m\u001b[0m\u001b[1;33m\u001b[0m\u001b[0m\n\u001b[0m\u001b[0;32m   3922\u001b[0m             \u001b[0mresult\u001b[0m \u001b[1;33m=\u001b[0m \u001b[0mself\u001b[0m\u001b[1;33m.\u001b[0m\u001b[0mreindex\u001b[0m\u001b[1;33m(\u001b[0m\u001b[1;33m**\u001b[0m\u001b[1;33m{\u001b[0m\u001b[0maxis_name\u001b[0m\u001b[1;33m:\u001b[0m \u001b[0mnew_axis\u001b[0m\u001b[1;33m}\u001b[0m\u001b[1;33m)\u001b[0m\u001b[1;33m\u001b[0m\u001b[1;33m\u001b[0m\u001b[0m\n\u001b[0;32m   3923\u001b[0m \u001b[1;33m\u001b[0m\u001b[0m\n",
      "\u001b[1;32m~\\anaconda3\\lib\\site-packages\\pandas\\core\\indexes\\base.py\u001b[0m in \u001b[0;36mdrop\u001b[1;34m(self, labels, errors)\u001b[0m\n\u001b[0;32m   5280\u001b[0m         \u001b[1;32mif\u001b[0m \u001b[0mmask\u001b[0m\u001b[1;33m.\u001b[0m\u001b[0many\u001b[0m\u001b[1;33m(\u001b[0m\u001b[1;33m)\u001b[0m\u001b[1;33m:\u001b[0m\u001b[1;33m\u001b[0m\u001b[1;33m\u001b[0m\u001b[0m\n\u001b[0;32m   5281\u001b[0m             \u001b[1;32mif\u001b[0m \u001b[0merrors\u001b[0m \u001b[1;33m!=\u001b[0m \u001b[1;34m\"ignore\"\u001b[0m\u001b[1;33m:\u001b[0m\u001b[1;33m\u001b[0m\u001b[1;33m\u001b[0m\u001b[0m\n\u001b[1;32m-> 5282\u001b[1;33m                 \u001b[1;32mraise\u001b[0m \u001b[0mKeyError\u001b[0m\u001b[1;33m(\u001b[0m\u001b[1;34mf\"{labels[mask]} not found in axis\"\u001b[0m\u001b[1;33m)\u001b[0m\u001b[1;33m\u001b[0m\u001b[1;33m\u001b[0m\u001b[0m\n\u001b[0m\u001b[0;32m   5283\u001b[0m             \u001b[0mindexer\u001b[0m \u001b[1;33m=\u001b[0m \u001b[0mindexer\u001b[0m\u001b[1;33m[\u001b[0m\u001b[1;33m~\u001b[0m\u001b[0mmask\u001b[0m\u001b[1;33m]\u001b[0m\u001b[1;33m\u001b[0m\u001b[1;33m\u001b[0m\u001b[0m\n\u001b[0;32m   5284\u001b[0m         \u001b[1;32mreturn\u001b[0m \u001b[0mself\u001b[0m\u001b[1;33m.\u001b[0m\u001b[0mdelete\u001b[0m\u001b[1;33m(\u001b[0m\u001b[0mindexer\u001b[0m\u001b[1;33m)\u001b[0m\u001b[1;33m\u001b[0m\u001b[1;33m\u001b[0m\u001b[0m\n",
      "\u001b[1;31mKeyError\u001b[0m: \"['waterpoint_type' 'subvillage' 'extraction_type_group' 'ward'\\n 'scheme_name' 'basin' 'lga' 'extraction_type' 'management' 'payment'\\n 'water_quality' 'quantity' 'source' 'source_class'] not found in axis\""
     ]
    }
   ],
   "source": [
    "##Primero vamos a eliminar las variables que se encuentran repetidas en dos variables diferentes, quedandonos con las que mayor agrupacion poseen.\n",
    "\n",
    "data.drop(['waterpoint_type','subvillage','extraction_type_group','ward','scheme_name','basin','lga','extraction_type','management','payment','water_quality','quantity','source','source_class'], axis=1, inplace=True)\n",
    "\n",
    "#Haremos lo mismo para el conjunto de Test\n",
    "\n",
    "data_test.drop(['waterpoint_type','subvillage','extraction_type_group','ward','scheme_name','basin','lga','extraction_type','management','payment','water_quality','quantity','source','source_class'], axis=1, inplace=True)\n"
   ]
  },
  {
   "cell_type": "code",
   "execution_count": 105,
   "metadata": {},
   "outputs": [
    {
     "ename": "KeyError",
     "evalue": "\"['recorded_by'] not found in axis\"",
     "output_type": "error",
     "traceback": [
      "\u001b[1;31m---------------------------------------------------------------------------\u001b[0m",
      "\u001b[1;31mKeyError\u001b[0m                                  Traceback (most recent call last)",
      "\u001b[1;32m<ipython-input-105-15d5e8faad44>\u001b[0m in \u001b[0;36m<module>\u001b[1;34m\u001b[0m\n\u001b[0;32m      1\u001b[0m \u001b[1;31m#Optamos por eliminar recorded_by ya que tiene un único valor\u001b[0m\u001b[1;33m\u001b[0m\u001b[1;33m\u001b[0m\u001b[1;33m\u001b[0m\u001b[0m\n\u001b[0;32m      2\u001b[0m \u001b[1;33m\u001b[0m\u001b[0m\n\u001b[1;32m----> 3\u001b[1;33m \u001b[0mdata\u001b[0m\u001b[1;33m.\u001b[0m\u001b[0mdrop\u001b[0m\u001b[1;33m(\u001b[0m\u001b[1;34m'recorded_by'\u001b[0m\u001b[1;33m,\u001b[0m \u001b[0maxis\u001b[0m\u001b[1;33m=\u001b[0m\u001b[1;36m1\u001b[0m\u001b[1;33m,\u001b[0m \u001b[0minplace\u001b[0m\u001b[1;33m=\u001b[0m\u001b[1;32mTrue\u001b[0m\u001b[1;33m)\u001b[0m\u001b[1;33m\u001b[0m\u001b[1;33m\u001b[0m\u001b[0m\n\u001b[0m\u001b[0;32m      4\u001b[0m \u001b[0mdata_test\u001b[0m\u001b[1;33m.\u001b[0m\u001b[0mdrop\u001b[0m\u001b[1;33m(\u001b[0m\u001b[1;34m'recorded_by'\u001b[0m\u001b[1;33m,\u001b[0m \u001b[0maxis\u001b[0m\u001b[1;33m=\u001b[0m\u001b[1;36m1\u001b[0m\u001b[1;33m,\u001b[0m \u001b[0minplace\u001b[0m\u001b[1;33m=\u001b[0m\u001b[1;32mTrue\u001b[0m\u001b[1;33m)\u001b[0m\u001b[1;33m\u001b[0m\u001b[1;33m\u001b[0m\u001b[0m\n",
      "\u001b[1;32m~\\anaconda3\\lib\\site-packages\\pandas\\core\\frame.py\u001b[0m in \u001b[0;36mdrop\u001b[1;34m(self, labels, axis, index, columns, level, inplace, errors)\u001b[0m\n\u001b[0;32m   4161\u001b[0m                 \u001b[0mweight\u001b[0m  \u001b[1;36m1.0\u001b[0m     \u001b[1;36m0.8\u001b[0m\u001b[1;33m\u001b[0m\u001b[1;33m\u001b[0m\u001b[0m\n\u001b[0;32m   4162\u001b[0m         \"\"\"\n\u001b[1;32m-> 4163\u001b[1;33m         return super().drop(\n\u001b[0m\u001b[0;32m   4164\u001b[0m             \u001b[0mlabels\u001b[0m\u001b[1;33m=\u001b[0m\u001b[0mlabels\u001b[0m\u001b[1;33m,\u001b[0m\u001b[1;33m\u001b[0m\u001b[1;33m\u001b[0m\u001b[0m\n\u001b[0;32m   4165\u001b[0m             \u001b[0maxis\u001b[0m\u001b[1;33m=\u001b[0m\u001b[0maxis\u001b[0m\u001b[1;33m,\u001b[0m\u001b[1;33m\u001b[0m\u001b[1;33m\u001b[0m\u001b[0m\n",
      "\u001b[1;32m~\\anaconda3\\lib\\site-packages\\pandas\\core\\generic.py\u001b[0m in \u001b[0;36mdrop\u001b[1;34m(self, labels, axis, index, columns, level, inplace, errors)\u001b[0m\n\u001b[0;32m   3885\u001b[0m         \u001b[1;32mfor\u001b[0m \u001b[0maxis\u001b[0m\u001b[1;33m,\u001b[0m \u001b[0mlabels\u001b[0m \u001b[1;32min\u001b[0m \u001b[0maxes\u001b[0m\u001b[1;33m.\u001b[0m\u001b[0mitems\u001b[0m\u001b[1;33m(\u001b[0m\u001b[1;33m)\u001b[0m\u001b[1;33m:\u001b[0m\u001b[1;33m\u001b[0m\u001b[1;33m\u001b[0m\u001b[0m\n\u001b[0;32m   3886\u001b[0m             \u001b[1;32mif\u001b[0m \u001b[0mlabels\u001b[0m \u001b[1;32mis\u001b[0m \u001b[1;32mnot\u001b[0m \u001b[1;32mNone\u001b[0m\u001b[1;33m:\u001b[0m\u001b[1;33m\u001b[0m\u001b[1;33m\u001b[0m\u001b[0m\n\u001b[1;32m-> 3887\u001b[1;33m                 \u001b[0mobj\u001b[0m \u001b[1;33m=\u001b[0m \u001b[0mobj\u001b[0m\u001b[1;33m.\u001b[0m\u001b[0m_drop_axis\u001b[0m\u001b[1;33m(\u001b[0m\u001b[0mlabels\u001b[0m\u001b[1;33m,\u001b[0m \u001b[0maxis\u001b[0m\u001b[1;33m,\u001b[0m \u001b[0mlevel\u001b[0m\u001b[1;33m=\u001b[0m\u001b[0mlevel\u001b[0m\u001b[1;33m,\u001b[0m \u001b[0merrors\u001b[0m\u001b[1;33m=\u001b[0m\u001b[0merrors\u001b[0m\u001b[1;33m)\u001b[0m\u001b[1;33m\u001b[0m\u001b[1;33m\u001b[0m\u001b[0m\n\u001b[0m\u001b[0;32m   3888\u001b[0m \u001b[1;33m\u001b[0m\u001b[0m\n\u001b[0;32m   3889\u001b[0m         \u001b[1;32mif\u001b[0m \u001b[0minplace\u001b[0m\u001b[1;33m:\u001b[0m\u001b[1;33m\u001b[0m\u001b[1;33m\u001b[0m\u001b[0m\n",
      "\u001b[1;32m~\\anaconda3\\lib\\site-packages\\pandas\\core\\generic.py\u001b[0m in \u001b[0;36m_drop_axis\u001b[1;34m(self, labels, axis, level, errors)\u001b[0m\n\u001b[0;32m   3919\u001b[0m                 \u001b[0mnew_axis\u001b[0m \u001b[1;33m=\u001b[0m \u001b[0maxis\u001b[0m\u001b[1;33m.\u001b[0m\u001b[0mdrop\u001b[0m\u001b[1;33m(\u001b[0m\u001b[0mlabels\u001b[0m\u001b[1;33m,\u001b[0m \u001b[0mlevel\u001b[0m\u001b[1;33m=\u001b[0m\u001b[0mlevel\u001b[0m\u001b[1;33m,\u001b[0m \u001b[0merrors\u001b[0m\u001b[1;33m=\u001b[0m\u001b[0merrors\u001b[0m\u001b[1;33m)\u001b[0m\u001b[1;33m\u001b[0m\u001b[1;33m\u001b[0m\u001b[0m\n\u001b[0;32m   3920\u001b[0m             \u001b[1;32melse\u001b[0m\u001b[1;33m:\u001b[0m\u001b[1;33m\u001b[0m\u001b[1;33m\u001b[0m\u001b[0m\n\u001b[1;32m-> 3921\u001b[1;33m                 \u001b[0mnew_axis\u001b[0m \u001b[1;33m=\u001b[0m \u001b[0maxis\u001b[0m\u001b[1;33m.\u001b[0m\u001b[0mdrop\u001b[0m\u001b[1;33m(\u001b[0m\u001b[0mlabels\u001b[0m\u001b[1;33m,\u001b[0m \u001b[0merrors\u001b[0m\u001b[1;33m=\u001b[0m\u001b[0merrors\u001b[0m\u001b[1;33m)\u001b[0m\u001b[1;33m\u001b[0m\u001b[1;33m\u001b[0m\u001b[0m\n\u001b[0m\u001b[0;32m   3922\u001b[0m             \u001b[0mresult\u001b[0m \u001b[1;33m=\u001b[0m \u001b[0mself\u001b[0m\u001b[1;33m.\u001b[0m\u001b[0mreindex\u001b[0m\u001b[1;33m(\u001b[0m\u001b[1;33m**\u001b[0m\u001b[1;33m{\u001b[0m\u001b[0maxis_name\u001b[0m\u001b[1;33m:\u001b[0m \u001b[0mnew_axis\u001b[0m\u001b[1;33m}\u001b[0m\u001b[1;33m)\u001b[0m\u001b[1;33m\u001b[0m\u001b[1;33m\u001b[0m\u001b[0m\n\u001b[0;32m   3923\u001b[0m \u001b[1;33m\u001b[0m\u001b[0m\n",
      "\u001b[1;32m~\\anaconda3\\lib\\site-packages\\pandas\\core\\indexes\\base.py\u001b[0m in \u001b[0;36mdrop\u001b[1;34m(self, labels, errors)\u001b[0m\n\u001b[0;32m   5280\u001b[0m         \u001b[1;32mif\u001b[0m \u001b[0mmask\u001b[0m\u001b[1;33m.\u001b[0m\u001b[0many\u001b[0m\u001b[1;33m(\u001b[0m\u001b[1;33m)\u001b[0m\u001b[1;33m:\u001b[0m\u001b[1;33m\u001b[0m\u001b[1;33m\u001b[0m\u001b[0m\n\u001b[0;32m   5281\u001b[0m             \u001b[1;32mif\u001b[0m \u001b[0merrors\u001b[0m \u001b[1;33m!=\u001b[0m \u001b[1;34m\"ignore\"\u001b[0m\u001b[1;33m:\u001b[0m\u001b[1;33m\u001b[0m\u001b[1;33m\u001b[0m\u001b[0m\n\u001b[1;32m-> 5282\u001b[1;33m                 \u001b[1;32mraise\u001b[0m \u001b[0mKeyError\u001b[0m\u001b[1;33m(\u001b[0m\u001b[1;34mf\"{labels[mask]} not found in axis\"\u001b[0m\u001b[1;33m)\u001b[0m\u001b[1;33m\u001b[0m\u001b[1;33m\u001b[0m\u001b[0m\n\u001b[0m\u001b[0;32m   5283\u001b[0m             \u001b[0mindexer\u001b[0m \u001b[1;33m=\u001b[0m \u001b[0mindexer\u001b[0m\u001b[1;33m[\u001b[0m\u001b[1;33m~\u001b[0m\u001b[0mmask\u001b[0m\u001b[1;33m]\u001b[0m\u001b[1;33m\u001b[0m\u001b[1;33m\u001b[0m\u001b[0m\n\u001b[0;32m   5284\u001b[0m         \u001b[1;32mreturn\u001b[0m \u001b[0mself\u001b[0m\u001b[1;33m.\u001b[0m\u001b[0mdelete\u001b[0m\u001b[1;33m(\u001b[0m\u001b[0mindexer\u001b[0m\u001b[1;33m)\u001b[0m\u001b[1;33m\u001b[0m\u001b[1;33m\u001b[0m\u001b[0m\n",
      "\u001b[1;31mKeyError\u001b[0m: \"['recorded_by'] not found in axis\""
     ]
    }
   ],
   "source": [
    "#Optamos por eliminar recorded_by ya que tiene un único valor\n",
    "\n",
    "data.drop('recorded_by', axis=1, inplace=True)\n",
    "data_test.drop('recorded_by', axis=1, inplace=True)"
   ]
  },
  {
   "cell_type": "code",
   "execution_count": 13,
   "metadata": {},
   "outputs": [],
   "source": [
    "lista_categoricas = ['funder','installer','wpt_name','region','public_meeting',\n",
    "                     'scheme_management','permit',\n",
    "                     'extraction_type_class','management_group','payment_type',\n",
    "                     'quality_group','quantity_group','source_type','waterpoint_type_group']\n",
    "lista_numericas = ['amount_tsh','gps_height','longitude','latitude','num_private','region_code','district_code','population',\n",
    "                  'construction_year']"
   ]
  },
  {
   "cell_type": "code",
   "execution_count": 106,
   "metadata": {
    "scrolled": true
   },
   "outputs": [],
   "source": [
    "##Vamos a convertir el campo de fecha y luego crear dos columnas donde una será el año y otra el mes, quitando el día\n",
    "\n",
    "\n",
    "data['date'] = pd.to_datetime(data['date_recorded'])\n",
    "data['year'], data['month'] = data['date'].dt.year, data['date'].dt.month\n",
    "\n",
    "data.drop(['date_recorded','date'], axis=1, inplace=True)\n",
    "\n",
    "data_test['date'] = pd.to_datetime(data_test['date_recorded'])\n",
    "data_test['year'], data_test['month'] = data_test['date'].dt.year, data_test['date'].dt.month\n",
    "\n",
    "data_test.drop(['date_recorded','date'], axis=1, inplace=True)"
   ]
  },
  {
   "cell_type": "code",
   "execution_count": 13,
   "metadata": {},
   "outputs": [
    {
     "data": {
      "text/html": [
       "<div>\n",
       "<style scoped>\n",
       "    .dataframe tbody tr th:only-of-type {\n",
       "        vertical-align: middle;\n",
       "    }\n",
       "\n",
       "    .dataframe tbody tr th {\n",
       "        vertical-align: top;\n",
       "    }\n",
       "\n",
       "    .dataframe thead th {\n",
       "        text-align: right;\n",
       "    }\n",
       "</style>\n",
       "<table border=\"1\" class=\"dataframe\">\n",
       "  <thead>\n",
       "    <tr style=\"text-align: right;\">\n",
       "      <th></th>\n",
       "      <th>amount_tsh</th>\n",
       "      <th>funder</th>\n",
       "      <th>gps_height</th>\n",
       "      <th>installer</th>\n",
       "      <th>longitude</th>\n",
       "      <th>latitude</th>\n",
       "      <th>wpt_name</th>\n",
       "      <th>num_private</th>\n",
       "      <th>region</th>\n",
       "      <th>region_code</th>\n",
       "      <th>...</th>\n",
       "      <th>extraction_type_class</th>\n",
       "      <th>management_group</th>\n",
       "      <th>payment_type</th>\n",
       "      <th>quality_group</th>\n",
       "      <th>quantity_group</th>\n",
       "      <th>source_type</th>\n",
       "      <th>waterpoint_type_group</th>\n",
       "      <th>status_group</th>\n",
       "      <th>year</th>\n",
       "      <th>month</th>\n",
       "    </tr>\n",
       "    <tr>\n",
       "      <th>id</th>\n",
       "      <th></th>\n",
       "      <th></th>\n",
       "      <th></th>\n",
       "      <th></th>\n",
       "      <th></th>\n",
       "      <th></th>\n",
       "      <th></th>\n",
       "      <th></th>\n",
       "      <th></th>\n",
       "      <th></th>\n",
       "      <th></th>\n",
       "      <th></th>\n",
       "      <th></th>\n",
       "      <th></th>\n",
       "      <th></th>\n",
       "      <th></th>\n",
       "      <th></th>\n",
       "      <th></th>\n",
       "      <th></th>\n",
       "      <th></th>\n",
       "      <th></th>\n",
       "    </tr>\n",
       "  </thead>\n",
       "  <tbody>\n",
       "    <tr>\n",
       "      <th>69572</th>\n",
       "      <td>6000.0</td>\n",
       "      <td>Roman</td>\n",
       "      <td>1390</td>\n",
       "      <td>Roman</td>\n",
       "      <td>34.938093</td>\n",
       "      <td>-9.856322</td>\n",
       "      <td>none</td>\n",
       "      <td>0</td>\n",
       "      <td>Iringa</td>\n",
       "      <td>11</td>\n",
       "      <td>...</td>\n",
       "      <td>gravity</td>\n",
       "      <td>user-group</td>\n",
       "      <td>annually</td>\n",
       "      <td>good</td>\n",
       "      <td>enough</td>\n",
       "      <td>spring</td>\n",
       "      <td>communal standpipe</td>\n",
       "      <td>1</td>\n",
       "      <td>2011</td>\n",
       "      <td>3</td>\n",
       "    </tr>\n",
       "    <tr>\n",
       "      <th>8776</th>\n",
       "      <td>0.0</td>\n",
       "      <td>Grumeti</td>\n",
       "      <td>1399</td>\n",
       "      <td>GRUMETI</td>\n",
       "      <td>34.698766</td>\n",
       "      <td>-2.147466</td>\n",
       "      <td>Zahanati</td>\n",
       "      <td>0</td>\n",
       "      <td>Mara</td>\n",
       "      <td>20</td>\n",
       "      <td>...</td>\n",
       "      <td>gravity</td>\n",
       "      <td>user-group</td>\n",
       "      <td>never pay</td>\n",
       "      <td>good</td>\n",
       "      <td>insufficient</td>\n",
       "      <td>rainwater harvesting</td>\n",
       "      <td>communal standpipe</td>\n",
       "      <td>1</td>\n",
       "      <td>2013</td>\n",
       "      <td>3</td>\n",
       "    </tr>\n",
       "    <tr>\n",
       "      <th>34310</th>\n",
       "      <td>25.0</td>\n",
       "      <td>Lottery Club</td>\n",
       "      <td>686</td>\n",
       "      <td>World vision</td>\n",
       "      <td>37.460664</td>\n",
       "      <td>-3.821329</td>\n",
       "      <td>Kwa Mahundi</td>\n",
       "      <td>0</td>\n",
       "      <td>Manyara</td>\n",
       "      <td>21</td>\n",
       "      <td>...</td>\n",
       "      <td>gravity</td>\n",
       "      <td>user-group</td>\n",
       "      <td>per bucket</td>\n",
       "      <td>good</td>\n",
       "      <td>enough</td>\n",
       "      <td>dam</td>\n",
       "      <td>communal standpipe</td>\n",
       "      <td>1</td>\n",
       "      <td>2013</td>\n",
       "      <td>2</td>\n",
       "    </tr>\n",
       "    <tr>\n",
       "      <th>67743</th>\n",
       "      <td>0.0</td>\n",
       "      <td>Unicef</td>\n",
       "      <td>263</td>\n",
       "      <td>UNICEF</td>\n",
       "      <td>38.486161</td>\n",
       "      <td>-11.155298</td>\n",
       "      <td>Zahanati Ya Nanyumbu</td>\n",
       "      <td>0</td>\n",
       "      <td>Mtwara</td>\n",
       "      <td>90</td>\n",
       "      <td>...</td>\n",
       "      <td>submersible</td>\n",
       "      <td>user-group</td>\n",
       "      <td>never pay</td>\n",
       "      <td>good</td>\n",
       "      <td>dry</td>\n",
       "      <td>borehole</td>\n",
       "      <td>communal standpipe</td>\n",
       "      <td>0</td>\n",
       "      <td>2013</td>\n",
       "      <td>1</td>\n",
       "    </tr>\n",
       "    <tr>\n",
       "      <th>19728</th>\n",
       "      <td>0.0</td>\n",
       "      <td>Action In A</td>\n",
       "      <td>0</td>\n",
       "      <td>Artisan</td>\n",
       "      <td>31.130847</td>\n",
       "      <td>-1.825359</td>\n",
       "      <td>Shuleni</td>\n",
       "      <td>0</td>\n",
       "      <td>Kagera</td>\n",
       "      <td>18</td>\n",
       "      <td>...</td>\n",
       "      <td>gravity</td>\n",
       "      <td>other</td>\n",
       "      <td>never pay</td>\n",
       "      <td>good</td>\n",
       "      <td>seasonal</td>\n",
       "      <td>rainwater harvesting</td>\n",
       "      <td>communal standpipe</td>\n",
       "      <td>1</td>\n",
       "      <td>2011</td>\n",
       "      <td>7</td>\n",
       "    </tr>\n",
       "  </tbody>\n",
       "</table>\n",
       "<p>5 rows × 26 columns</p>\n",
       "</div>"
      ],
      "text/plain": [
       "       amount_tsh        funder  gps_height     installer  longitude  \\\n",
       "id                                                                     \n",
       "69572      6000.0         Roman        1390         Roman  34.938093   \n",
       "8776          0.0       Grumeti        1399       GRUMETI  34.698766   \n",
       "34310        25.0  Lottery Club         686  World vision  37.460664   \n",
       "67743         0.0        Unicef         263        UNICEF  38.486161   \n",
       "19728         0.0   Action In A           0       Artisan  31.130847   \n",
       "\n",
       "        latitude              wpt_name  num_private   region  region_code  \\\n",
       "id                                                                          \n",
       "69572  -9.856322                  none            0   Iringa           11   \n",
       "8776   -2.147466              Zahanati            0     Mara           20   \n",
       "34310  -3.821329           Kwa Mahundi            0  Manyara           21   \n",
       "67743 -11.155298  Zahanati Ya Nanyumbu            0   Mtwara           90   \n",
       "19728  -1.825359               Shuleni            0   Kagera           18   \n",
       "\n",
       "       ...  extraction_type_class  management_group payment_type  \\\n",
       "id     ...                                                         \n",
       "69572  ...                gravity        user-group     annually   \n",
       "8776   ...                gravity        user-group    never pay   \n",
       "34310  ...                gravity        user-group   per bucket   \n",
       "67743  ...            submersible        user-group    never pay   \n",
       "19728  ...                gravity             other    never pay   \n",
       "\n",
       "      quality_group quantity_group           source_type  \\\n",
       "id                                                         \n",
       "69572          good         enough                spring   \n",
       "8776           good   insufficient  rainwater harvesting   \n",
       "34310          good         enough                   dam   \n",
       "67743          good            dry              borehole   \n",
       "19728          good       seasonal  rainwater harvesting   \n",
       "\n",
       "      waterpoint_type_group status_group  year month  \n",
       "id                                                    \n",
       "69572    communal standpipe            1  2011     3  \n",
       "8776     communal standpipe            1  2013     3  \n",
       "34310    communal standpipe            1  2013     2  \n",
       "67743    communal standpipe            0  2013     1  \n",
       "19728    communal standpipe            1  2011     7  \n",
       "\n",
       "[5 rows x 26 columns]"
      ]
     },
     "execution_count": 13,
     "metadata": {},
     "output_type": "execute_result"
    }
   ],
   "source": [
    "data.shape\n",
    "data.head()"
   ]
  },
  {
   "cell_type": "code",
   "execution_count": 14,
   "metadata": {},
   "outputs": [
    {
     "data": {
      "text/plain": [
       "True     38852\n",
       "False    17492\n",
       "Name: permit, dtype: int64"
      ]
     },
     "execution_count": 14,
     "metadata": {},
     "output_type": "execute_result"
    }
   ],
   "source": [
    "#Contamos los valores de cada categoria\n",
    "data['permit'].value_counts()"
   ]
  },
  {
   "cell_type": "markdown",
   "metadata": {},
   "source": [
    "### Tratamiento valores NA"
   ]
  },
  {
   "cell_type": "code",
   "execution_count": 107,
   "metadata": {},
   "outputs": [],
   "source": [
    "## Tratamiento de valores NA - Permit\n",
    "#En este caso como tenemos que el 5% de los datos son NA, vamos a optar por imputarlos segun la moda\n",
    "\n",
    "data['permit']=data['permit'].fillna(data['permit'].mode()[0])\n",
    "\n",
    "data_test['permit']=data_test['permit'].fillna(data_test['permit'].mode()[0])"
   ]
  },
  {
   "cell_type": "code",
   "execution_count": 108,
   "metadata": {},
   "outputs": [
    {
     "data": {
      "text/plain": [
       "True     51011\n",
       "False     5055\n",
       "Name: public_meeting, dtype: int64"
      ]
     },
     "execution_count": 108,
     "metadata": {},
     "output_type": "execute_result"
    }
   ],
   "source": [
    "data['public_meeting'].value_counts()"
   ]
  },
  {
   "cell_type": "code",
   "execution_count": 109,
   "metadata": {},
   "outputs": [],
   "source": [
    "#Vamos a optar a realizar el mismo procedimiento que con la variable permit\n",
    "data['public_meeting']=data['public_meeting'].fillna(data['public_meeting'].mode()[0])\n",
    "\n",
    "data_test['public_meeting']=data_test['public_meeting'].fillna(data_test['public_meeting'].mode()[0])"
   ]
  },
  {
   "cell_type": "code",
   "execution_count": 110,
   "metadata": {},
   "outputs": [],
   "source": [
    "## Cambiamos las variables binarias a si/no\n",
    "\n",
    "data['permit'] = data['permit'].astype(int)\n",
    "data['public_meeting'] = data['public_meeting'].astype(int)\n",
    "\n",
    "data_test['permit'] = data_test['permit'].astype(int)\n",
    "data_test['public_meeting'] = data_test['public_meeting'].astype(int)"
   ]
  },
  {
   "cell_type": "code",
   "execution_count": 111,
   "metadata": {},
   "outputs": [],
   "source": [
    "data['scheme_management']=data['scheme_management'].fillna(data['scheme_management'].mode()[0])\n",
    "data_test['scheme_management']=data_test['scheme_management'].fillna(data_test['scheme_management'].mode()[0])"
   ]
  },
  {
   "cell_type": "markdown",
   "metadata": {},
   "source": [
    "### Agrupando variables categóricas en numéricas"
   ]
  },
  {
   "cell_type": "code",
   "execution_count": 33,
   "metadata": {
    "scrolled": true
   },
   "outputs": [
    {
     "name": "stdout",
     "output_type": "stream",
     "text": [
      "funder\n",
      "4    45000\n",
      "1     9084\n",
      "2     3114\n",
      "3     2202\n",
      "Name: funder, dtype: int64\n",
      "installer\n",
      "3    40173\n",
      "1    17402\n",
      "2     1825\n",
      "Name: installer, dtype: int64\n",
      "wpt_name\n",
      "3    54089\n",
      "1     3563\n",
      "2     1748\n",
      "Name: wpt_name, dtype: int64\n",
      "region\n",
      "1     5294\n",
      "2     4982\n",
      "3     4639\n",
      "4     4379\n",
      "5     4006\n",
      "7     3350\n",
      "6     3316\n",
      "8     3102\n",
      "9     2816\n",
      "11    2640\n",
      "10    2635\n",
      "12    2547\n",
      "13    2201\n",
      "14    2093\n",
      "16    1969\n",
      "15    1959\n",
      "17    1808\n",
      "18    1730\n",
      "19    1583\n",
      "20    1546\n",
      "21     805\n",
      "Name: region, dtype: int64\n",
      "public_meeting\n",
      "1    54345\n",
      "0     5055\n",
      "Name: public_meeting, dtype: int64\n",
      "scheme_management\n",
      "1     40670\n",
      "2      5206\n",
      "3      3153\n",
      "4      2883\n",
      "5      2748\n",
      "6      1680\n",
      "8      1063\n",
      "7      1061\n",
      "9       766\n",
      "10       97\n",
      "11       72\n",
      "12        1\n",
      "Name: scheme_management, dtype: int64\n",
      "permit\n",
      "1    41908\n",
      "0    17492\n",
      "Name: permit, dtype: int64\n",
      "extraction_type_class\n",
      "1    26780\n",
      "2    16456\n",
      "3     6430\n",
      "4     6179\n",
      "5     2987\n",
      "6      451\n",
      "7      117\n",
      "Name: extraction_type_class, dtype: int64\n",
      "management_group\n",
      "1    52490\n",
      "2     3638\n",
      "3     1768\n",
      "4      943\n",
      "5      561\n",
      "Name: management_group, dtype: int64\n",
      "payment_type\n",
      "1    25348\n",
      "2     8985\n",
      "3     8300\n",
      "4     8157\n",
      "5     3914\n",
      "6     3642\n",
      "7     1054\n",
      "Name: payment_type, dtype: int64\n",
      "quality_group\n",
      "1    50818\n",
      "2     5195\n",
      "3     1876\n",
      "4      804\n",
      "5      490\n",
      "6      217\n",
      "Name: quality_group, dtype: int64\n",
      "quantity_group\n",
      "1    33186\n",
      "2    15129\n",
      "3     6246\n",
      "4     4050\n",
      "5      789\n",
      "Name: quantity_group, dtype: int64\n",
      "source_type\n",
      "1    17021\n",
      "2    16824\n",
      "3    11949\n",
      "4    10377\n",
      "5     2295\n",
      "6      656\n",
      "7      278\n",
      "Name: source_type, dtype: int64\n",
      "waterpoint_type_group\n",
      "1    34625\n",
      "2    17488\n",
      "3     6380\n",
      "4      784\n",
      "5      116\n",
      "6        7\n",
      "Name: waterpoint_type_group, dtype: int64\n"
     ]
    }
   ],
   "source": [
    "for i in lista_categoricas:\n",
    "    print(i)\n",
    "    print(data[i].value_counts())"
   ]
  },
  {
   "cell_type": "code",
   "execution_count": 210,
   "metadata": {},
   "outputs": [
    {
     "name": "stdout",
     "output_type": "stream",
     "text": [
      "funder\n",
      "4    11262\n",
      "1     2215\n",
      "2      793\n",
      "3      580\n",
      "Name: funder, dtype: int64\n",
      "installer\n",
      "3    10044\n",
      "1     4349\n",
      "2      457\n",
      "Name: installer, dtype: int64\n",
      "wpt_name\n",
      "3    13538\n",
      "1      877\n",
      "2      435\n",
      "Name: wpt_name, dtype: int64\n",
      "region\n",
      "2     1311\n",
      "1     1305\n",
      "3     1119\n",
      "4     1115\n",
      "5     1032\n",
      "6      858\n",
      "8      795\n",
      "7      761\n",
      "9      717\n",
      "10     696\n",
      "11     666\n",
      "12     639\n",
      "13     578\n",
      "15     507\n",
      "16     482\n",
      "14     443\n",
      "17     434\n",
      "18     414\n",
      "19     389\n",
      "20     374\n",
      "21     215\n",
      "Name: region, dtype: int64\n",
      "public_meeting\n",
      "1    13559\n",
      "0     1291\n",
      "Name: public_meeting, dtype: int64\n",
      "scheme_management\n",
      "1     10093\n",
      "2      1290\n",
      "3       822\n",
      "5       714\n",
      "4       668\n",
      "6       444\n",
      "7       280\n",
      "8       263\n",
      "9       230\n",
      "10       26\n",
      "11       20\n",
      "Name: scheme_management, dtype: int64\n",
      "permit\n",
      "1    10491\n",
      "0     4359\n",
      "Name: permit, dtype: int64\n",
      "extraction_type_class\n",
      "1    6483\n",
      "2    4156\n",
      "3    1672\n",
      "4    1593\n",
      "5     790\n",
      "6     121\n",
      "7      35\n",
      "Name: extraction_type_class, dtype: int64\n",
      "management_group\n",
      "1    13048\n",
      "2      953\n",
      "3      461\n",
      "4      266\n",
      "5      122\n",
      "Name: management_group, dtype: int64\n",
      "payment_type\n",
      "1    6364\n",
      "2    2281\n",
      "3    2097\n",
      "4    1992\n",
      "6     928\n",
      "5     928\n",
      "7     260\n",
      "Name: payment_type, dtype: int64\n",
      "quality_group\n",
      "1    12687\n",
      "2     1310\n",
      "3      469\n",
      "4      201\n",
      "5      133\n",
      "6       50\n",
      "Name: quality_group, dtype: int64\n",
      "quantity_group\n",
      "1    8336\n",
      "2    3767\n",
      "3    1536\n",
      "4    1025\n",
      "5     186\n",
      "Name: quantity_group, dtype: int64\n",
      "source_type\n",
      "2    4316\n",
      "1    4195\n",
      "3    2981\n",
      "4    2537\n",
      "5     568\n",
      "6     184\n",
      "7      69\n",
      "Name: source_type, dtype: int64\n",
      "waterpoint_type_group\n",
      "1    8614\n",
      "2    4396\n",
      "3    1630\n",
      "4     175\n",
      "5      34\n",
      "6       1\n",
      "Name: waterpoint_type_group, dtype: int64\n"
     ]
    }
   ],
   "source": [
    "for i in lista_categoricas:\n",
    "    print(i)\n",
    "    print(data_test[i].value_counts())"
   ]
  },
  {
   "cell_type": "code",
   "execution_count": 112,
   "metadata": {},
   "outputs": [],
   "source": [
    "#funder\n",
    "\n",
    "data.loc[data['funder'] == 'Government Of Tanzania', 'funder'] = 1\n",
    "data.loc[data['funder'] == 'Danida', 'funder'] = 2    \n",
    "data.loc[data['funder'] == 'Hesawa', 'funder'] = 3\n",
    "\n",
    "\n",
    "data['funder'] = np.where((data['funder'] != 1) & (data['funder'] != 2) & (data['funder'] != 3), 4, data['funder'])\n",
    "\n",
    "data_test.loc[data_test['funder'] == 'Government Of Tanzania', 'funder'] = 1\n",
    "data_test.loc[data_test['funder'] == 'Danida', 'funder'] = 2    \n",
    "data_test.loc[data_test['funder'] == 'Hesawa', 'funder'] = 3\n",
    "\n",
    "\n",
    "data_test['funder'] = np.where((data_test['funder'] != 1) & (data_test['funder'] != 2) & (data_test['funder'] != 3), 4, data_test['funder'])"
   ]
  },
  {
   "cell_type": "code",
   "execution_count": 113,
   "metadata": {},
   "outputs": [],
   "source": [
    "data['funder'] = data['funder'].astype(int).sort_index()\n",
    "data_test['funder'] = data_test['funder'].astype(int).sort_index()"
   ]
  },
  {
   "cell_type": "code",
   "execution_count": 114,
   "metadata": {},
   "outputs": [],
   "source": [
    "#installer\n",
    "\n",
    "data['installer'] = np.where(data['installer'] == 'DWE', 1, data['installer'])\n",
    "data['installer'] = np.where(data['installer'] == 'Government', 2, data['installer'])\n",
    "data['installer'] = np.where((data['installer'] != 1) & (data['installer'] != 2), 3, data['installer'])\n",
    "\n",
    "data_test['installer'] = np.where(data_test['installer'] == 'DWE', 1, data_test['installer'])\n",
    "data_test['installer'] = np.where(data_test['installer'] == 'Government', 2, data_test['installer'])\n",
    "data_test['installer'] = np.where((data_test['installer'] != 1) & (data_test['installer'] != 2), 3, data_test['installer'])"
   ]
  },
  {
   "cell_type": "code",
   "execution_count": 115,
   "metadata": {},
   "outputs": [],
   "source": [
    "data['installer'] = data['installer'].astype(int)\n",
    "data_test['installer'] = data_test['installer'].astype(int)"
   ]
  },
  {
   "cell_type": "code",
   "execution_count": 116,
   "metadata": {},
   "outputs": [],
   "source": [
    "#wpt name\n",
    "\n",
    "data['wpt_name'] = np.where(data['wpt_name'] == 'none', 1, data['wpt_name'])\n",
    "data['wpt_name'] = np.where(data['wpt_name'] == 'Shuleni', 2, data['wpt_name'])\n",
    "data['wpt_name'] = np.where((data['wpt_name'] != 1) & (data['wpt_name'] != 2), 3, data['wpt_name'])\n",
    "\n",
    "data_test['wpt_name'] = np.where(data_test['wpt_name'] == 'none', 1, data_test['wpt_name'])\n",
    "data_test['wpt_name'] = np.where(data_test['wpt_name'] == 'Shuleni', 2, data_test['wpt_name'])\n",
    "data_test['wpt_name'] = np.where((data_test['wpt_name'] != 1) & (data_test['wpt_name'] != 2), 3, data_test['wpt_name'])\n"
   ]
  },
  {
   "cell_type": "code",
   "execution_count": 117,
   "metadata": {},
   "outputs": [],
   "source": [
    "data['wpt_name'] = data['wpt_name'].astype(int)\n",
    "data_test['wpt_name'] = data_test['wpt_name'].astype(int)"
   ]
  },
  {
   "cell_type": "code",
   "execution_count": 118,
   "metadata": {},
   "outputs": [],
   "source": [
    "#region\n",
    "\n",
    "data.region.replace(('Iringa','Shinyanga','Mbeya','Kilimanjaro','Morogoro','Kagera','Arusha','Mwanza','Kigoma'\n",
    "                     ,'Pwani','Ruvuma','Tanga','Dodoma','Singida','Tabora','Mara','Rukwa','Mtwara','Manyara','Lindi','Dar es Salaam'),\n",
    "                      (1,2,3,4,5,6,7,8,9,10,11,12,13,14,15,16,17,18,19,20,21),inplace=True)\n",
    "\n",
    "data_test.region.replace(('Iringa','Shinyanga','Mbeya','Kilimanjaro','Morogoro','Kagera','Arusha','Mwanza','Kigoma'\n",
    "                     ,'Pwani','Ruvuma','Tanga','Dodoma','Singida','Tabora','Mara','Rukwa','Mtwara','Manyara','Lindi','Dar es Salaam'),\n",
    "                      (1,2,3,4,5,6,7,8,9,10,11,12,13,14,15,16,17,18,19,20,21),inplace=True)"
   ]
  },
  {
   "cell_type": "code",
   "execution_count": 119,
   "metadata": {},
   "outputs": [],
   "source": [
    "#scheme_management\n",
    "\n",
    "data.scheme_management.replace(('VWC','WUG','Water authority','WUA','Water Board','Parastatal','Company','Private operator','Other'\n",
    "                     ,'SWC','Trust','None'),\n",
    "                      (1,2,3,4,5,6,7,8,9,10,11,12),inplace=True)\n",
    "\n",
    "data_test.scheme_management.replace(('VWC','WUG','Water authority','WUA','Water Board','Parastatal','Company','Private operator','Other'\n",
    "                     ,'SWC','Trust','None'),\n",
    "                      (1,2,3,4,5,6,7,8,9,10,11,12),inplace=True)"
   ]
  },
  {
   "cell_type": "code",
   "execution_count": 120,
   "metadata": {},
   "outputs": [],
   "source": [
    "#extraction type class\n",
    "\n",
    "data.extraction_type_class.replace(('gravity','handpump','other','submersible','motorpump','rope pump','wind-powered'),\n",
    "                      (1,2,3,4,5,6,7),inplace=True)\n",
    "\n",
    "data_test.extraction_type_class.replace(('gravity','handpump','other','submersible','motorpump','rope pump','wind-powered'),\n",
    "                      (1,2,3,4,5,6,7),inplace=True)"
   ]
  },
  {
   "cell_type": "code",
   "execution_count": 121,
   "metadata": {},
   "outputs": [],
   "source": [
    "#management group\n",
    "\n",
    "data.management_group.replace(('user-group','commercial','parastatal','other','unknown'),\n",
    "                      (1,2,3,4,5),inplace=True)\n",
    "\n",
    "data_test.management_group.replace(('user-group','commercial','parastatal','other','unknown'),\n",
    "                      (1,2,3,4,5),inplace=True)"
   ]
  },
  {
   "cell_type": "code",
   "execution_count": 122,
   "metadata": {},
   "outputs": [],
   "source": [
    "#payment type\n",
    "\n",
    "data.payment_type.replace(('never pay','per bucket','monthly','unknown','on failure','annually','other'),\n",
    "                      (1,2,3,4,5,6,7),inplace=True)\n",
    "\n",
    "data_test.payment_type.replace(('never pay','per bucket','monthly','unknown','on failure','annually','other'),\n",
    "                      (1,2,3,4,5,6,7),inplace=True)"
   ]
  },
  {
   "cell_type": "code",
   "execution_count": 123,
   "metadata": {},
   "outputs": [],
   "source": [
    "#quality group\n",
    "\n",
    "data.quality_group.replace(('good','salty','unknown','milky','colored','fluoride'),\n",
    "                      (1,2,3,4,5,6),inplace=True)\n",
    "\n",
    "data_test.quality_group.replace(('good','salty','unknown','milky','colored','fluoride'),\n",
    "                      (1,2,3,4,5,6),inplace=True)"
   ]
  },
  {
   "cell_type": "code",
   "execution_count": 124,
   "metadata": {},
   "outputs": [],
   "source": [
    "#quantity group\n",
    "\n",
    "data.quantity_group.replace(('enough','insufficient','dry','seasonal','unknown'),\n",
    "                      (1,2,3,4,5),inplace=True)\n",
    "\n",
    "data_test.quantity_group.replace(('enough','insufficient','dry','seasonal','unknown'),\n",
    "                      (1,2,3,4,5),inplace=True)"
   ]
  },
  {
   "cell_type": "code",
   "execution_count": 125,
   "metadata": {},
   "outputs": [],
   "source": [
    "#source type\n",
    "\n",
    "data.source_type.replace(('spring','shallow well','borehole','river/lake','rainwater harvesting','dam','other'),\n",
    "                      (1,2,3,4,5,6,7),inplace=True)\n",
    "\n",
    "data_test.source_type.replace(('spring','shallow well','borehole','river/lake','rainwater harvesting','dam','other'),\n",
    "                      (1,2,3,4,5,6,7),inplace=True)"
   ]
  },
  {
   "cell_type": "code",
   "execution_count": 126,
   "metadata": {},
   "outputs": [],
   "source": [
    "#waterpoint type group\n",
    "\n",
    "data.waterpoint_type_group.replace(('communal standpipe','hand pump','other','improved spring'\n",
    "                          ,'cattle trough','dam'),\n",
    "                      (1,2,3,4,5,6),inplace=True)\n",
    "\n",
    "data_test.waterpoint_type_group.replace(('communal standpipe','hand pump','other','improved spring'\n",
    "                          ,'cattle trough','dam'),\n",
    "                      (1,2,3,4,5,6),inplace=True)"
   ]
  },
  {
   "cell_type": "markdown",
   "metadata": {},
   "source": [
    "### Variables numéricas"
   ]
  },
  {
   "cell_type": "code",
   "execution_count": 230,
   "metadata": {},
   "outputs": [
    {
     "name": "stdout",
     "output_type": "stream",
     "text": [
      "amount_tsh\n",
      "0.0         41639\n",
      "500.0        3102\n",
      "50.0         2472\n",
      "1000.0       1488\n",
      "20.0         1463\n",
      "            ...  \n",
      "8500.0          1\n",
      "6300.0          1\n",
      "220.0           1\n",
      "138000.0        1\n",
      "12.0            1\n",
      "Name: amount_tsh, Length: 98, dtype: int64\n",
      "gps_height\n",
      " 0       20438\n",
      "-15         60\n",
      "-16         55\n",
      "-13         55\n",
      "-20         52\n",
      "         ...  \n",
      " 2285        1\n",
      " 2424        1\n",
      " 2552        1\n",
      " 2413        1\n",
      " 2385        1\n",
      "Name: gps_height, Length: 2428, dtype: int64\n",
      "longitude\n",
      "0.000000     1812\n",
      "37.540901       2\n",
      "33.010510       2\n",
      "39.093484       2\n",
      "32.972719       2\n",
      "             ... \n",
      "37.579803       1\n",
      "33.196490       1\n",
      "34.017119       1\n",
      "33.788326       1\n",
      "30.163579       1\n",
      "Name: longitude, Length: 57516, dtype: int64\n",
      "latitude\n",
      "-2.000000e-08    1812\n",
      "-6.985842e+00       2\n",
      "-3.797579e+00       2\n",
      "-6.981884e+00       2\n",
      "-7.104625e+00       2\n",
      "                 ... \n",
      "-5.726001e+00       1\n",
      "-9.646831e+00       1\n",
      "-8.124530e+00       1\n",
      "-2.535985e+00       1\n",
      "-2.598965e+00       1\n",
      "Name: latitude, Length: 57517, dtype: int64\n",
      "num_private\n",
      "0      58643\n",
      "6         81\n",
      "1         73\n",
      "5         46\n",
      "8         46\n",
      "       ...  \n",
      "180        1\n",
      "213        1\n",
      "23         1\n",
      "55         1\n",
      "94         1\n",
      "Name: num_private, Length: 65, dtype: int64\n",
      "region_code\n",
      "11    5300\n",
      "17    5011\n",
      "12    4639\n",
      "3     4379\n",
      "5     4040\n",
      "18    3324\n",
      "19    3047\n",
      "2     3024\n",
      "16    2816\n",
      "10    2640\n",
      "4     2513\n",
      "1     2201\n",
      "13    2093\n",
      "14    1979\n",
      "20    1969\n",
      "15    1808\n",
      "6     1609\n",
      "21    1583\n",
      "80    1238\n",
      "60    1025\n",
      "90     917\n",
      "7      805\n",
      "99     423\n",
      "9      390\n",
      "24     326\n",
      "8      300\n",
      "40       1\n",
      "Name: region_code, dtype: int64\n",
      "district_code\n",
      "1     12203\n",
      "2     11173\n",
      "3      9998\n",
      "4      8999\n",
      "5      4356\n",
      "6      4074\n",
      "7      3343\n",
      "8      1043\n",
      "30      995\n",
      "33      874\n",
      "53      745\n",
      "43      505\n",
      "13      391\n",
      "23      293\n",
      "63      195\n",
      "62      109\n",
      "60       63\n",
      "0        23\n",
      "80       12\n",
      "67        6\n",
      "Name: district_code, dtype: int64\n",
      "population\n",
      "0       21381\n",
      "1        7025\n",
      "200      1940\n",
      "150      1892\n",
      "250      1681\n",
      "        ...  \n",
      "3241        1\n",
      "1960        1\n",
      "1685        1\n",
      "2248        1\n",
      "1439        1\n",
      "Name: population, Length: 1049, dtype: int64\n",
      "construction_year\n",
      "0       20709\n",
      "2010     2645\n",
      "2008     2613\n",
      "2009     2533\n",
      "2000     2091\n",
      "2007     1587\n",
      "2006     1471\n",
      "2003     1286\n",
      "2011     1256\n",
      "2004     1123\n",
      "2012     1084\n",
      "2002     1075\n",
      "1978     1037\n",
      "1995     1014\n",
      "2005     1011\n",
      "1999      979\n",
      "1998      966\n",
      "1990      954\n",
      "1985      945\n",
      "1980      811\n",
      "1996      811\n",
      "1984      779\n",
      "1982      744\n",
      "1994      738\n",
      "1972      708\n",
      "1974      676\n",
      "1997      644\n",
      "1992      640\n",
      "1993      608\n",
      "2001      540\n",
      "1988      521\n",
      "1983      488\n",
      "1975      437\n",
      "1986      434\n",
      "1976      414\n",
      "1970      411\n",
      "1991      324\n",
      "1989      316\n",
      "1987      302\n",
      "1981      238\n",
      "1977      202\n",
      "1979      192\n",
      "1973      184\n",
      "2013      176\n",
      "1971      145\n",
      "1960      102\n",
      "1967       88\n",
      "1963       85\n",
      "1968       77\n",
      "1969       59\n",
      "1964       40\n",
      "1962       30\n",
      "1961       21\n",
      "1965       19\n",
      "1966       17\n",
      "Name: construction_year, dtype: int64\n"
     ]
    }
   ],
   "source": [
    "for i in lista_numericas:\n",
    "    print(i)\n",
    "    print(data[i].value_counts())"
   ]
  },
  {
   "cell_type": "raw",
   "metadata": {},
   "source": [
    "Notamos que si bien no tenemos variables numéricas con NA, pero sin muchos registros con valores en 0. Vamos a graficarlas, para visualizar mejor la distribución de las mismas."
   ]
  },
  {
   "cell_type": "code",
   "execution_count": 227,
   "metadata": {},
   "outputs": [
    {
     "data": {
      "image/png": "[encoded data removed]",
      "text/plain": [
       "<Figure size 432x288 with 1 Axes>"
      ]
     },
     "metadata": {
      "needs_background": "light"
     },
     "output_type": "display_data"
    },
    {
     "data": {
      "image/png": "[encoded data removed]",
      "text/plain": [
       "<Figure size 432x288 with 1 Axes>"
      ]
     },
     "metadata": {
      "needs_background": "light"
     },
     "output_type": "display_data"
    },
    {
     "data": {
      "image/png": "[encoded data removed]",
      "text/plain": [
       "<Figure size 432x288 with 1 Axes>"
      ]
     },
     "metadata": {
      "needs_background": "light"
     },
     "output_type": "display_data"
    },
    {
     "data": {
      "image/png": "[encoded data removed]",
      "text/plain": [
       "<Figure size 432x288 with 1 Axes>"
      ]
     },
     "metadata": {
      "needs_background": "light"
     },
     "output_type": "display_data"
    },
    {
     "data": {
      "image/png": "[encoded data removed]",
      "text/plain": [
       "<Figure size 432x288 with 1 Axes>"
      ]
     },
     "metadata": {
      "needs_background": "light"
     },
     "output_type": "display_data"
    },
    {
     "data": {
      "image/png": "[encoded data removed]",
      "text/plain": [
       "<Figure size 432x288 with 1 Axes>"
      ]
     },
     "metadata": {
      "needs_background": "light"
     },
     "output_type": "display_data"
    },
    {
     "data": {
      "image/png": "[encoded data removed]",
      "text/plain": [
       "<Figure size 432x288 with 1 Axes>"
      ]
     },
     "metadata": {
      "needs_background": "light"
     },
     "output_type": "display_data"
    },
    {
     "data": {
      "image/png": "[encoded data removed]",
      "text/plain": [
       "<Figure size 432x288 with 1 Axes>"
      ]
     },
     "metadata": {
      "needs_background": "light"
     },
     "output_type": "display_data"
    },
    {
     "data": {
      "image/png": "[encoded data removed]",
      "text/plain": [
       "<Figure size 432x288 with 1 Axes>"
      ]
     },
     "metadata": {
      "needs_background": "light"
     },
     "output_type": "display_data"
    }
   ],
   "source": [
    "for l in lista_numericas:\n",
    "    plt.hist(data[l])\n",
    "    plt.title(l)\n",
    "    plt.show()"
   ]
  },
  {
   "cell_type": "markdown",
   "metadata": {},
   "source": [
    "### Seleccion de variables"
   ]
  },
  {
   "cell_type": "code",
   "execution_count": 37,
   "metadata": {},
   "outputs": [],
   "source": [
    "from sklearn.feature_selection import VarianceThreshold"
   ]
  },
  {
   "cell_type": "code",
   "execution_count": 38,
   "metadata": {},
   "outputs": [],
   "source": [
    "target = 'status_group'\n",
    "features = list(data.columns)\n",
    "features.remove('status_group')\n",
    "\n",
    "x = data[features]\n",
    "y = data[target]"
   ]
  },
  {
   "cell_type": "code",
   "execution_count": 39,
   "metadata": {},
   "outputs": [],
   "source": [
    "var_th = VarianceThreshold(threshold = 0.40)\n",
    "x_var = var_th.fit_transform(x)"
   ]
  },
  {
   "cell_type": "code",
   "execution_count": 40,
   "metadata": {},
   "outputs": [
    {
     "data": {
      "text/plain": [
       "25"
      ]
     },
     "execution_count": 40,
     "metadata": {},
     "output_type": "execute_result"
    }
   ],
   "source": [
    "x.shape[1]"
   ]
  },
  {
   "cell_type": "code",
   "execution_count": 41,
   "metadata": {},
   "outputs": [
    {
     "data": {
      "text/plain": [
       "22"
      ]
     },
     "execution_count": 41,
     "metadata": {},
     "output_type": "execute_result"
    }
   ],
   "source": [
    "x_var.shape[1]"
   ]
  },
  {
   "cell_type": "code",
   "execution_count": 42,
   "metadata": {},
   "outputs": [
    {
     "data": {
      "text/plain": [
       "array(['amount_tsh', 'funder', 'gps_height', 'installer', 'longitude',\n",
       "       'latitude', 'num_private', 'region', 'region_code',\n",
       "       'district_code', 'population', 'scheme_management',\n",
       "       'construction_year', 'extraction_type_class', 'management_group',\n",
       "       'payment_type', 'quality_group', 'quantity_group', 'source_type',\n",
       "       'waterpoint_type_group', 'year', 'month'], dtype='<U21')"
      ]
     },
     "execution_count": 42,
     "metadata": {},
     "output_type": "execute_result"
    }
   ],
   "source": [
    "np.asarray(list(x))[var_th.get_support()]"
   ]
  },
  {
   "cell_type": "markdown",
   "metadata": {},
   "source": [
    "### Multicolinealidad"
   ]
  },
  {
   "cell_type": "code",
   "execution_count": 43,
   "metadata": {},
   "outputs": [],
   "source": [
    "from sklearn.linear_model import LinearRegression"
   ]
  },
  {
   "cell_type": "code",
   "execution_count": 44,
   "metadata": {},
   "outputs": [
    {
     "name": "stdout",
     "output_type": "stream",
     "text": [
      "El valor del VIF para la variable amount_tsh es: 1.0274470303459777\n",
      "El valor del VIF para la variable funder es: 1.1075777334438799\n",
      "El valor del VIF para la variable gps_height es: 2.66009915051693\n",
      "El valor del VIF para la variable installer es: 1.1556231004008788\n",
      "El valor del VIF para la variable longitude es: 1.5637989252013695\n",
      "El valor del VIF para la variable latitude es: 1.7711103599890392\n",
      "El valor del VIF para la variable wpt_name es: 1.4624465309681995\n",
      "El valor del VIF para la variable num_private es: 1.0042903783940011\n",
      "El valor del VIF para la variable region es: 1.850848453838567\n",
      "El valor del VIF para la variable region_code es: 2.5579019100087446\n",
      "El valor del VIF para la variable district_code es: 2.110737535067312\n",
      "El valor del VIF para la variable population es: 1.109730365606478\n",
      "El valor del VIF para la variable public_meeting es: 1.0905319732617116\n",
      "El valor del VIF para la variable scheme_management es: 1.5317229422308551\n",
      "El valor del VIF para la variable permit es: 1.1188977879353637\n",
      "El valor del VIF para la variable construction_year es: 2.997700145736802\n",
      "El valor del VIF para la variable extraction_type_class es: 1.3471741943828164\n",
      "El valor del VIF para la variable management_group es: 1.4211104686758365\n",
      "El valor del VIF para la variable payment_type es: 1.1875098210146633\n",
      "El valor del VIF para la variable quality_group es: 1.103015250682856\n",
      "El valor del VIF para la variable quantity_group es: 1.1411149326478538\n",
      "El valor del VIF para la variable source_type es: 1.2137116107032115\n",
      "El valor del VIF para la variable waterpoint_type_group es: 1.2361429083612667\n",
      "El valor del VIF para la variable year es: 1.7826950136924904\n",
      "El valor del VIF para la variable month es: 1.5674100322808313\n"
     ]
    }
   ],
   "source": [
    "\n",
    "data_vif = data.copy(deep = True)\n",
    "features = list(data_vif.columns)\n",
    "features.remove('status_group')\n",
    "\n",
    "data_vif = data_vif[features]\n",
    "\n",
    "for i in range(len(features)):\n",
    "    var = features[i]  #cada una de las posiciones de features\n",
    "    fet = features[:]\n",
    "    fet.remove(var)\n",
    "    \n",
    "    x = data_vif[fet]\n",
    "    y = data[var]\n",
    "    \n",
    "    model = LinearRegression()\n",
    "    model.fit(x, y)\n",
    "    \n",
    "    vif = 1 / (1 - model.score(x, y))\n",
    "    \n",
    "    print ('El valor del VIF para la variable', var, 'es:', vif)"
   ]
  },
  {
   "cell_type": "raw",
   "metadata": {},
   "source": [
    "Podemos visualizar que ninguna de las variables supera un valor de 5"
   ]
  },
  {
   "cell_type": "code",
   "execution_count": 124,
   "metadata": {},
   "outputs": [],
   "source": [
    "## Correlacion"
   ]
  },
  {
   "cell_type": "code",
   "execution_count": 45,
   "metadata": {},
   "outputs": [
    {
     "data": {
      "text/html": [
       "<style  type=\"text/css\" >\n",
       "#T_5c8fe424_9201_11eb_a8a9_d4d252c410fcrow0_col0{\n",
       "            background-color:  #023858;\n",
       "            color:  #f1f1f1;\n",
       "        }#T_5c8fe424_9201_11eb_a8a9_d4d252c410fcrow1_col0{\n",
       "            background-color:  #d7d6e9;\n",
       "            color:  #000000;\n",
       "        }#T_5c8fe424_9201_11eb_a8a9_d4d252c410fcrow2_col0{\n",
       "            background-color:  #dddbec;\n",
       "            color:  #000000;\n",
       "        }#T_5c8fe424_9201_11eb_a8a9_d4d252c410fcrow3_col0{\n",
       "            background-color:  #e3e0ee;\n",
       "            color:  #000000;\n",
       "        }#T_5c8fe424_9201_11eb_a8a9_d4d252c410fcrow4_col0{\n",
       "            background-color:  #e7e3f0;\n",
       "            color:  #000000;\n",
       "        }#T_5c8fe424_9201_11eb_a8a9_d4d252c410fcrow5_col0{\n",
       "            background-color:  #f0eaf4;\n",
       "            color:  #000000;\n",
       "        }#T_5c8fe424_9201_11eb_a8a9_d4d252c410fcrow6_col0{\n",
       "            background-color:  #f1ebf4;\n",
       "            color:  #000000;\n",
       "        }#T_5c8fe424_9201_11eb_a8a9_d4d252c410fcrow7_col0{\n",
       "            background-color:  #f1ebf5;\n",
       "            color:  #000000;\n",
       "        }#T_5c8fe424_9201_11eb_a8a9_d4d252c410fcrow8_col0{\n",
       "            background-color:  #f2ecf5;\n",
       "            color:  #000000;\n",
       "        }#T_5c8fe424_9201_11eb_a8a9_d4d252c410fcrow9_col0,#T_5c8fe424_9201_11eb_a8a9_d4d252c410fcrow10_col0{\n",
       "            background-color:  #f3edf5;\n",
       "            color:  #000000;\n",
       "        }#T_5c8fe424_9201_11eb_a8a9_d4d252c410fcrow11_col0{\n",
       "            background-color:  #f5eef6;\n",
       "            color:  #000000;\n",
       "        }#T_5c8fe424_9201_11eb_a8a9_d4d252c410fcrow12_col0{\n",
       "            background-color:  #f5eff6;\n",
       "            color:  #000000;\n",
       "        }#T_5c8fe424_9201_11eb_a8a9_d4d252c410fcrow13_col0{\n",
       "            background-color:  #f8f1f8;\n",
       "            color:  #000000;\n",
       "        }#T_5c8fe424_9201_11eb_a8a9_d4d252c410fcrow14_col0{\n",
       "            background-color:  #f9f2f8;\n",
       "            color:  #000000;\n",
       "        }#T_5c8fe424_9201_11eb_a8a9_d4d252c410fcrow15_col0,#T_5c8fe424_9201_11eb_a8a9_d4d252c410fcrow16_col0,#T_5c8fe424_9201_11eb_a8a9_d4d252c410fcrow17_col0{\n",
       "            background-color:  #faf2f8;\n",
       "            color:  #000000;\n",
       "        }#T_5c8fe424_9201_11eb_a8a9_d4d252c410fcrow18_col0{\n",
       "            background-color:  #faf3f9;\n",
       "            color:  #000000;\n",
       "        }#T_5c8fe424_9201_11eb_a8a9_d4d252c410fcrow19_col0{\n",
       "            background-color:  #fcf4fa;\n",
       "            color:  #000000;\n",
       "        }#T_5c8fe424_9201_11eb_a8a9_d4d252c410fcrow20_col0,#T_5c8fe424_9201_11eb_a8a9_d4d252c410fcrow21_col0{\n",
       "            background-color:  #fef6fa;\n",
       "            color:  #000000;\n",
       "        }#T_5c8fe424_9201_11eb_a8a9_d4d252c410fcrow22_col0{\n",
       "            background-color:  #fef6fb;\n",
       "            color:  #000000;\n",
       "        }#T_5c8fe424_9201_11eb_a8a9_d4d252c410fcrow23_col0,#T_5c8fe424_9201_11eb_a8a9_d4d252c410fcrow24_col0,#T_5c8fe424_9201_11eb_a8a9_d4d252c410fcrow25_col0{\n",
       "            background-color:  #fff7fb;\n",
       "            color:  #000000;\n",
       "        }</style><table id=\"T_5c8fe424_9201_11eb_a8a9_d4d252c410fc\" ><thead>    <tr>        <th class=\"blank level0\" ></th>        <th class=\"col_heading level0 col0\" >status_group</th>    </tr></thead><tbody>\n",
       "                <tr>\n",
       "                        <th id=\"T_5c8fe424_9201_11eb_a8a9_d4d252c410fclevel0_row0\" class=\"row_heading level0 row0\" >status_group</th>\n",
       "                        <td id=\"T_5c8fe424_9201_11eb_a8a9_d4d252c410fcrow0_col0\" class=\"data row0 col0\" >1.000000</td>\n",
       "            </tr>\n",
       "            <tr>\n",
       "                        <th id=\"T_5c8fe424_9201_11eb_a8a9_d4d252c410fclevel0_row1\" class=\"row_heading level0 row1\" >quantity_group</th>\n",
       "                        <td id=\"T_5c8fe424_9201_11eb_a8a9_d4d252c410fcrow1_col0\" class=\"data row1 col0\" >0.222332</td>\n",
       "            </tr>\n",
       "            <tr>\n",
       "                        <th id=\"T_5c8fe424_9201_11eb_a8a9_d4d252c410fclevel0_row2\" class=\"row_heading level0 row2\" >extraction_type_class</th>\n",
       "                        <td id=\"T_5c8fe424_9201_11eb_a8a9_d4d252c410fcrow2_col0\" class=\"data row2 col0\" >0.195305</td>\n",
       "            </tr>\n",
       "            <tr>\n",
       "                        <th id=\"T_5c8fe424_9201_11eb_a8a9_d4d252c410fclevel0_row3\" class=\"row_heading level0 row3\" >waterpoint_type_group</th>\n",
       "                        <td id=\"T_5c8fe424_9201_11eb_a8a9_d4d252c410fcrow3_col0\" class=\"data row3 col0\" >0.167433</td>\n",
       "            </tr>\n",
       "            <tr>\n",
       "                        <th id=\"T_5c8fe424_9201_11eb_a8a9_d4d252c410fclevel0_row4\" class=\"row_heading level0 row4\" >region</th>\n",
       "                        <td id=\"T_5c8fe424_9201_11eb_a8a9_d4d252c410fcrow4_col0\" class=\"data row4 col0\" >0.148345</td>\n",
       "            </tr>\n",
       "            <tr>\n",
       "                        <th id=\"T_5c8fe424_9201_11eb_a8a9_d4d252c410fclevel0_row5\" class=\"row_heading level0 row5\" >quality_group</th>\n",
       "                        <td id=\"T_5c8fe424_9201_11eb_a8a9_d4d252c410fcrow5_col0\" class=\"data row5 col0\" >0.100449</td>\n",
       "            </tr>\n",
       "            <tr>\n",
       "                        <th id=\"T_5c8fe424_9201_11eb_a8a9_d4d252c410fclevel0_row6\" class=\"row_heading level0 row6\" >payment_type</th>\n",
       "                        <td id=\"T_5c8fe424_9201_11eb_a8a9_d4d252c410fcrow6_col0\" class=\"data row6 col0\" >0.096379</td>\n",
       "            </tr>\n",
       "            <tr>\n",
       "                        <th id=\"T_5c8fe424_9201_11eb_a8a9_d4d252c410fclevel0_row7\" class=\"row_heading level0 row7\" >funder</th>\n",
       "                        <td id=\"T_5c8fe424_9201_11eb_a8a9_d4d252c410fcrow7_col0\" class=\"data row7 col0\" >0.093340</td>\n",
       "            </tr>\n",
       "            <tr>\n",
       "                        <th id=\"T_5c8fe424_9201_11eb_a8a9_d4d252c410fclevel0_row8\" class=\"row_heading level0 row8\" >region_code</th>\n",
       "                        <td id=\"T_5c8fe424_9201_11eb_a8a9_d4d252c410fcrow8_col0\" class=\"data row8 col0\" >0.084491</td>\n",
       "            </tr>\n",
       "            <tr>\n",
       "                        <th id=\"T_5c8fe424_9201_11eb_a8a9_d4d252c410fclevel0_row9\" class=\"row_heading level0 row9\" >longitude</th>\n",
       "                        <td id=\"T_5c8fe424_9201_11eb_a8a9_d4d252c410fcrow9_col0\" class=\"data row9 col0\" >0.081915</td>\n",
       "            </tr>\n",
       "            <tr>\n",
       "                        <th id=\"T_5c8fe424_9201_11eb_a8a9_d4d252c410fclevel0_row10\" class=\"row_heading level0 row10\" >gps_height</th>\n",
       "                        <td id=\"T_5c8fe424_9201_11eb_a8a9_d4d252c410fcrow10_col0\" class=\"data row10 col0\" >0.079603</td>\n",
       "            </tr>\n",
       "            <tr>\n",
       "                        <th id=\"T_5c8fe424_9201_11eb_a8a9_d4d252c410fclevel0_row11\" class=\"row_heading level0 row11\" >district_code</th>\n",
       "                        <td id=\"T_5c8fe424_9201_11eb_a8a9_d4d252c410fcrow11_col0\" class=\"data row11 col0\" >0.068426</td>\n",
       "            </tr>\n",
       "            <tr>\n",
       "                        <th id=\"T_5c8fe424_9201_11eb_a8a9_d4d252c410fclevel0_row12\" class=\"row_heading level0 row12\" >scheme_management</th>\n",
       "                        <td id=\"T_5c8fe424_9201_11eb_a8a9_d4d252c410fcrow12_col0\" class=\"data row12 col0\" >0.066102</td>\n",
       "            </tr>\n",
       "            <tr>\n",
       "                        <th id=\"T_5c8fe424_9201_11eb_a8a9_d4d252c410fclevel0_row13\" class=\"row_heading level0 row13\" >latitude</th>\n",
       "                        <td id=\"T_5c8fe424_9201_11eb_a8a9_d4d252c410fcrow13_col0\" class=\"data row13 col0\" >0.045040</td>\n",
       "            </tr>\n",
       "            <tr>\n",
       "                        <th id=\"T_5c8fe424_9201_11eb_a8a9_d4d252c410fclevel0_row14\" class=\"row_heading level0 row14\" >public_meeting</th>\n",
       "                        <td id=\"T_5c8fe424_9201_11eb_a8a9_d4d252c410fcrow14_col0\" class=\"data row14 col0\" >0.042548</td>\n",
       "            </tr>\n",
       "            <tr>\n",
       "                        <th id=\"T_5c8fe424_9201_11eb_a8a9_d4d252c410fclevel0_row15\" class=\"row_heading level0 row15\" >month</th>\n",
       "                        <td id=\"T_5c8fe424_9201_11eb_a8a9_d4d252c410fcrow15_col0\" class=\"data row15 col0\" >0.040181</td>\n",
       "            </tr>\n",
       "            <tr>\n",
       "                        <th id=\"T_5c8fe424_9201_11eb_a8a9_d4d252c410fclevel0_row16\" class=\"row_heading level0 row16\" >amount_tsh</th>\n",
       "                        <td id=\"T_5c8fe424_9201_11eb_a8a9_d4d252c410fcrow16_col0\" class=\"data row16 col0\" >0.039447</td>\n",
       "            </tr>\n",
       "            <tr>\n",
       "                        <th id=\"T_5c8fe424_9201_11eb_a8a9_d4d252c410fclevel0_row17\" class=\"row_heading level0 row17\" >installer</th>\n",
       "                        <td id=\"T_5c8fe424_9201_11eb_a8a9_d4d252c410fcrow17_col0\" class=\"data row17 col0\" >0.036653</td>\n",
       "            </tr>\n",
       "            <tr>\n",
       "                        <th id=\"T_5c8fe424_9201_11eb_a8a9_d4d252c410fclevel0_row18\" class=\"row_heading level0 row18\" >wpt_name</th>\n",
       "                        <td id=\"T_5c8fe424_9201_11eb_a8a9_d4d252c410fcrow18_col0\" class=\"data row18 col0\" >0.033869</td>\n",
       "            </tr>\n",
       "            <tr>\n",
       "                        <th id=\"T_5c8fe424_9201_11eb_a8a9_d4d252c410fclevel0_row19\" class=\"row_heading level0 row19\" >permit</th>\n",
       "                        <td id=\"T_5c8fe424_9201_11eb_a8a9_d4d252c410fcrow19_col0\" class=\"data row19 col0\" >0.021986</td>\n",
       "            </tr>\n",
       "            <tr>\n",
       "                        <th id=\"T_5c8fe424_9201_11eb_a8a9_d4d252c410fclevel0_row20\" class=\"row_heading level0 row20\" >year</th>\n",
       "                        <td id=\"T_5c8fe424_9201_11eb_a8a9_d4d252c410fcrow20_col0\" class=\"data row20 col0\" >0.012859</td>\n",
       "            </tr>\n",
       "            <tr>\n",
       "                        <th id=\"T_5c8fe424_9201_11eb_a8a9_d4d252c410fclevel0_row21\" class=\"row_heading level0 row21\" >population</th>\n",
       "                        <td id=\"T_5c8fe424_9201_11eb_a8a9_d4d252c410fcrow21_col0\" class=\"data row21 col0\" >0.012206</td>\n",
       "            </tr>\n",
       "            <tr>\n",
       "                        <th id=\"T_5c8fe424_9201_11eb_a8a9_d4d252c410fclevel0_row22\" class=\"row_heading level0 row22\" >construction_year</th>\n",
       "                        <td id=\"T_5c8fe424_9201_11eb_a8a9_d4d252c410fcrow22_col0\" class=\"data row22 col0\" >0.009057</td>\n",
       "            </tr>\n",
       "            <tr>\n",
       "                        <th id=\"T_5c8fe424_9201_11eb_a8a9_d4d252c410fclevel0_row23\" class=\"row_heading level0 row23\" >source_type</th>\n",
       "                        <td id=\"T_5c8fe424_9201_11eb_a8a9_d4d252c410fcrow23_col0\" class=\"data row23 col0\" >0.005197</td>\n",
       "            </tr>\n",
       "            <tr>\n",
       "                        <th id=\"T_5c8fe424_9201_11eb_a8a9_d4d252c410fclevel0_row24\" class=\"row_heading level0 row24\" >management_group</th>\n",
       "                        <td id=\"T_5c8fe424_9201_11eb_a8a9_d4d252c410fcrow24_col0\" class=\"data row24 col0\" >0.001976</td>\n",
       "            </tr>\n",
       "            <tr>\n",
       "                        <th id=\"T_5c8fe424_9201_11eb_a8a9_d4d252c410fclevel0_row25\" class=\"row_heading level0 row25\" >num_private</th>\n",
       "                        <td id=\"T_5c8fe424_9201_11eb_a8a9_d4d252c410fcrow25_col0\" class=\"data row25 col0\" >0.001502</td>\n",
       "            </tr>\n",
       "    </tbody></table>"
      ],
      "text/plain": [
       "<pandas.io.formats.style.Styler at 0x13347106ca0>"
      ]
     },
     "execution_count": 45,
     "metadata": {},
     "output_type": "execute_result"
    }
   ],
   "source": [
    "corr = abs(data.corr())\n",
    "corr[['status_group']].sort_values(by = 'status_group',ascending = False).style.background_gradient()"
   ]
  },
  {
   "cell_type": "markdown",
   "metadata": {},
   "source": [
    "## Partición train - test "
   ]
  },
  {
   "cell_type": "code",
   "execution_count": 46,
   "metadata": {},
   "outputs": [],
   "source": [
    "y_t = data['status_group']"
   ]
  },
  {
   "cell_type": "code",
   "execution_count": 47,
   "metadata": {},
   "outputs": [],
   "source": [
    "data.drop('status_group', axis=1, inplace=True)"
   ]
  },
  {
   "cell_type": "code",
   "execution_count": 48,
   "metadata": {},
   "outputs": [],
   "source": [
    "X_train, X_test, y_train, y_test = train_test_split(data, y_t, test_size = 0.2, random_state = 42)"
   ]
  },
  {
   "cell_type": "code",
   "execution_count": 49,
   "metadata": {},
   "outputs": [
    {
     "data": {
      "text/plain": [
       "(47520, 25)"
      ]
     },
     "execution_count": 49,
     "metadata": {},
     "output_type": "execute_result"
    }
   ],
   "source": [
    "X_train.shape"
   ]
  },
  {
   "cell_type": "code",
   "execution_count": 50,
   "metadata": {},
   "outputs": [
    {
     "data": {
      "text/plain": [
       "(11880, 25)"
      ]
     },
     "execution_count": 50,
     "metadata": {},
     "output_type": "execute_result"
    }
   ],
   "source": [
    "X_test.shape"
   ]
  },
  {
   "cell_type": "code",
   "execution_count": 51,
   "metadata": {},
   "outputs": [
    {
     "data": {
      "text/plain": [
       "(47520,)"
      ]
     },
     "execution_count": 51,
     "metadata": {},
     "output_type": "execute_result"
    }
   ],
   "source": [
    "y_train.shape"
   ]
  },
  {
   "cell_type": "code",
   "execution_count": 69,
   "metadata": {},
   "outputs": [
    {
     "data": {
      "text/plain": [
       "id\n",
       "69572    3\n",
       "8776     3\n",
       "34310    2\n",
       "67743    1\n",
       "19728    7\n",
       "        ..\n",
       "60739    5\n",
       "27263    5\n",
       "37057    4\n",
       "31282    3\n",
       "26348    3\n",
       "Name: month, Length: 59400, dtype: int64"
      ]
     },
     "execution_count": 69,
     "metadata": {},
     "output_type": "execute_result"
    }
   ],
   "source": [
    "y"
   ]
  },
  {
   "cell_type": "markdown",
   "metadata": {},
   "source": [
    "## Evaluación modelos "
   ]
  },
  {
   "cell_type": "markdown",
   "metadata": {},
   "source": [
    "### Random Forest"
   ]
  },
  {
   "cell_type": "code",
   "execution_count": 132,
   "metadata": {},
   "outputs": [
    {
     "data": {
      "text/plain": [
       "RandomForestClassifier(random_state=42)"
      ]
     },
     "execution_count": 132,
     "metadata": {},
     "output_type": "execute_result"
    }
   ],
   "source": [
    "model1 = RandomForestClassifier(n_estimators=100, random_state=42)  #random forest\n",
    "model1\n"
   ]
  },
  {
   "cell_type": "markdown",
   "metadata": {},
   "source": [
    "### Validación cruzada"
   ]
  },
  {
   "cell_type": "code",
   "execution_count": 53,
   "metadata": {},
   "outputs": [
    {
     "data": {
      "text/plain": [
       "array([0.79545455, 0.79903199, 0.80113636, 0.80397727, 0.79882155])"
      ]
     },
     "execution_count": 53,
     "metadata": {},
     "output_type": "execute_result"
    }
   ],
   "source": [
    "##No puede hacer la validacion cruzada por un tema de memoria\n",
    "\n",
    "results = cross_val_score(estimator=model1, X=X_train, y=y_train, cv=5) \n",
    "results"
   ]
  },
  {
   "cell_type": "markdown",
   "metadata": {},
   "source": [
    "## Ensemble methods"
   ]
  },
  {
   "cell_type": "markdown",
   "metadata": {},
   "source": [
    "### Boosting"
   ]
  },
  {
   "cell_type": "code",
   "execution_count": 54,
   "metadata": {},
   "outputs": [
    {
     "name": "stdout",
     "output_type": "stream",
     "text": [
      "Wall time: 0 ns\n",
      "[11:22:30] WARNING: C:/Users/Administrator/workspace/xgboost-win64_release_1.3.0/src/learner.cc:1061: Starting in XGBoost 1.3.0, the default evaluation metric used with the objective 'multi:softprob' was changed from 'merror' to 'mlogloss'. Explicitly set eval_metric if you'd like to restore the old behavior."
     ]
    },
    {
     "name": "stderr",
     "output_type": "stream",
     "text": [
      "C:\\Users\\viqic\\anaconda3\\lib\\site-packages\\xgboost\\sklearn.py:888: UserWarning: The use of label encoder in XGBClassifier is deprecated and will be removed in a future release. To remove this warning, do the following: 1) Pass option use_label_encoder=False when constructing XGBClassifier object; and 2) Encode your labels (y) as integers starting with 0, i.e. 0, 1, 2, ..., [num_class - 1].\n",
      "  warnings.warn(label_encoder_deprecation_msg, UserWarning)\n"
     ]
    },
    {
     "name": "stdout",
     "output_type": "stream",
     "text": [
      "\n"
     ]
    }
   ],
   "source": [
    "%time\n",
    "model = XGBClassifier()\n",
    "model.fit(X_train,y_train)\n",
    "\n",
    "y_pred=model.predict(X_test)\n"
   ]
  },
  {
   "cell_type": "code",
   "execution_count": 55,
   "metadata": {},
   "outputs": [],
   "source": [
    "from sklearn.metrics import accuracy_score"
   ]
  },
  {
   "cell_type": "code",
   "execution_count": 56,
   "metadata": {},
   "outputs": [
    {
     "data": {
      "text/plain": [
       "0.7927609427609428"
      ]
     },
     "execution_count": 56,
     "metadata": {},
     "output_type": "execute_result"
    }
   ],
   "source": [
    "accuracy_score(y_test,y_pred)"
   ]
  },
  {
   "cell_type": "markdown",
   "metadata": {},
   "source": [
    "### PCA"
   ]
  },
  {
   "cell_type": "code",
   "execution_count": 80,
   "metadata": {},
   "outputs": [],
   "source": [
    "pca = PCA(n_components = None)\n",
    "X_train = pca.fit_transform(X_train)\n",
    "X_test = pca.transform(X_test)\n",
    "explained_variance = pca.explained_variance_ratio_"
   ]
  },
  {
   "cell_type": "code",
   "execution_count": 73,
   "metadata": {},
   "outputs": [
    {
     "data": {
      "text/plain": [
       "array([8.64905644e-01, 9.97400368e-02, 1.96842000e-02, 1.56161264e-02,\n",
       "       2.79979276e-05, 1.47895556e-05, 4.03372208e-06, 2.92893706e-06,\n",
       "       1.92760569e-06, 6.91007397e-07, 4.38524670e-07, 3.04140625e-07,\n",
       "       2.13121811e-07, 1.36728316e-07, 1.12716821e-07, 9.72041672e-08,\n",
       "       8.19231695e-08, 5.93097649e-08, 4.53175187e-08, 3.94610597e-08,\n",
       "       3.46408219e-08, 2.51359046e-08, 1.71404662e-08, 1.28645767e-08,\n",
       "       5.98516986e-09])"
      ]
     },
     "execution_count": 73,
     "metadata": {},
     "output_type": "execute_result"
    }
   ],
   "source": [
    "explained_variance"
   ]
  },
  {
   "cell_type": "raw",
   "metadata": {},
   "source": [
    "Podemos visualizar que la varianza de nuestras variables es muy pequeña, con lo cual creo que este método no nos ayudaría."
   ]
  },
  {
   "cell_type": "markdown",
   "metadata": {},
   "source": [
    "### Automatización modelo"
   ]
  },
  {
   "cell_type": "markdown",
   "metadata": {},
   "source": [
    "### Grid Search"
   ]
  },
  {
   "cell_type": "code",
   "execution_count": 130,
   "metadata": {},
   "outputs": [],
   "source": [
    "from sklearn.model_selection import GridSearchCV"
   ]
  },
  {
   "cell_type": "code",
   "execution_count": 131,
   "metadata": {},
   "outputs": [],
   "source": [
    "grid_param = {\n",
    "    'n_estimators': [300, 500, 800, 1000],\n",
    "    'criterion': ['gini', 'entropy'],\n",
    "    'bootstrap': [True, False]\n",
    "}"
   ]
  },
  {
   "cell_type": "code",
   "execution_count": 135,
   "metadata": {},
   "outputs": [],
   "source": [
    "model_grid = GridSearchCV(estimator=model1,\n",
    "                     param_grid=grid_param,\n",
    "                     scoring='accuracy',\n",
    "                     cv=5,\n",
    "                     n_jobs=-1)"
   ]
  },
  {
   "cell_type": "code",
   "execution_count": 60,
   "metadata": {},
   "outputs": [
    {
     "data": {
      "text/plain": [
       "GridSearchCV(cv=5, estimator=RandomForestClassifier(random_state=42), n_jobs=-1,\n",
       "             param_grid={'bootstrap': [True, False],\n",
       "                         'criterion': ['gini', 'entropy'],\n",
       "                         'n_estimators': [300, 500, 800, 1000]},\n",
       "             scoring='accuracy')"
      ]
     },
     "execution_count": 60,
     "metadata": {},
     "output_type": "execute_result"
    }
   ],
   "source": [
    "model_grid.fit(X_train, y_train)"
   ]
  },
  {
   "cell_type": "code",
   "execution_count": 61,
   "metadata": {},
   "outputs": [
    {
     "name": "stdout",
     "output_type": "stream",
     "text": [
      "{'bootstrap': True, 'criterion': 'entropy', 'n_estimators': 800}\n"
     ]
    }
   ],
   "source": [
    "print(model_grid.best_params_)"
   ]
  },
  {
   "cell_type": "code",
   "execution_count": 62,
   "metadata": {},
   "outputs": [
    {
     "name": "stdout",
     "output_type": "stream",
     "text": [
      "0.8014309764309763\n"
     ]
    }
   ],
   "source": [
    "print(model_grid.best_score_)"
   ]
  },
  {
   "cell_type": "markdown",
   "metadata": {},
   "source": [
    "## Feature Engineering "
   ]
  },
  {
   "cell_type": "markdown",
   "metadata": {},
   "source": [
    "Basándonos en el previo análisis que hemos realizado sobre las variables de naturaleza numéricas, procederemos a realizar unos ajustes y visualizar si nuestro accuracy mejora.\n",
    "\n",
    "* Amount_tsh: notamos que casi el 70% de los valores se encuentran en 0. Por lo tanto, podemos optar por tramificar la variable. Tomando 0 o 1, es decir si hay agua disponible o no en ese punto.\n",
    "\n",
    "* gps_height:en este caso tenemos un 30% de las variables que tienen un 0 \n",
    "\n",
    "* longitude, latitude: en este caso tendría que ser un error, ya que la interseccion de ambas variables es en el océano. Para longitude podemos visualizar que tenemos la misma cantidad que en longitud, ya que -2.e-8 ~ 0 .\n",
    "\n",
    "* year: hay muchos registros que seguramente al desconocer el año de construccion, le asignaron un 0. Pero no sería un valor válido. \n",
    "\n",
    "* population: crearía rangos "
   ]
  },
  {
   "cell_type": "code",
   "execution_count": 22,
   "metadata": {},
   "outputs": [
    {
     "name": "stdout",
     "output_type": "stream",
     "text": [
      "amount_tsh\n",
      "0.0         41639\n",
      "500.0        3102\n",
      "50.0         2472\n",
      "1000.0       1488\n",
      "20.0         1463\n",
      "            ...  \n",
      "8500.0          1\n",
      "6300.0          1\n",
      "220.0           1\n",
      "138000.0        1\n",
      "12.0            1\n",
      "Name: amount_tsh, Length: 98, dtype: int64\n",
      "gps_height\n",
      " 0       20438\n",
      "-15         60\n",
      "-16         55\n",
      "-13         55\n",
      "-20         52\n",
      "         ...  \n",
      " 2285        1\n",
      " 2424        1\n",
      " 2552        1\n",
      " 2413        1\n",
      " 2385        1\n",
      "Name: gps_height, Length: 2428, dtype: int64\n",
      "longitude\n",
      "0.000000     1812\n",
      "37.540901       2\n",
      "33.010510       2\n",
      "39.093484       2\n",
      "32.972719       2\n",
      "             ... \n",
      "37.579803       1\n",
      "33.196490       1\n",
      "34.017119       1\n",
      "33.788326       1\n",
      "30.163579       1\n",
      "Name: longitude, Length: 57516, dtype: int64\n",
      "latitude\n",
      "-2.000000e-08    1812\n",
      "-6.985842e+00       2\n",
      "-3.797579e+00       2\n",
      "-6.981884e+00       2\n",
      "-7.104625e+00       2\n",
      "                 ... \n",
      "-5.726001e+00       1\n",
      "-9.646831e+00       1\n",
      "-8.124530e+00       1\n",
      "-2.535985e+00       1\n",
      "-2.598965e+00       1\n",
      "Name: latitude, Length: 57517, dtype: int64\n",
      "num_private\n",
      "0      58643\n",
      "6         81\n",
      "1         73\n",
      "5         46\n",
      "8         46\n",
      "       ...  \n",
      "180        1\n",
      "213        1\n",
      "23         1\n",
      "55         1\n",
      "94         1\n",
      "Name: num_private, Length: 65, dtype: int64\n",
      "region_code\n",
      "11    5300\n",
      "17    5011\n",
      "12    4639\n",
      "3     4379\n",
      "5     4040\n",
      "18    3324\n",
      "19    3047\n",
      "2     3024\n",
      "16    2816\n",
      "10    2640\n",
      "4     2513\n",
      "1     2201\n",
      "13    2093\n",
      "14    1979\n",
      "20    1969\n",
      "15    1808\n",
      "6     1609\n",
      "21    1583\n",
      "80    1238\n",
      "60    1025\n",
      "90     917\n",
      "7      805\n",
      "99     423\n",
      "9      390\n",
      "24     326\n",
      "8      300\n",
      "40       1\n",
      "Name: region_code, dtype: int64\n",
      "district_code\n",
      "1     12203\n",
      "2     11173\n",
      "3      9998\n",
      "4      8999\n",
      "5      4356\n",
      "6      4074\n",
      "7      3343\n",
      "8      1043\n",
      "30      995\n",
      "33      874\n",
      "53      745\n",
      "43      505\n",
      "13      391\n",
      "23      293\n",
      "63      195\n",
      "62      109\n",
      "60       63\n",
      "0        23\n",
      "80       12\n",
      "67        6\n",
      "Name: district_code, dtype: int64\n",
      "population\n",
      "0       21381\n",
      "1        7025\n",
      "200      1940\n",
      "150      1892\n",
      "250      1681\n",
      "        ...  \n",
      "3241        1\n",
      "1960        1\n",
      "1685        1\n",
      "2248        1\n",
      "1439        1\n",
      "Name: population, Length: 1049, dtype: int64\n",
      "construction_year\n",
      "0       20709\n",
      "2010     2645\n",
      "2008     2613\n",
      "2009     2533\n",
      "2000     2091\n",
      "2007     1587\n",
      "2006     1471\n",
      "2003     1286\n",
      "2011     1256\n",
      "2004     1123\n",
      "2012     1084\n",
      "2002     1075\n",
      "1978     1037\n",
      "1995     1014\n",
      "2005     1011\n",
      "1999      979\n",
      "1998      966\n",
      "1990      954\n",
      "1985      945\n",
      "1980      811\n",
      "1996      811\n",
      "1984      779\n",
      "1982      744\n",
      "1994      738\n",
      "1972      708\n",
      "1974      676\n",
      "1997      644\n",
      "1992      640\n",
      "1993      608\n",
      "2001      540\n",
      "1988      521\n",
      "1983      488\n",
      "1975      437\n",
      "1986      434\n",
      "1976      414\n",
      "1970      411\n",
      "1991      324\n",
      "1989      316\n",
      "1987      302\n",
      "1981      238\n",
      "1977      202\n",
      "1979      192\n",
      "1973      184\n",
      "2013      176\n",
      "1971      145\n",
      "1960      102\n",
      "1967       88\n",
      "1963       85\n",
      "1968       77\n",
      "1969       59\n",
      "1964       40\n",
      "1962       30\n",
      "1961       21\n",
      "1965       19\n",
      "1966       17\n",
      "Name: construction_year, dtype: int64\n"
     ]
    }
   ],
   "source": [
    "for i in lista_numericas:\n",
    "    print(i)\n",
    "    print(data[i].value_counts())"
   ]
  },
  {
   "cell_type": "code",
   "execution_count": 96,
   "metadata": {},
   "outputs": [],
   "source": [
    "#Amount_tsh -  Total static head (amount water available to waterpoint)\n",
    "\n",
    "data['amount_water'] = data['amount_tsh'].apply(lambda x: 0 if x==0 else 1)\n",
    "#data_test['amount_water'] = data_test['amount_tsh'].apply(lambda x: 0 if x==0 else 1)"
   ]
  },
  {
   "cell_type": "code",
   "execution_count": 71,
   "metadata": {},
   "outputs": [],
   "source": [
    "def tramos(varib,varib_destino,tamanio,maximo,df):\n",
    "    df[varib_destino]=np.where(df[varib]==0,0,(df[varib]//tamanio)*tamanio)\n",
    "    df[varib_destino]=np.where(df[varib_destino]>=maximo,maximo,df[varib_destino])"
   ]
  },
  {
   "cell_type": "code",
   "execution_count": 97,
   "metadata": {},
   "outputs": [],
   "source": [
    "#population\n",
    "tramos('population','population_tramo',1000,30500,data)\n",
    "#tramos('population','population_tramo',1000,30500,data_test)"
   ]
  },
  {
   "cell_type": "code",
   "execution_count": 102,
   "metadata": {},
   "outputs": [],
   "source": [
    "#para el año de construccion, probaremos con intervalos también\n",
    "\n",
    "data['year_tramo']=np.where(data['construction_year']==0,0,(data['construction_year']//10)*10)\n",
    "#data_test['year_tramo']=np.where(data_test['construction_year']==0,0,(data_test['construction_year']//10)*10)\n"
   ]
  },
  {
   "cell_type": "code",
   "execution_count": 101,
   "metadata": {},
   "outputs": [],
   "source": [
    "data['year_tramo']=np.where(data['year_tramo']>=2500,2500,data['year_tramo'])\n",
    "#data_test['year_tramo']=np.where(data_test['year_tramo']>=2500,2500,data_test['year_tramo'])\n"
   ]
  },
  {
   "cell_type": "code",
   "execution_count": 127,
   "metadata": {},
   "outputs": [
    {
     "data": {
      "text/html": [
       "<style  type=\"text/css\" >\n",
       "#T_b4eb759d_95fd_11eb_8c07_d4d252c410fcrow0_col0{\n",
       "            background-color:  #023858;\n",
       "            color:  #f1f1f1;\n",
       "        }#T_b4eb759d_95fd_11eb_8c07_d4d252c410fcrow1_col0{\n",
       "            background-color:  #d7d6e9;\n",
       "            color:  #000000;\n",
       "        }#T_b4eb759d_95fd_11eb_8c07_d4d252c410fcrow2_col0{\n",
       "            background-color:  #dddbec;\n",
       "            color:  #000000;\n",
       "        }#T_b4eb759d_95fd_11eb_8c07_d4d252c410fcrow3_col0{\n",
       "            background-color:  #e1dfed;\n",
       "            color:  #000000;\n",
       "        }#T_b4eb759d_95fd_11eb_8c07_d4d252c410fcrow4_col0{\n",
       "            background-color:  #e3e0ee;\n",
       "            color:  #000000;\n",
       "        }#T_b4eb759d_95fd_11eb_8c07_d4d252c410fcrow5_col0{\n",
       "            background-color:  #e7e3f0;\n",
       "            color:  #000000;\n",
       "        }#T_b4eb759d_95fd_11eb_8c07_d4d252c410fcrow6_col0{\n",
       "            background-color:  #f0eaf4;\n",
       "            color:  #000000;\n",
       "        }#T_b4eb759d_95fd_11eb_8c07_d4d252c410fcrow7_col0{\n",
       "            background-color:  #f1ebf4;\n",
       "            color:  #000000;\n",
       "        }#T_b4eb759d_95fd_11eb_8c07_d4d252c410fcrow8_col0{\n",
       "            background-color:  #f1ebf5;\n",
       "            color:  #000000;\n",
       "        }#T_b4eb759d_95fd_11eb_8c07_d4d252c410fcrow9_col0{\n",
       "            background-color:  #f2ecf5;\n",
       "            color:  #000000;\n",
       "        }#T_b4eb759d_95fd_11eb_8c07_d4d252c410fcrow10_col0,#T_b4eb759d_95fd_11eb_8c07_d4d252c410fcrow11_col0{\n",
       "            background-color:  #f3edf5;\n",
       "            color:  #000000;\n",
       "        }#T_b4eb759d_95fd_11eb_8c07_d4d252c410fcrow12_col0{\n",
       "            background-color:  #f5eef6;\n",
       "            color:  #000000;\n",
       "        }#T_b4eb759d_95fd_11eb_8c07_d4d252c410fcrow13_col0{\n",
       "            background-color:  #f5eff6;\n",
       "            color:  #000000;\n",
       "        }#T_b4eb759d_95fd_11eb_8c07_d4d252c410fcrow14_col0{\n",
       "            background-color:  #f8f1f8;\n",
       "            color:  #000000;\n",
       "        }#T_b4eb759d_95fd_11eb_8c07_d4d252c410fcrow15_col0{\n",
       "            background-color:  #f9f2f8;\n",
       "            color:  #000000;\n",
       "        }#T_b4eb759d_95fd_11eb_8c07_d4d252c410fcrow16_col0,#T_b4eb759d_95fd_11eb_8c07_d4d252c410fcrow17_col0,#T_b4eb759d_95fd_11eb_8c07_d4d252c410fcrow18_col0{\n",
       "            background-color:  #faf2f8;\n",
       "            color:  #000000;\n",
       "        }#T_b4eb759d_95fd_11eb_8c07_d4d252c410fcrow19_col0{\n",
       "            background-color:  #faf3f9;\n",
       "            color:  #000000;\n",
       "        }#T_b4eb759d_95fd_11eb_8c07_d4d252c410fcrow20_col0{\n",
       "            background-color:  #fcf4fa;\n",
       "            color:  #000000;\n",
       "        }#T_b4eb759d_95fd_11eb_8c07_d4d252c410fcrow21_col0,#T_b4eb759d_95fd_11eb_8c07_d4d252c410fcrow22_col0{\n",
       "            background-color:  #fef6fa;\n",
       "            color:  #000000;\n",
       "        }#T_b4eb759d_95fd_11eb_8c07_d4d252c410fcrow23_col0,#T_b4eb759d_95fd_11eb_8c07_d4d252c410fcrow24_col0{\n",
       "            background-color:  #fef6fb;\n",
       "            color:  #000000;\n",
       "        }#T_b4eb759d_95fd_11eb_8c07_d4d252c410fcrow25_col0,#T_b4eb759d_95fd_11eb_8c07_d4d252c410fcrow26_col0,#T_b4eb759d_95fd_11eb_8c07_d4d252c410fcrow27_col0,#T_b4eb759d_95fd_11eb_8c07_d4d252c410fcrow28_col0{\n",
       "            background-color:  #fff7fb;\n",
       "            color:  #000000;\n",
       "        }</style><table id=\"T_b4eb759d_95fd_11eb_8c07_d4d252c410fc\" ><thead>    <tr>        <th class=\"blank level0\" ></th>        <th class=\"col_heading level0 col0\" >status_group</th>    </tr></thead><tbody>\n",
       "                <tr>\n",
       "                        <th id=\"T_b4eb759d_95fd_11eb_8c07_d4d252c410fclevel0_row0\" class=\"row_heading level0 row0\" >status_group</th>\n",
       "                        <td id=\"T_b4eb759d_95fd_11eb_8c07_d4d252c410fcrow0_col0\" class=\"data row0 col0\" >1.000000</td>\n",
       "            </tr>\n",
       "            <tr>\n",
       "                        <th id=\"T_b4eb759d_95fd_11eb_8c07_d4d252c410fclevel0_row1\" class=\"row_heading level0 row1\" >quantity_group</th>\n",
       "                        <td id=\"T_b4eb759d_95fd_11eb_8c07_d4d252c410fcrow1_col0\" class=\"data row1 col0\" >0.222332</td>\n",
       "            </tr>\n",
       "            <tr>\n",
       "                        <th id=\"T_b4eb759d_95fd_11eb_8c07_d4d252c410fclevel0_row2\" class=\"row_heading level0 row2\" >extraction_type_class</th>\n",
       "                        <td id=\"T_b4eb759d_95fd_11eb_8c07_d4d252c410fcrow2_col0\" class=\"data row2 col0\" >0.195305</td>\n",
       "            </tr>\n",
       "            <tr>\n",
       "                        <th id=\"T_b4eb759d_95fd_11eb_8c07_d4d252c410fclevel0_row3\" class=\"row_heading level0 row3\" >amount_water</th>\n",
       "                        <td id=\"T_b4eb759d_95fd_11eb_8c07_d4d252c410fcrow3_col0\" class=\"data row3 col0\" >0.175545</td>\n",
       "            </tr>\n",
       "            <tr>\n",
       "                        <th id=\"T_b4eb759d_95fd_11eb_8c07_d4d252c410fclevel0_row4\" class=\"row_heading level0 row4\" >waterpoint_type_group</th>\n",
       "                        <td id=\"T_b4eb759d_95fd_11eb_8c07_d4d252c410fcrow4_col0\" class=\"data row4 col0\" >0.167433</td>\n",
       "            </tr>\n",
       "            <tr>\n",
       "                        <th id=\"T_b4eb759d_95fd_11eb_8c07_d4d252c410fclevel0_row5\" class=\"row_heading level0 row5\" >region</th>\n",
       "                        <td id=\"T_b4eb759d_95fd_11eb_8c07_d4d252c410fcrow5_col0\" class=\"data row5 col0\" >0.148345</td>\n",
       "            </tr>\n",
       "            <tr>\n",
       "                        <th id=\"T_b4eb759d_95fd_11eb_8c07_d4d252c410fclevel0_row6\" class=\"row_heading level0 row6\" >quality_group</th>\n",
       "                        <td id=\"T_b4eb759d_95fd_11eb_8c07_d4d252c410fcrow6_col0\" class=\"data row6 col0\" >0.100449</td>\n",
       "            </tr>\n",
       "            <tr>\n",
       "                        <th id=\"T_b4eb759d_95fd_11eb_8c07_d4d252c410fclevel0_row7\" class=\"row_heading level0 row7\" >payment_type</th>\n",
       "                        <td id=\"T_b4eb759d_95fd_11eb_8c07_d4d252c410fcrow7_col0\" class=\"data row7 col0\" >0.096379</td>\n",
       "            </tr>\n",
       "            <tr>\n",
       "                        <th id=\"T_b4eb759d_95fd_11eb_8c07_d4d252c410fclevel0_row8\" class=\"row_heading level0 row8\" >funder</th>\n",
       "                        <td id=\"T_b4eb759d_95fd_11eb_8c07_d4d252c410fcrow8_col0\" class=\"data row8 col0\" >0.093340</td>\n",
       "            </tr>\n",
       "            <tr>\n",
       "                        <th id=\"T_b4eb759d_95fd_11eb_8c07_d4d252c410fclevel0_row9\" class=\"row_heading level0 row9\" >region_code</th>\n",
       "                        <td id=\"T_b4eb759d_95fd_11eb_8c07_d4d252c410fcrow9_col0\" class=\"data row9 col0\" >0.084491</td>\n",
       "            </tr>\n",
       "            <tr>\n",
       "                        <th id=\"T_b4eb759d_95fd_11eb_8c07_d4d252c410fclevel0_row10\" class=\"row_heading level0 row10\" >longitude</th>\n",
       "                        <td id=\"T_b4eb759d_95fd_11eb_8c07_d4d252c410fcrow10_col0\" class=\"data row10 col0\" >0.081915</td>\n",
       "            </tr>\n",
       "            <tr>\n",
       "                        <th id=\"T_b4eb759d_95fd_11eb_8c07_d4d252c410fclevel0_row11\" class=\"row_heading level0 row11\" >gps_height</th>\n",
       "                        <td id=\"T_b4eb759d_95fd_11eb_8c07_d4d252c410fcrow11_col0\" class=\"data row11 col0\" >0.079603</td>\n",
       "            </tr>\n",
       "            <tr>\n",
       "                        <th id=\"T_b4eb759d_95fd_11eb_8c07_d4d252c410fclevel0_row12\" class=\"row_heading level0 row12\" >district_code</th>\n",
       "                        <td id=\"T_b4eb759d_95fd_11eb_8c07_d4d252c410fcrow12_col0\" class=\"data row12 col0\" >0.068426</td>\n",
       "            </tr>\n",
       "            <tr>\n",
       "                        <th id=\"T_b4eb759d_95fd_11eb_8c07_d4d252c410fclevel0_row13\" class=\"row_heading level0 row13\" >scheme_management</th>\n",
       "                        <td id=\"T_b4eb759d_95fd_11eb_8c07_d4d252c410fcrow13_col0\" class=\"data row13 col0\" >0.066102</td>\n",
       "            </tr>\n",
       "            <tr>\n",
       "                        <th id=\"T_b4eb759d_95fd_11eb_8c07_d4d252c410fclevel0_row14\" class=\"row_heading level0 row14\" >latitude</th>\n",
       "                        <td id=\"T_b4eb759d_95fd_11eb_8c07_d4d252c410fcrow14_col0\" class=\"data row14 col0\" >0.045040</td>\n",
       "            </tr>\n",
       "            <tr>\n",
       "                        <th id=\"T_b4eb759d_95fd_11eb_8c07_d4d252c410fclevel0_row15\" class=\"row_heading level0 row15\" >public_meeting</th>\n",
       "                        <td id=\"T_b4eb759d_95fd_11eb_8c07_d4d252c410fcrow15_col0\" class=\"data row15 col0\" >0.042548</td>\n",
       "            </tr>\n",
       "            <tr>\n",
       "                        <th id=\"T_b4eb759d_95fd_11eb_8c07_d4d252c410fclevel0_row16\" class=\"row_heading level0 row16\" >month</th>\n",
       "                        <td id=\"T_b4eb759d_95fd_11eb_8c07_d4d252c410fcrow16_col0\" class=\"data row16 col0\" >0.040181</td>\n",
       "            </tr>\n",
       "            <tr>\n",
       "                        <th id=\"T_b4eb759d_95fd_11eb_8c07_d4d252c410fclevel0_row17\" class=\"row_heading level0 row17\" >amount_tsh</th>\n",
       "                        <td id=\"T_b4eb759d_95fd_11eb_8c07_d4d252c410fcrow17_col0\" class=\"data row17 col0\" >0.039447</td>\n",
       "            </tr>\n",
       "            <tr>\n",
       "                        <th id=\"T_b4eb759d_95fd_11eb_8c07_d4d252c410fclevel0_row18\" class=\"row_heading level0 row18\" >installer</th>\n",
       "                        <td id=\"T_b4eb759d_95fd_11eb_8c07_d4d252c410fcrow18_col0\" class=\"data row18 col0\" >0.036653</td>\n",
       "            </tr>\n",
       "            <tr>\n",
       "                        <th id=\"T_b4eb759d_95fd_11eb_8c07_d4d252c410fclevel0_row19\" class=\"row_heading level0 row19\" >wpt_name</th>\n",
       "                        <td id=\"T_b4eb759d_95fd_11eb_8c07_d4d252c410fcrow19_col0\" class=\"data row19 col0\" >0.033869</td>\n",
       "            </tr>\n",
       "            <tr>\n",
       "                        <th id=\"T_b4eb759d_95fd_11eb_8c07_d4d252c410fclevel0_row20\" class=\"row_heading level0 row20\" >permit</th>\n",
       "                        <td id=\"T_b4eb759d_95fd_11eb_8c07_d4d252c410fcrow20_col0\" class=\"data row20 col0\" >0.021986</td>\n",
       "            </tr>\n",
       "            <tr>\n",
       "                        <th id=\"T_b4eb759d_95fd_11eb_8c07_d4d252c410fclevel0_row21\" class=\"row_heading level0 row21\" >year</th>\n",
       "                        <td id=\"T_b4eb759d_95fd_11eb_8c07_d4d252c410fcrow21_col0\" class=\"data row21 col0\" >0.012859</td>\n",
       "            </tr>\n",
       "            <tr>\n",
       "                        <th id=\"T_b4eb759d_95fd_11eb_8c07_d4d252c410fclevel0_row22\" class=\"row_heading level0 row22\" >population</th>\n",
       "                        <td id=\"T_b4eb759d_95fd_11eb_8c07_d4d252c410fcrow22_col0\" class=\"data row22 col0\" >0.012206</td>\n",
       "            </tr>\n",
       "            <tr>\n",
       "                        <th id=\"T_b4eb759d_95fd_11eb_8c07_d4d252c410fclevel0_row23\" class=\"row_heading level0 row23\" >construction_year</th>\n",
       "                        <td id=\"T_b4eb759d_95fd_11eb_8c07_d4d252c410fcrow23_col0\" class=\"data row23 col0\" >0.009057</td>\n",
       "            </tr>\n",
       "            <tr>\n",
       "                        <th id=\"T_b4eb759d_95fd_11eb_8c07_d4d252c410fclevel0_row24\" class=\"row_heading level0 row24\" >year_tramo</th>\n",
       "                        <td id=\"T_b4eb759d_95fd_11eb_8c07_d4d252c410fcrow24_col0\" class=\"data row24 col0\" >0.008989</td>\n",
       "            </tr>\n",
       "            <tr>\n",
       "                        <th id=\"T_b4eb759d_95fd_11eb_8c07_d4d252c410fclevel0_row25\" class=\"row_heading level0 row25\" >source_type</th>\n",
       "                        <td id=\"T_b4eb759d_95fd_11eb_8c07_d4d252c410fcrow25_col0\" class=\"data row25 col0\" >0.005197</td>\n",
       "            </tr>\n",
       "            <tr>\n",
       "                        <th id=\"T_b4eb759d_95fd_11eb_8c07_d4d252c410fclevel0_row26\" class=\"row_heading level0 row26\" >population_tramo</th>\n",
       "                        <td id=\"T_b4eb759d_95fd_11eb_8c07_d4d252c410fcrow26_col0\" class=\"data row26 col0\" >0.003817</td>\n",
       "            </tr>\n",
       "            <tr>\n",
       "                        <th id=\"T_b4eb759d_95fd_11eb_8c07_d4d252c410fclevel0_row27\" class=\"row_heading level0 row27\" >management_group</th>\n",
       "                        <td id=\"T_b4eb759d_95fd_11eb_8c07_d4d252c410fcrow27_col0\" class=\"data row27 col0\" >0.001976</td>\n",
       "            </tr>\n",
       "            <tr>\n",
       "                        <th id=\"T_b4eb759d_95fd_11eb_8c07_d4d252c410fclevel0_row28\" class=\"row_heading level0 row28\" >num_private</th>\n",
       "                        <td id=\"T_b4eb759d_95fd_11eb_8c07_d4d252c410fcrow28_col0\" class=\"data row28 col0\" >0.001502</td>\n",
       "            </tr>\n",
       "    </tbody></table>"
      ],
      "text/plain": [
       "<pandas.io.formats.style.Styler at 0x2308807dcd0>"
      ]
     },
     "execution_count": 127,
     "metadata": {},
     "output_type": "execute_result"
    }
   ],
   "source": [
    "corr = abs(data.corr())\n",
    "corr[['status_group']].sort_values(by = 'status_group',ascending = False).style.background_gradient()"
   ]
  },
  {
   "cell_type": "raw",
   "metadata": {},
   "source": [
    "Visualizando la correlación de las variables, podemos visualizar que ha disminuido muy poco las variables que se han tramificado. Sin embargo, la variable amout_tsh si que se encuentra mucho más correlacionada (amount_water) convirtiendola a 0 y 1."
   ]
  },
  {
   "cell_type": "code",
   "execution_count": 128,
   "metadata": {},
   "outputs": [],
   "source": [
    "#Para diferenciar la partición del \"nuevo modelo\" con el anterior, crearemos una nueva variable\n",
    "\n",
    "data1 = data"
   ]
  },
  {
   "cell_type": "code",
   "execution_count": 134,
   "metadata": {},
   "outputs": [],
   "source": [
    "y_t1 = data1['status_group']\n",
    "data1.drop('status_group', axis=1, inplace=True)\n",
    "X_train1, X_test1, y_train1, y_test1 = train_test_split(data1, y_t1, test_size = 0.2, random_state = 42)"
   ]
  },
  {
   "cell_type": "code",
   "execution_count": 136,
   "metadata": {},
   "outputs": [
    {
     "data": {
      "text/plain": [
       "GridSearchCV(cv=5, estimator=RandomForestClassifier(random_state=42), n_jobs=-1,\n",
       "             param_grid={'bootstrap': [True, False],\n",
       "                         'criterion': ['gini', 'entropy'],\n",
       "                         'n_estimators': [300, 500, 800, 1000]},\n",
       "             scoring='accuracy')"
      ]
     },
     "execution_count": 136,
     "metadata": {},
     "output_type": "execute_result"
    }
   ],
   "source": [
    "model_grid.fit(X_train1, y_train1)"
   ]
  },
  {
   "cell_type": "code",
   "execution_count": 137,
   "metadata": {},
   "outputs": [
    {
     "name": "stdout",
     "output_type": "stream",
     "text": [
      "{'bootstrap': True, 'criterion': 'entropy', 'n_estimators': 500}\n"
     ]
    }
   ],
   "source": [
    "print(model_grid.best_params_)"
   ]
  },
  {
   "cell_type": "raw",
   "metadata": {},
   "source": [
    "En este caso el valor disminuyó un 0.007, con lo cual nos quedaremos con el primer modelo que hemos obtenido"
   ]
  },
  {
   "cell_type": "code",
   "execution_count": 138,
   "metadata": {},
   "outputs": [
    {
     "name": "stdout",
     "output_type": "stream",
     "text": [
      "0.800736531986532\n"
     ]
    }
   ],
   "source": [
    "print(model_grid.best_score_)"
   ]
  },
  {
   "cell_type": "markdown",
   "metadata": {},
   "source": [
    "## Entrenamiento modelo"
   ]
  },
  {
   "cell_type": "code",
   "execution_count": 63,
   "metadata": {},
   "outputs": [
    {
     "data": {
      "text/plain": [
       "RandomForestClassifier(criterion='entropy', n_estimators=800)"
      ]
     },
     "execution_count": 63,
     "metadata": {},
     "output_type": "execute_result"
    }
   ],
   "source": [
    "modelo = RandomForestClassifier(bootstrap=True, criterion='entropy',n_estimators=800)\n",
    "modelo.fit(data,y_t)"
   ]
  },
  {
   "cell_type": "markdown",
   "metadata": {},
   "source": [
    "## Predicciones"
   ]
  },
  {
   "cell_type": "code",
   "execution_count": 64,
   "metadata": {},
   "outputs": [],
   "source": [
    "pred = modelo.predict(data_test)"
   ]
  },
  {
   "cell_type": "code",
   "execution_count": 65,
   "metadata": {},
   "outputs": [
    {
     "data": {
      "text/plain": [
       "array([0, 1, 1, ..., 1, 1, 0])"
      ]
     },
     "execution_count": 65,
     "metadata": {},
     "output_type": "execute_result"
    }
   ],
   "source": [
    "pred"
   ]
  },
  {
   "cell_type": "code",
   "execution_count": 67,
   "metadata": {},
   "outputs": [
    {
     "data": {
      "text/plain": [
       "0        0\n",
       "1        1\n",
       "2        1\n",
       "3        0\n",
       "4        1\n",
       "        ..\n",
       "14845    0\n",
       "14846    1\n",
       "14847    1\n",
       "14848    1\n",
       "14849    0\n",
       "Name: status_group, Length: 14850, dtype: int32"
      ]
     },
     "execution_count": 67,
     "metadata": {},
     "output_type": "execute_result"
    }
   ],
   "source": [
    "prediction = pd.Series(pred,name='status_group')\n",
    "prediction"
   ]
  },
  {
   "cell_type": "code",
   "execution_count": 68,
   "metadata": {},
   "outputs": [
    {
     "data": {
      "text/plain": [
       "0        50785\n",
       "1        51630\n",
       "2        17168\n",
       "3        45559\n",
       "4        49871\n",
       "         ...  \n",
       "14845    39307\n",
       "14846    18990\n",
       "14847    28749\n",
       "14848    33492\n",
       "14849    68707\n",
       "Name: id, Length: 14850, dtype: int64"
      ]
     },
     "execution_count": 68,
     "metadata": {},
     "output_type": "execute_result"
    }
   ],
   "source": [
    "test_id = pd.Series(data_test.index,name='id')\n",
    "test_id"
   ]
  },
  {
   "cell_type": "code",
   "execution_count": 69,
   "metadata": {},
   "outputs": [],
   "source": [
    "pred_df = pd.concat([test_id,prediction], axis=1)"
   ]
  },
  {
   "cell_type": "code",
   "execution_count": 77,
   "metadata": {},
   "outputs": [
    {
     "data": {
      "text/html": [
       "<div>\n",
       "<style scoped>\n",
       "    .dataframe tbody tr th:only-of-type {\n",
       "        vertical-align: middle;\n",
       "    }\n",
       "\n",
       "    .dataframe tbody tr th {\n",
       "        vertical-align: top;\n",
       "    }\n",
       "\n",
       "    .dataframe thead th {\n",
       "        text-align: right;\n",
       "    }\n",
       "</style>\n",
       "<table border=\"1\" class=\"dataframe\">\n",
       "  <thead>\n",
       "    <tr style=\"text-align: right;\">\n",
       "      <th></th>\n",
       "      <th>id</th>\n",
       "      <th>status_group</th>\n",
       "    </tr>\n",
       "  </thead>\n",
       "  <tbody>\n",
       "    <tr>\n",
       "      <th>0</th>\n",
       "      <td>50785</td>\n",
       "      <td>1</td>\n",
       "    </tr>\n",
       "    <tr>\n",
       "      <th>1</th>\n",
       "      <td>51630</td>\n",
       "      <td>1</td>\n",
       "    </tr>\n",
       "    <tr>\n",
       "      <th>2</th>\n",
       "      <td>17168</td>\n",
       "      <td>1</td>\n",
       "    </tr>\n",
       "    <tr>\n",
       "      <th>3</th>\n",
       "      <td>45559</td>\n",
       "      <td>0</td>\n",
       "    </tr>\n",
       "    <tr>\n",
       "      <th>4</th>\n",
       "      <td>49871</td>\n",
       "      <td>1</td>\n",
       "    </tr>\n",
       "    <tr>\n",
       "      <th>...</th>\n",
       "      <td>...</td>\n",
       "      <td>...</td>\n",
       "    </tr>\n",
       "    <tr>\n",
       "      <th>14845</th>\n",
       "      <td>39307</td>\n",
       "      <td>0</td>\n",
       "    </tr>\n",
       "    <tr>\n",
       "      <th>14846</th>\n",
       "      <td>18990</td>\n",
       "      <td>1</td>\n",
       "    </tr>\n",
       "    <tr>\n",
       "      <th>14847</th>\n",
       "      <td>28749</td>\n",
       "      <td>1</td>\n",
       "    </tr>\n",
       "    <tr>\n",
       "      <th>14848</th>\n",
       "      <td>33492</td>\n",
       "      <td>1</td>\n",
       "    </tr>\n",
       "    <tr>\n",
       "      <th>14849</th>\n",
       "      <td>68707</td>\n",
       "      <td>0</td>\n",
       "    </tr>\n",
       "  </tbody>\n",
       "</table>\n",
       "<p>14850 rows × 2 columns</p>\n",
       "</div>"
      ],
      "text/plain": [
       "          id  status_group\n",
       "0      50785             1\n",
       "1      51630             1\n",
       "2      17168             1\n",
       "3      45559             0\n",
       "4      49871             1\n",
       "...      ...           ...\n",
       "14845  39307             0\n",
       "14846  18990             1\n",
       "14847  28749             1\n",
       "14848  33492             1\n",
       "14849  68707             0\n",
       "\n",
       "[14850 rows x 2 columns]"
      ]
     },
     "execution_count": 77,
     "metadata": {},
     "output_type": "execute_result"
    }
   ],
   "source": [
    "pred_df"
   ]
  },
  {
   "cell_type": "code",
   "execution_count": 80,
   "metadata": {},
   "outputs": [],
   "source": [
    "pred_df['status_group'] = pred_df['status_group'].map( {1:'functional',0: 'non functional', 2:'functional needs repair'} )"
   ]
  },
  {
   "cell_type": "code",
   "execution_count": 81,
   "metadata": {},
   "outputs": [
    {
     "data": {
      "text/html": [
       "<div>\n",
       "<style scoped>\n",
       "    .dataframe tbody tr th:only-of-type {\n",
       "        vertical-align: middle;\n",
       "    }\n",
       "\n",
       "    .dataframe tbody tr th {\n",
       "        vertical-align: top;\n",
       "    }\n",
       "\n",
       "    .dataframe thead th {\n",
       "        text-align: right;\n",
       "    }\n",
       "</style>\n",
       "<table border=\"1\" class=\"dataframe\">\n",
       "  <thead>\n",
       "    <tr style=\"text-align: right;\">\n",
       "      <th></th>\n",
       "      <th>id</th>\n",
       "      <th>status_group</th>\n",
       "    </tr>\n",
       "  </thead>\n",
       "  <tbody>\n",
       "    <tr>\n",
       "      <th>0</th>\n",
       "      <td>50785</td>\n",
       "      <td>functional</td>\n",
       "    </tr>\n",
       "    <tr>\n",
       "      <th>1</th>\n",
       "      <td>51630</td>\n",
       "      <td>functional</td>\n",
       "    </tr>\n",
       "    <tr>\n",
       "      <th>2</th>\n",
       "      <td>17168</td>\n",
       "      <td>functional</td>\n",
       "    </tr>\n",
       "    <tr>\n",
       "      <th>3</th>\n",
       "      <td>45559</td>\n",
       "      <td>non functional</td>\n",
       "    </tr>\n",
       "    <tr>\n",
       "      <th>4</th>\n",
       "      <td>49871</td>\n",
       "      <td>functional</td>\n",
       "    </tr>\n",
       "    <tr>\n",
       "      <th>...</th>\n",
       "      <td>...</td>\n",
       "      <td>...</td>\n",
       "    </tr>\n",
       "    <tr>\n",
       "      <th>14845</th>\n",
       "      <td>39307</td>\n",
       "      <td>non functional</td>\n",
       "    </tr>\n",
       "    <tr>\n",
       "      <th>14846</th>\n",
       "      <td>18990</td>\n",
       "      <td>functional</td>\n",
       "    </tr>\n",
       "    <tr>\n",
       "      <th>14847</th>\n",
       "      <td>28749</td>\n",
       "      <td>functional</td>\n",
       "    </tr>\n",
       "    <tr>\n",
       "      <th>14848</th>\n",
       "      <td>33492</td>\n",
       "      <td>functional</td>\n",
       "    </tr>\n",
       "    <tr>\n",
       "      <th>14849</th>\n",
       "      <td>68707</td>\n",
       "      <td>non functional</td>\n",
       "    </tr>\n",
       "  </tbody>\n",
       "</table>\n",
       "<p>14850 rows × 2 columns</p>\n",
       "</div>"
      ],
      "text/plain": [
       "          id    status_group\n",
       "0      50785      functional\n",
       "1      51630      functional\n",
       "2      17168      functional\n",
       "3      45559  non functional\n",
       "4      49871      functional\n",
       "...      ...             ...\n",
       "14845  39307  non functional\n",
       "14846  18990      functional\n",
       "14847  28749      functional\n",
       "14848  33492      functional\n",
       "14849  68707  non functional\n",
       "\n",
       "[14850 rows x 2 columns]"
      ]
     },
     "execution_count": 81,
     "metadata": {},
     "output_type": "execute_result"
    }
   ],
   "source": [
    "pred_df"
   ]
  },
  {
   "cell_type": "code",
   "execution_count": 82,
   "metadata": {},
   "outputs": [],
   "source": [
    "pred_df.to_csv('predictions',index=False)"
   ]
  },
  {
   "cell_type": "markdown",
   "metadata": {},
   "source": [
    "## Guardar modelo"
   ]
  },
  {
   "cell_type": "code",
   "execution_count": 84,
   "metadata": {},
   "outputs": [],
   "source": [
    "import pickle\n",
    "\n",
    "pkl_file = 'Pump_it_Forest'\n",
    "with open(pkl_file,'wb') as file:\n",
    "    pickle.dump(modelo,file)"
   ]
  },
  {
   "cell_type": "code",
   "execution_count": null,
   "metadata": {},
   "outputs": [],
   "source": []
  }
 ],
 "metadata": {
  "kernelspec": {
   "display_name": "Python 3",
   "language": "python",
   "name": "python3"
  },
  "language_info": {
   "codemirror_mode": {
    "name": "ipython",
    "version": 3
   },
   "file_extension": ".py",
   "mimetype": "text/x-python",
   "name": "python",
   "nbconvert_exporter": "python",
   "pygments_lexer": "ipython3",
   "version": "3.8.5"
  }
 },
 "nbformat": 4,
 "nbformat_minor": 4
}
