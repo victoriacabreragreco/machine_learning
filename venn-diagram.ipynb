{
 "cells": [
  {
   "cell_type": "code",
   "execution_count": 1,
   "id": "4f4de2da",
   "metadata": {
    "_cell_guid": "b1076dfc-b9ad-4769-8c92-a6c4dae69d19",
    "_uuid": "8f2839f25d086af736a60e9eeb907d3b93b6e0e5",
    "execution": {
     "iopub.execute_input": "2021-10-07T10:29:55.359191Z",
     "iopub.status.busy": "2021-10-07T10:29:55.358260Z",
     "iopub.status.idle": "2021-10-07T10:29:55.371776Z",
     "shell.execute_reply": "2021-10-07T10:29:55.370723Z",
     "shell.execute_reply.started": "2021-10-07T09:49:42.737921Z"
    },
    "papermill": {
     "duration": 0.04356,
     "end_time": "2021-10-07T10:29:55.371997",
     "exception": false,
     "start_time": "2021-10-07T10:29:55.328437",
     "status": "completed"
    },
    "tags": []
   },
   "outputs": [
    {
     "name": "stdout",
     "output_type": "stream",
     "text": [
      "/kaggle/input/metabric-clinic-genetic-values/METABRIC_RNA_Mutation_f.csv\n"
     ]
    }
   ],
   "source": [
    "# This Python 3 environment comes with many helpful analytics libraries installed\n",
    "# It is defined by the kaggle/python Docker image: https://github.com/kaggle/docker-python\n",
    "# For example, here's several helpful packages to load\n",
    "\n",
    "import numpy as np # linear algebra\n",
    "import pandas as pd # data processing, CSV file I/O (e.g. pd.read_csv)\n",
    "\n",
    "# Input data files are available in the read-only \"../input/\" directory\n",
    "# For example, running this (by clicking run or pressing Shift+Enter) will list all files under the input directory\n",
    "\n",
    "import os\n",
    "for dirname, _, filenames in os.walk('/kaggle/input'):\n",
    "    for filename in filenames:\n",
    "        print(os.path.join(dirname, filename))\n",
    "\n",
    "# You can write up to 20GB to the current directory (/kaggle/working/) that gets preserved as output when you create a version using \"Save & Run All\" \n",
    "# You can also write temporary files to /kaggle/temp/, but they won't be saved outside of the current session"
   ]
  },
  {
   "cell_type": "code",
   "execution_count": 2,
   "id": "ce989fae",
   "metadata": {
    "execution": {
     "iopub.execute_input": "2021-10-07T10:29:55.407645Z",
     "iopub.status.busy": "2021-10-07T10:29:55.406776Z",
     "iopub.status.idle": "2021-10-07T10:29:55.410605Z",
     "shell.execute_reply": "2021-10-07T10:29:55.411168Z",
     "shell.execute_reply.started": "2021-10-07T10:04:16.772847Z"
    },
    "papermill": {
     "duration": 0.025205,
     "end_time": "2021-10-07T10:29:55.411354",
     "exception": false,
     "start_time": "2021-10-07T10:29:55.386149",
     "status": "completed"
    },
    "tags": []
   },
   "outputs": [
    {
     "data": {
      "text/html": [
       "\n",
       "<style>\n",
       ".output_png {\n",
       "    display: table-cell;\n",
       "    text-align: center;\n",
       "    vertical-align: middle;\n",
       "}\n",
       "</style>\n"
      ],
      "text/plain": [
       "<IPython.core.display.HTML object>"
      ]
     },
     "execution_count": 2,
     "metadata": {},
     "output_type": "execute_result"
    }
   ],
   "source": [
    "from IPython.core.display import HTML\n",
    "HTML(\"\"\"\n",
    "<style>\n",
    ".output_png {\n",
    "    display: table-cell;\n",
    "    text-align: center;\n",
    "    vertical-align: middle;\n",
    "}\n",
    "</style>\n",
    "\"\"\")"
   ]
  },
  {
   "cell_type": "markdown",
   "id": "2c612938",
   "metadata": {
    "papermill": {
     "duration": 0.012248,
     "end_time": "2021-10-07T10:29:55.436821",
     "exception": false,
     "start_time": "2021-10-07T10:29:55.424573",
     "status": "completed"
    },
    "tags": []
   },
   "source": [
    "## The idea of this markdown is understand how to create a Venn Diagram in a few steps. In this case, I'll use it to classify different treatments in a Breast Cancer dataset."
   ]
  },
  {
   "cell_type": "code",
   "execution_count": 3,
   "id": "a6664103",
   "metadata": {
    "execution": {
     "iopub.execute_input": "2021-10-07T10:29:55.466282Z",
     "iopub.status.busy": "2021-10-07T10:29:55.465644Z",
     "iopub.status.idle": "2021-10-07T10:29:55.560265Z",
     "shell.execute_reply": "2021-10-07T10:29:55.560787Z",
     "shell.execute_reply.started": "2021-10-07T10:12:49.168799Z"
    },
    "papermill": {
     "duration": 0.111199,
     "end_time": "2021-10-07T10:29:55.560958",
     "exception": false,
     "start_time": "2021-10-07T10:29:55.449759",
     "status": "completed"
    },
    "tags": []
   },
   "outputs": [
    {
     "data": {
      "text/html": [
       "<div>\n",
       "<style scoped>\n",
       "    .dataframe tbody tr th:only-of-type {\n",
       "        vertical-align: middle;\n",
       "    }\n",
       "\n",
       "    .dataframe tbody tr th {\n",
       "        vertical-align: top;\n",
       "    }\n",
       "\n",
       "    .dataframe thead th {\n",
       "        text-align: right;\n",
       "    }\n",
       "</style>\n",
       "<table border=\"1\" class=\"dataframe\">\n",
       "  <thead>\n",
       "    <tr style=\"text-align: right;\">\n",
       "      <th></th>\n",
       "      <th>patient_id</th>\n",
       "      <th>age_at_diagnosis</th>\n",
       "      <th>type_of_breast_surgery</th>\n",
       "      <th>cancer_type</th>\n",
       "      <th>cancer_type_detailed</th>\n",
       "      <th>cellularity</th>\n",
       "      <th>chemotherapy</th>\n",
       "      <th>cancer_subtype</th>\n",
       "      <th>cohort</th>\n",
       "      <th>er_status_measured_by_ihc</th>\n",
       "      <th>...</th>\n",
       "      <th>ccne1</th>\n",
       "      <th>cdk2</th>\n",
       "      <th>mdm2</th>\n",
       "      <th>ki67</th>\n",
       "      <th>mmp9</th>\n",
       "      <th>pik3ca</th>\n",
       "      <th>pik3r1</th>\n",
       "      <th>tgfb3</th>\n",
       "      <th>bbc3</th>\n",
       "      <th>apc</th>\n",
       "    </tr>\n",
       "  </thead>\n",
       "  <tbody>\n",
       "    <tr>\n",
       "      <th>0</th>\n",
       "      <td>0</td>\n",
       "      <td>75.65</td>\n",
       "      <td>MASTECTOMY</td>\n",
       "      <td>Breast Cancer</td>\n",
       "      <td>Breast Invasive Ductal Carcinoma</td>\n",
       "      <td>NaN</td>\n",
       "      <td>0</td>\n",
       "      <td>claudin-low</td>\n",
       "      <td>1.0</td>\n",
       "      <td>Positve</td>\n",
       "      <td>...</td>\n",
       "      <td>-13.388</td>\n",
       "      <td>-0.6208</td>\n",
       "      <td>0.3126</td>\n",
       "      <td>29.336</td>\n",
       "      <td>-23.771</td>\n",
       "      <td>-0.7545</td>\n",
       "      <td>20.932</td>\n",
       "      <td>-14.828</td>\n",
       "      <td>-0.2122</td>\n",
       "      <td>0.5815</td>\n",
       "    </tr>\n",
       "    <tr>\n",
       "      <th>1</th>\n",
       "      <td>2</td>\n",
       "      <td>43.19</td>\n",
       "      <td>BREAST CONSERVING</td>\n",
       "      <td>Breast Cancer</td>\n",
       "      <td>Breast Invasive Ductal Carcinoma</td>\n",
       "      <td>High</td>\n",
       "      <td>0</td>\n",
       "      <td>LumA</td>\n",
       "      <td>1.0</td>\n",
       "      <td>Positve</td>\n",
       "      <td>...</td>\n",
       "      <td>-0.6273</td>\n",
       "      <td>0.1813</td>\n",
       "      <td>0.8803</td>\n",
       "      <td>-0.4866</td>\n",
       "      <td>-13.469</td>\n",
       "      <td>-0.6025</td>\n",
       "      <td>-0.3072</td>\n",
       "      <td>0.4945</td>\n",
       "      <td>-0.3817</td>\n",
       "      <td>13.903</td>\n",
       "    </tr>\n",
       "    <tr>\n",
       "      <th>2</th>\n",
       "      <td>5</td>\n",
       "      <td>48.87</td>\n",
       "      <td>MASTECTOMY</td>\n",
       "      <td>Breast Cancer</td>\n",
       "      <td>Breast Invasive Ductal Carcinoma</td>\n",
       "      <td>High</td>\n",
       "      <td>1</td>\n",
       "      <td>LumB</td>\n",
       "      <td>1.0</td>\n",
       "      <td>Positve</td>\n",
       "      <td>...</td>\n",
       "      <td>-0.1245</td>\n",
       "      <td>-0.1109</td>\n",
       "      <td>-0.8822</td>\n",
       "      <td>0.4321</td>\n",
       "      <td>-0.1297</td>\n",
       "      <td>22.172</td>\n",
       "      <td>17.297</td>\n",
       "      <td>11.768</td>\n",
       "      <td>-0.0325</td>\n",
       "      <td>15.604</td>\n",
       "    </tr>\n",
       "    <tr>\n",
       "      <th>3</th>\n",
       "      <td>6</td>\n",
       "      <td>47.68</td>\n",
       "      <td>MASTECTOMY</td>\n",
       "      <td>Breast Cancer</td>\n",
       "      <td>Breast Mixed Ductal and Lobular Carcinoma</td>\n",
       "      <td>Moderate</td>\n",
       "      <td>1</td>\n",
       "      <td>LumB</td>\n",
       "      <td>1.0</td>\n",
       "      <td>Positve</td>\n",
       "      <td>...</td>\n",
       "      <td>-0.6651</td>\n",
       "      <td>-14.457</td>\n",
       "      <td>0.2551</td>\n",
       "      <td>-0.5447</td>\n",
       "      <td>-0.7623</td>\n",
       "      <td>35.439.999.999.999.900</td>\n",
       "      <td>-0.6674</td>\n",
       "      <td>10.085</td>\n",
       "      <td>25.351</td>\n",
       "      <td>16.567</td>\n",
       "    </tr>\n",
       "    <tr>\n",
       "      <th>4</th>\n",
       "      <td>8</td>\n",
       "      <td>76.97</td>\n",
       "      <td>MASTECTOMY</td>\n",
       "      <td>Breast Cancer</td>\n",
       "      <td>Breast Mixed Ductal and Lobular Carcinoma</td>\n",
       "      <td>High</td>\n",
       "      <td>1</td>\n",
       "      <td>LumB</td>\n",
       "      <td>1.0</td>\n",
       "      <td>Positve</td>\n",
       "      <td>...</td>\n",
       "      <td>-10.514</td>\n",
       "      <td>15.423</td>\n",
       "      <td>-0.0063</td>\n",
       "      <td>-0.1758</td>\n",
       "      <td>-0.7551</td>\n",
       "      <td>-0.43200000000000005</td>\n",
       "      <td>-11.464</td>\n",
       "      <td>-0.9729</td>\n",
       "      <td>-0.9266</td>\n",
       "      <td>0.3155</td>\n",
       "    </tr>\n",
       "  </tbody>\n",
       "</table>\n",
       "<p>5 rows × 60 columns</p>\n",
       "</div>"
      ],
      "text/plain": [
       "   patient_id  age_at_diagnosis type_of_breast_surgery    cancer_type  \\\n",
       "0           0             75.65             MASTECTOMY  Breast Cancer   \n",
       "1           2             43.19      BREAST CONSERVING  Breast Cancer   \n",
       "2           5             48.87             MASTECTOMY  Breast Cancer   \n",
       "3           6             47.68             MASTECTOMY  Breast Cancer   \n",
       "4           8             76.97             MASTECTOMY  Breast Cancer   \n",
       "\n",
       "                        cancer_type_detailed cellularity  chemotherapy  \\\n",
       "0           Breast Invasive Ductal Carcinoma         NaN             0   \n",
       "1           Breast Invasive Ductal Carcinoma        High             0   \n",
       "2           Breast Invasive Ductal Carcinoma        High             1   \n",
       "3  Breast Mixed Ductal and Lobular Carcinoma    Moderate             1   \n",
       "4  Breast Mixed Ductal and Lobular Carcinoma        High             1   \n",
       "\n",
       "  cancer_subtype  cohort er_status_measured_by_ihc  ...    ccne1     cdk2  \\\n",
       "0    claudin-low     1.0                   Positve  ...  -13.388  -0.6208   \n",
       "1           LumA     1.0                   Positve  ...  -0.6273   0.1813   \n",
       "2           LumB     1.0                   Positve  ...  -0.1245  -0.1109   \n",
       "3           LumB     1.0                   Positve  ...  -0.6651  -14.457   \n",
       "4           LumB     1.0                   Positve  ...  -10.514   15.423   \n",
       "\n",
       "      mdm2     ki67     mmp9                  pik3ca   pik3r1    tgfb3  \\\n",
       "0   0.3126   29.336  -23.771                 -0.7545   20.932  -14.828   \n",
       "1   0.8803  -0.4866  -13.469                 -0.6025  -0.3072   0.4945   \n",
       "2  -0.8822   0.4321  -0.1297                  22.172   17.297   11.768   \n",
       "3   0.2551  -0.5447  -0.7623  35.439.999.999.999.900  -0.6674   10.085   \n",
       "4  -0.0063  -0.1758  -0.7551    -0.43200000000000005  -11.464  -0.9729   \n",
       "\n",
       "      bbc3     apc  \n",
       "0  -0.2122  0.5815  \n",
       "1  -0.3817  13.903  \n",
       "2  -0.0325  15.604  \n",
       "3   25.351  16.567  \n",
       "4  -0.9266  0.3155  \n",
       "\n",
       "[5 rows x 60 columns]"
      ]
     },
     "execution_count": 3,
     "metadata": {},
     "output_type": "execute_result"
    }
   ],
   "source": [
    "metabric = pd.read_csv('/kaggle/input/metabric-clinic-genetic-values/METABRIC_RNA_Mutation_f.csv', sep=';')\n",
    "metabric.head()"
   ]
  },
  {
   "cell_type": "code",
   "execution_count": 4,
   "id": "6128dcc0",
   "metadata": {
    "execution": {
     "iopub.execute_input": "2021-10-07T10:29:55.592938Z",
     "iopub.status.busy": "2021-10-07T10:29:55.592092Z",
     "iopub.status.idle": "2021-10-07T10:29:56.575564Z",
     "shell.execute_reply": "2021-10-07T10:29:56.574883Z",
     "shell.execute_reply.started": "2021-10-07T09:57:06.510324Z"
    },
    "papermill": {
     "duration": 1.00134,
     "end_time": "2021-10-07T10:29:56.575718",
     "exception": false,
     "start_time": "2021-10-07T10:29:55.574378",
     "status": "completed"
    },
    "tags": []
   },
   "outputs": [],
   "source": [
    "import seaborn as sns\n",
    "from collections import Counter\n",
    "from matplotlib_venn import venn2, venn3"
   ]
  },
  {
   "cell_type": "markdown",
   "id": "87d844e3",
   "metadata": {
    "papermill": {
     "duration": 0.013287,
     "end_time": "2021-10-07T10:29:56.602934",
     "exception": false,
     "start_time": "2021-10-07T10:29:56.589647",
     "status": "completed"
    },
    "tags": []
   },
   "source": [
    "#### Before starting with the dataset, It's better to have a quick example with a few values before moving to the next level. At first, we have a list called `value` and our goal is to have three differents sets A,B, and C."
   ]
  },
  {
   "cell_type": "code",
   "execution_count": 5,
   "id": "bd3bbcb3",
   "metadata": {
    "execution": {
     "iopub.execute_input": "2021-10-07T10:29:56.634525Z",
     "iopub.status.busy": "2021-10-07T10:29:56.633522Z",
     "iopub.status.idle": "2021-10-07T10:29:56.638571Z",
     "shell.execute_reply": "2021-10-07T10:29:56.637920Z",
     "shell.execute_reply.started": "2021-10-07T10:02:43.558538Z"
    },
    "papermill": {
     "duration": 0.022115,
     "end_time": "2021-10-07T10:29:56.638712",
     "exception": false,
     "start_time": "2021-10-07T10:29:56.616597",
     "status": "completed"
    },
    "tags": []
   },
   "outputs": [],
   "source": [
    "value=[1,2,3,4,5,6,7]"
   ]
  },
  {
   "cell_type": "markdown",
   "id": "406784b2",
   "metadata": {
    "papermill": {
     "duration": 0.013153,
     "end_time": "2021-10-07T10:29:56.665687",
     "exception": false,
     "start_time": "2021-10-07T10:29:56.652534",
     "status": "completed"
    },
    "tags": []
   },
   "source": [
    "#### In the Venn's Diagram is important the order of the values, based on the previous list, we get the following:\n",
    "\n",
    "A=1,B=2,A ∩ B=3, C=4, A∩C =5, B∩C =6, A∩B∩C = 7"
   ]
  },
  {
   "cell_type": "code",
   "execution_count": 6,
   "id": "f8183570",
   "metadata": {
    "execution": {
     "iopub.execute_input": "2021-10-07T10:29:56.720913Z",
     "iopub.status.busy": "2021-10-07T10:29:56.719916Z",
     "iopub.status.idle": "2021-10-07T10:29:56.851918Z",
     "shell.execute_reply": "2021-10-07T10:29:56.852421Z",
     "shell.execute_reply.started": "2021-10-07T10:05:38.103959Z"
    },
    "papermill": {
     "duration": 0.173474,
     "end_time": "2021-10-07T10:29:56.852637",
     "exception": false,
     "start_time": "2021-10-07T10:29:56.679163",
     "status": "completed"
    },
    "tags": []
   },
   "outputs": [
    {
     "data": {
      "text/plain": [
       "<matplotlib_venn._common.VennDiagram at 0x7f44ca8bfd50>"
      ]
     },
     "execution_count": 6,
     "metadata": {},
     "output_type": "execute_result"
    },
    {
     "data": {
      "image/png": "[encoded data removed]",
      "text/plain": [
       "<Figure size 432x288 with 1 Axes>"
      ]
     },
     "metadata": {},
     "output_type": "display_data"
    }
   ],
   "source": [
    "venn3(subsets=value, set_labels=(\"A\", \"B \", \"C\"),  alpha=0.2)"
   ]
  },
  {
   "cell_type": "markdown",
   "id": "9919a5a1",
   "metadata": {
    "papermill": {
     "duration": 0.014284,
     "end_time": "2021-10-07T10:29:56.881842",
     "exception": false,
     "start_time": "2021-10-07T10:29:56.867558",
     "status": "completed"
    },
    "tags": []
   },
   "source": [
    "#### Let's apply to a dataframe"
   ]
  },
  {
   "cell_type": "markdown",
   "id": "a81da504",
   "metadata": {
    "papermill": {
     "duration": 0.016044,
     "end_time": "2021-10-07T10:29:56.912350",
     "exception": false,
     "start_time": "2021-10-07T10:29:56.896306",
     "status": "completed"
    },
    "tags": []
   },
   "source": [
    "In many cases, patients could receive combine treatments, for that reason a Venn Diagram will help to have a better approach than the individual plots.\n",
    "<br>\n",
    "Before starting the treatments are boolean features, that's why the values are taking as 0 and 1.\n",
    "<br>\n",
    "The first step, is to created the possible combinations, for example the variable `chemo` will be the result of `chemotherapy` = 1 , `radio_therapy`= 0 y `hormone_therapy` = 0.\n",
    "This step applies for each therapy, and then the possible combinations between them."
   ]
  },
  {
   "cell_type": "code",
   "execution_count": 7,
   "id": "ee4b8b99",
   "metadata": {
    "execution": {
     "iopub.execute_input": "2021-10-07T10:29:56.951350Z",
     "iopub.status.busy": "2021-10-07T10:29:56.950563Z",
     "iopub.status.idle": "2021-10-07T10:29:56.969784Z",
     "shell.execute_reply": "2021-10-07T10:29:56.968682Z",
     "shell.execute_reply.started": "2021-10-07T10:14:26.103414Z"
    },
    "papermill": {
     "duration": 0.04296,
     "end_time": "2021-10-07T10:29:56.969945",
     "exception": false,
     "start_time": "2021-10-07T10:29:56.926985",
     "status": "completed"
    },
    "tags": []
   },
   "outputs": [],
   "source": [
    "chemo = metabric[(metabric[\"chemotherapy\"]==1) & (metabric[\"radio_therapy\"]==0) & (metabric[\"hormone_therapy\"]==0)]\n",
    "radio = metabric[(metabric[\"chemotherapy\"]==0) & (metabric[\"radio_therapy\"]==1) & (metabric[\"hormone_therapy\"]==0)]\n",
    "hormonal = metabric[(metabric[\"chemotherapy\"]==0) & (metabric[\"radio_therapy\"]==0) & (metabric[\"hormone_therapy\"]==1)]\n",
    "chemo_radio = metabric[((metabric[\"chemotherapy\"]==1) & (metabric[\"radio_therapy\"]==1)) & (metabric[\"hormone_therapy\"]==0)]\n",
    "radio_hormonal = metabric[(metabric[\"chemotherapy\"]==0) & ((metabric[\"radio_therapy\"]==1) & (metabric[\"hormone_therapy\"]==1))]\n",
    "hormonal_chemo = metabric[((metabric[\"chemotherapy\"]==1) & (metabric[\"hormone_therapy\"]==1)) & (metabric[\"radio_therapy\"]==0) ]\n",
    "all_3 = metabric[((metabric[\"chemotherapy\"]==1) & (metabric[\"radio_therapy\"]==1) & (metabric[\"hormone_therapy\"]==1))]"
   ]
  },
  {
   "cell_type": "code",
   "execution_count": 8,
   "id": "2d86d771",
   "metadata": {
    "execution": {
     "iopub.execute_input": "2021-10-07T10:29:57.006079Z",
     "iopub.status.busy": "2021-10-07T10:29:57.005368Z",
     "iopub.status.idle": "2021-10-07T10:29:57.007866Z",
     "shell.execute_reply": "2021-10-07T10:29:57.008331Z",
     "shell.execute_reply.started": "2021-10-07T10:15:16.536551Z"
    },
    "papermill": {
     "duration": 0.023121,
     "end_time": "2021-10-07T10:29:57.008582",
     "exception": false,
     "start_time": "2021-10-07T10:29:56.985461",
     "status": "completed"
    },
    "tags": []
   },
   "outputs": [],
   "source": [
    "tratamientos = [chemo, radio, chemo_radio,hormonal, hormonal_chemo, radio_hormonal,all_3]\n",
    "\n",
    "sizes=[]\n",
    "proportiondeath=[]\n",
    "\n",
    "for i in tratamientos:\n",
    "    sizes.append(np.shape(i)[0])"
   ]
  },
  {
   "cell_type": "code",
   "execution_count": 9,
   "id": "a3c82163",
   "metadata": {
    "execution": {
     "iopub.execute_input": "2021-10-07T10:29:57.046336Z",
     "iopub.status.busy": "2021-10-07T10:29:57.042079Z",
     "iopub.status.idle": "2021-10-07T10:29:57.170370Z",
     "shell.execute_reply": "2021-10-07T10:29:57.170859Z",
     "shell.execute_reply.started": "2021-10-07T10:16:33.076842Z"
    },
    "papermill": {
     "duration": 0.14721,
     "end_time": "2021-10-07T10:29:57.171090",
     "exception": false,
     "start_time": "2021-10-07T10:29:57.023880",
     "status": "completed"
    },
    "tags": []
   },
   "outputs": [
    {
     "data": {
      "text/plain": [
       "<matplotlib_venn._common.VennDiagram at 0x7f44c2772ed0>"
      ]
     },
     "execution_count": 9,
     "metadata": {},
     "output_type": "execute_result"
    },
    {
     "data": {
      "image/png": "[encoded data removed]",
      "text/plain": [
       "<Figure size 432x288 with 1 Axes>"
      ]
     },
     "metadata": {},
     "output_type": "display_data"
    }
   ],
   "source": [
    "sequential_colors = sns.color_palette(\"RdPu\", 6)\n",
    "venn3(subsets=sizes, set_labels=(\"Quimio\", \"Radio \", \"Hormonal\"),  alpha=0.2, set_colors= sequential_colors)"
   ]
  },
  {
   "cell_type": "markdown",
   "id": "ff00bf0a",
   "metadata": {
    "papermill": {
     "duration": 0.016011,
     "end_time": "2021-10-07T10:29:57.203556",
     "exception": false,
     "start_time": "2021-10-07T10:29:57.187545",
     "status": "completed"
    },
    "tags": []
   },
   "source": [
    "<u>Insights:</u>\n",
    "\n",
    "* The therapy most used is hormonetherapy with 405 patients.\n",
    "* Radio and Hormone therapy is the combination most used for 586 patients.\n",
    "* La combinación de terapia más empleada es Radio y Hormono terapia con 586 pacientes.\n",
    "* The least used is hormone and chemo therapy together with 28 patients.\n",
    "* All the therapies together apply to 155 patients."
   ]
  },
  {
   "cell_type": "markdown",
   "id": "223e5c28",
   "metadata": {
    "papermill": {
     "duration": 0.016048,
     "end_time": "2021-10-07T10:29:57.236003",
     "exception": false,
     "start_time": "2021-10-07T10:29:57.219955",
     "status": "completed"
    },
    "tags": []
   },
   "source": [
    "#### I hope it might be helpful and any suggestions are welcome  😊😊"
   ]
  }
 ],
 "metadata": {
  "kernelspec": {
   "display_name": "Python 3",
   "language": "python",
   "name": "python3"
  },
  "language_info": {
   "codemirror_mode": {
    "name": "ipython",
    "version": 3
   },
   "file_extension": ".py",
   "mimetype": "text/x-python",
   "name": "python",
   "nbconvert_exporter": "python",
   "pygments_lexer": "ipython3",
   "version": "3.7.10"
  },
  "papermill": {
   "default_parameters": {},
   "duration": 10.794387,
   "end_time": "2021-10-07T10:29:57.861886",
   "environment_variables": {},
   "exception": null,
   "input_path": "__notebook__.ipynb",
   "output_path": "__notebook__.ipynb",
   "parameters": {},
   "start_time": "2021-10-07T10:29:47.067499",
   "version": "2.3.3"
  }
 },
 "nbformat": 4,
 "nbformat_minor": 5
}
